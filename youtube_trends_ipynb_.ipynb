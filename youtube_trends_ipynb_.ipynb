{
  "cells": [
    {
      "cell_type": "code",
      "source": [
        "! gdown 1qa4VOOjn88tSEAXI_f-aKRzKldMdd5xS\n",
        "! pip install -r /content/requirements.txt"
      ],
      "metadata": {
        "id": "cqZKrdKoMTR0",
        "colab": {
          "base_uri": "https://localhost:8080/"
        },
        "outputId": "39198768-7270-4387-c4f0-56a323bf449b"
      },
      "execution_count": null,
      "outputs": [
        {
          "output_type": "stream",
          "name": "stdout",
          "text": [
            "Downloading...\n",
            "From: https://drive.google.com/uc?id=1qa4VOOjn88tSEAXI_f-aKRzKldMdd5xS\n",
            "To: /content/requirements.txt\n",
            "\r  0% 0.00/424 [00:00<?, ?B/s]\r100% 424/424 [00:00<00:00, 1.81MB/s]\n",
            "Requirement already satisfied: catboost==1.2.1 in /usr/local/lib/python3.10/dist-packages (from -r /content/requirements.txt (line 1)) (1.2.1)\n",
            "Requirement already satisfied: gdown==4.6.6 in /usr/local/lib/python3.10/dist-packages (from -r /content/requirements.txt (line 2)) (4.6.6)\n",
            "Requirement already satisfied: h5py==3.9.0 in /usr/local/lib/python3.10/dist-packages (from -r /content/requirements.txt (line 3)) (3.9.0)\n",
            "Requirement already satisfied: hyperopt==0.2.7 in /usr/local/lib/python3.10/dist-packages (from -r /content/requirements.txt (line 4)) (0.2.7)\n",
            "Requirement already satisfied: ipympl==0.9.3 in /usr/local/lib/python3.10/dist-packages (from -r /content/requirements.txt (line 5)) (0.9.3)\n",
            "Requirement already satisfied: ipywidgets==7.7.1 in /usr/local/lib/python3.10/dist-packages (from -r /content/requirements.txt (line 6)) (7.7.1)\n",
            "Requirement already satisfied: keras==2.13.1 in /usr/local/lib/python3.10/dist-packages (from -r /content/requirements.txt (line 7)) (2.13.1)\n",
            "Requirement already satisfied: lightgbm==4.0.0 in /usr/local/lib/python3.10/dist-packages (from -r /content/requirements.txt (line 8)) (4.0.0)\n",
            "Requirement already satisfied: matplotlib==3.7.1 in /usr/local/lib/python3.10/dist-packages (from -r /content/requirements.txt (line 9)) (3.7.1)\n",
            "Requirement already satisfied: matplotlib-inline==0.1.6 in /usr/local/lib/python3.10/dist-packages (from -r /content/requirements.txt (line 10)) (0.1.6)\n",
            "Requirement already satisfied: numpy==1.23.5 in /usr/local/lib/python3.10/dist-packages (from -r /content/requirements.txt (line 11)) (1.23.5)\n",
            "Requirement already satisfied: pandas==1.5.3 in /usr/local/lib/python3.10/dist-packages (from -r /content/requirements.txt (line 12)) (1.5.3)\n",
            "Requirement already satisfied: pep8==1.7.1 in /usr/local/lib/python3.10/dist-packages (from -r /content/requirements.txt (line 13)) (1.7.1)\n",
            "Requirement already satisfied: plotly==5.15.0 in /usr/local/lib/python3.10/dist-packages (from -r /content/requirements.txt (line 14)) (5.15.0)\n",
            "Requirement already satisfied: pycodestyle==2.11.0 in /usr/local/lib/python3.10/dist-packages (from -r /content/requirements.txt (line 15)) (2.11.0)\n",
            "Requirement already satisfied: pytest==7.4.1 in /usr/local/lib/python3.10/dist-packages (from -r /content/requirements.txt (line 16)) (7.4.1)\n",
            "Requirement already satisfied: scikit-image==0.19.3 in /usr/local/lib/python3.10/dist-packages (from -r /content/requirements.txt (line 17)) (0.19.3)\n",
            "Requirement already satisfied: scikit-learn==1.2.2 in /usr/local/lib/python3.10/dist-packages (from -r /content/requirements.txt (line 18)) (1.2.2)\n",
            "Requirement already satisfied: scipy==1.11.2 in /usr/local/lib/python3.10/dist-packages (from -r /content/requirements.txt (line 19)) (1.11.2)\n",
            "Requirement already satisfied: seaborn==0.12.2 in /usr/local/lib/python3.10/dist-packages (from -r /content/requirements.txt (line 20)) (0.12.2)\n",
            "Requirement already satisfied: torch==2.0.1 in /usr/local/lib/python3.10/dist-packages (from -r /content/requirements.txt (line 21)) (2.0.1+cu118)\n",
            "Requirement already satisfied: torchvision==0.15.2 in /usr/local/lib/python3.10/dist-packages (from -r /content/requirements.txt (line 22)) (0.15.2+cu118)\n",
            "Requirement already satisfied: tqdm==4.66.1 in /usr/local/lib/python3.10/dist-packages (from -r /content/requirements.txt (line 23)) (4.66.1)\n",
            "Requirement already satisfied: umap-learn==0.5.3 in /usr/local/lib/python3.10/dist-packages (from -r /content/requirements.txt (line 24)) (0.5.3)\n",
            "Requirement already satisfied: xgboost==1.7.6 in /usr/local/lib/python3.10/dist-packages (from -r /content/requirements.txt (line 25)) (1.7.6)\n",
            "Requirement already satisfied: graphviz in /usr/local/lib/python3.10/dist-packages (from catboost==1.2.1->-r /content/requirements.txt (line 1)) (0.20.1)\n",
            "Requirement already satisfied: six in /usr/local/lib/python3.10/dist-packages (from catboost==1.2.1->-r /content/requirements.txt (line 1)) (1.16.0)\n",
            "Requirement already satisfied: filelock in /usr/local/lib/python3.10/dist-packages (from gdown==4.6.6->-r /content/requirements.txt (line 2)) (3.12.4)\n",
            "Requirement already satisfied: requests[socks] in /usr/local/lib/python3.10/dist-packages (from gdown==4.6.6->-r /content/requirements.txt (line 2)) (2.31.0)\n",
            "Requirement already satisfied: beautifulsoup4 in /usr/local/lib/python3.10/dist-packages (from gdown==4.6.6->-r /content/requirements.txt (line 2)) (4.11.2)\n",
            "Requirement already satisfied: networkx>=2.2 in /usr/local/lib/python3.10/dist-packages (from hyperopt==0.2.7->-r /content/requirements.txt (line 4)) (3.1)\n",
            "Requirement already satisfied: future in /usr/local/lib/python3.10/dist-packages (from hyperopt==0.2.7->-r /content/requirements.txt (line 4)) (0.18.3)\n",
            "Requirement already satisfied: cloudpickle in /usr/local/lib/python3.10/dist-packages (from hyperopt==0.2.7->-r /content/requirements.txt (line 4)) (2.2.1)\n",
            "Requirement already satisfied: py4j in /usr/local/lib/python3.10/dist-packages (from hyperopt==0.2.7->-r /content/requirements.txt (line 4)) (0.10.9.7)\n",
            "Requirement already satisfied: ipython<9 in /usr/local/lib/python3.10/dist-packages (from ipympl==0.9.3->-r /content/requirements.txt (line 5)) (7.34.0)\n",
            "Requirement already satisfied: ipython-genutils in /usr/local/lib/python3.10/dist-packages (from ipympl==0.9.3->-r /content/requirements.txt (line 5)) (0.2.0)\n",
            "Requirement already satisfied: pillow in /usr/local/lib/python3.10/dist-packages (from ipympl==0.9.3->-r /content/requirements.txt (line 5)) (9.4.0)\n",
            "Requirement already satisfied: traitlets<6 in /usr/local/lib/python3.10/dist-packages (from ipympl==0.9.3->-r /content/requirements.txt (line 5)) (5.7.1)\n",
            "Requirement already satisfied: ipykernel>=4.5.1 in /usr/local/lib/python3.10/dist-packages (from ipywidgets==7.7.1->-r /content/requirements.txt (line 6)) (5.5.6)\n",
            "Requirement already satisfied: widgetsnbextension~=3.6.0 in /usr/local/lib/python3.10/dist-packages (from ipywidgets==7.7.1->-r /content/requirements.txt (line 6)) (3.6.6)\n",
            "Requirement already satisfied: jupyterlab-widgets>=1.0.0 in /usr/local/lib/python3.10/dist-packages (from ipywidgets==7.7.1->-r /content/requirements.txt (line 6)) (3.0.9)\n",
            "Requirement already satisfied: contourpy>=1.0.1 in /usr/local/lib/python3.10/dist-packages (from matplotlib==3.7.1->-r /content/requirements.txt (line 9)) (1.1.1)\n",
            "Requirement already satisfied: cycler>=0.10 in /usr/local/lib/python3.10/dist-packages (from matplotlib==3.7.1->-r /content/requirements.txt (line 9)) (0.12.0)\n",
            "Requirement already satisfied: fonttools>=4.22.0 in /usr/local/lib/python3.10/dist-packages (from matplotlib==3.7.1->-r /content/requirements.txt (line 9)) (4.43.1)\n",
            "Requirement already satisfied: kiwisolver>=1.0.1 in /usr/local/lib/python3.10/dist-packages (from matplotlib==3.7.1->-r /content/requirements.txt (line 9)) (1.4.5)\n",
            "Requirement already satisfied: packaging>=20.0 in /usr/local/lib/python3.10/dist-packages (from matplotlib==3.7.1->-r /content/requirements.txt (line 9)) (23.2)\n",
            "Requirement already satisfied: pyparsing>=2.3.1 in /usr/local/lib/python3.10/dist-packages (from matplotlib==3.7.1->-r /content/requirements.txt (line 9)) (3.1.1)\n",
            "Requirement already satisfied: python-dateutil>=2.7 in /usr/local/lib/python3.10/dist-packages (from matplotlib==3.7.1->-r /content/requirements.txt (line 9)) (2.8.2)\n",
            "Requirement already satisfied: pytz>=2020.1 in /usr/local/lib/python3.10/dist-packages (from pandas==1.5.3->-r /content/requirements.txt (line 12)) (2023.3.post1)\n",
            "Requirement already satisfied: tenacity>=6.2.0 in /usr/local/lib/python3.10/dist-packages (from plotly==5.15.0->-r /content/requirements.txt (line 14)) (8.2.3)\n",
            "Requirement already satisfied: iniconfig in /usr/local/lib/python3.10/dist-packages (from pytest==7.4.1->-r /content/requirements.txt (line 16)) (2.0.0)\n",
            "Requirement already satisfied: pluggy<2.0,>=0.12 in /usr/local/lib/python3.10/dist-packages (from pytest==7.4.1->-r /content/requirements.txt (line 16)) (1.3.0)\n",
            "Requirement already satisfied: exceptiongroup>=1.0.0rc8 in /usr/local/lib/python3.10/dist-packages (from pytest==7.4.1->-r /content/requirements.txt (line 16)) (1.1.3)\n",
            "Requirement already satisfied: tomli>=1.0.0 in /usr/local/lib/python3.10/dist-packages (from pytest==7.4.1->-r /content/requirements.txt (line 16)) (2.0.1)\n",
            "Requirement already satisfied: imageio>=2.4.1 in /usr/local/lib/python3.10/dist-packages (from scikit-image==0.19.3->-r /content/requirements.txt (line 17)) (2.31.5)\n",
            "Requirement already satisfied: tifffile>=2019.7.26 in /usr/local/lib/python3.10/dist-packages (from scikit-image==0.19.3->-r /content/requirements.txt (line 17)) (2023.9.26)\n",
            "Requirement already satisfied: PyWavelets>=1.1.1 in /usr/local/lib/python3.10/dist-packages (from scikit-image==0.19.3->-r /content/requirements.txt (line 17)) (1.4.1)\n",
            "Requirement already satisfied: joblib>=1.1.1 in /usr/local/lib/python3.10/dist-packages (from scikit-learn==1.2.2->-r /content/requirements.txt (line 18)) (1.3.2)\n",
            "Requirement already satisfied: threadpoolctl>=2.0.0 in /usr/local/lib/python3.10/dist-packages (from scikit-learn==1.2.2->-r /content/requirements.txt (line 18)) (3.2.0)\n",
            "Requirement already satisfied: typing-extensions in /usr/local/lib/python3.10/dist-packages (from torch==2.0.1->-r /content/requirements.txt (line 21)) (4.5.0)\n",
            "Requirement already satisfied: sympy in /usr/local/lib/python3.10/dist-packages (from torch==2.0.1->-r /content/requirements.txt (line 21)) (1.12)\n",
            "Requirement already satisfied: jinja2 in /usr/local/lib/python3.10/dist-packages (from torch==2.0.1->-r /content/requirements.txt (line 21)) (3.1.2)\n",
            "Requirement already satisfied: triton==2.0.0 in /usr/local/lib/python3.10/dist-packages (from torch==2.0.1->-r /content/requirements.txt (line 21)) (2.0.0)\n",
            "Requirement already satisfied: numba>=0.49 in /usr/local/lib/python3.10/dist-packages (from umap-learn==0.5.3->-r /content/requirements.txt (line 24)) (0.56.4)\n",
            "Requirement already satisfied: pynndescent>=0.5 in /usr/local/lib/python3.10/dist-packages (from umap-learn==0.5.3->-r /content/requirements.txt (line 24)) (0.5.10)\n",
            "Requirement already satisfied: cmake in /usr/local/lib/python3.10/dist-packages (from triton==2.0.0->torch==2.0.1->-r /content/requirements.txt (line 21)) (3.27.6)\n",
            "Requirement already satisfied: lit in /usr/local/lib/python3.10/dist-packages (from triton==2.0.0->torch==2.0.1->-r /content/requirements.txt (line 21)) (17.0.2)\n",
            "Requirement already satisfied: jupyter-client in /usr/local/lib/python3.10/dist-packages (from ipykernel>=4.5.1->ipywidgets==7.7.1->-r /content/requirements.txt (line 6)) (6.1.12)\n",
            "Requirement already satisfied: tornado>=4.2 in /usr/local/lib/python3.10/dist-packages (from ipykernel>=4.5.1->ipywidgets==7.7.1->-r /content/requirements.txt (line 6)) (6.3.2)\n",
            "Requirement already satisfied: setuptools>=18.5 in /usr/local/lib/python3.10/dist-packages (from ipython<9->ipympl==0.9.3->-r /content/requirements.txt (line 5)) (67.7.2)\n",
            "Requirement already satisfied: jedi>=0.16 in /usr/local/lib/python3.10/dist-packages (from ipython<9->ipympl==0.9.3->-r /content/requirements.txt (line 5)) (0.19.1)\n",
            "Requirement already satisfied: decorator in /usr/local/lib/python3.10/dist-packages (from ipython<9->ipympl==0.9.3->-r /content/requirements.txt (line 5)) (4.4.2)\n",
            "Requirement already satisfied: pickleshare in /usr/local/lib/python3.10/dist-packages (from ipython<9->ipympl==0.9.3->-r /content/requirements.txt (line 5)) (0.7.5)\n",
            "Requirement already satisfied: prompt-toolkit!=3.0.0,!=3.0.1,<3.1.0,>=2.0.0 in /usr/local/lib/python3.10/dist-packages (from ipython<9->ipympl==0.9.3->-r /content/requirements.txt (line 5)) (3.0.39)\n",
            "Requirement already satisfied: pygments in /usr/local/lib/python3.10/dist-packages (from ipython<9->ipympl==0.9.3->-r /content/requirements.txt (line 5)) (2.16.1)\n",
            "Requirement already satisfied: backcall in /usr/local/lib/python3.10/dist-packages (from ipython<9->ipympl==0.9.3->-r /content/requirements.txt (line 5)) (0.2.0)\n",
            "Requirement already satisfied: pexpect>4.3 in /usr/local/lib/python3.10/dist-packages (from ipython<9->ipympl==0.9.3->-r /content/requirements.txt (line 5)) (4.8.0)\n",
            "Requirement already satisfied: llvmlite<0.40,>=0.39.0dev0 in /usr/local/lib/python3.10/dist-packages (from numba>=0.49->umap-learn==0.5.3->-r /content/requirements.txt (line 24)) (0.39.1)\n",
            "Requirement already satisfied: notebook>=4.4.1 in /usr/local/lib/python3.10/dist-packages (from widgetsnbextension~=3.6.0->ipywidgets==7.7.1->-r /content/requirements.txt (line 6)) (6.5.5)\n",
            "Requirement already satisfied: soupsieve>1.2 in /usr/local/lib/python3.10/dist-packages (from beautifulsoup4->gdown==4.6.6->-r /content/requirements.txt (line 2)) (2.5)\n",
            "Requirement already satisfied: MarkupSafe>=2.0 in /usr/local/lib/python3.10/dist-packages (from jinja2->torch==2.0.1->-r /content/requirements.txt (line 21)) (2.1.3)\n",
            "Requirement already satisfied: charset-normalizer<4,>=2 in /usr/local/lib/python3.10/dist-packages (from requests[socks]->gdown==4.6.6->-r /content/requirements.txt (line 2)) (3.3.0)\n",
            "Requirement already satisfied: idna<4,>=2.5 in /usr/local/lib/python3.10/dist-packages (from requests[socks]->gdown==4.6.6->-r /content/requirements.txt (line 2)) (3.4)\n",
            "Requirement already satisfied: urllib3<3,>=1.21.1 in /usr/local/lib/python3.10/dist-packages (from requests[socks]->gdown==4.6.6->-r /content/requirements.txt (line 2)) (2.0.6)\n",
            "Requirement already satisfied: certifi>=2017.4.17 in /usr/local/lib/python3.10/dist-packages (from requests[socks]->gdown==4.6.6->-r /content/requirements.txt (line 2)) (2023.7.22)\n",
            "Requirement already satisfied: PySocks!=1.5.7,>=1.5.6 in /usr/local/lib/python3.10/dist-packages (from requests[socks]->gdown==4.6.6->-r /content/requirements.txt (line 2)) (1.7.1)\n",
            "Requirement already satisfied: mpmath>=0.19 in /usr/local/lib/python3.10/dist-packages (from sympy->torch==2.0.1->-r /content/requirements.txt (line 21)) (1.3.0)\n",
            "Requirement already satisfied: parso<0.9.0,>=0.8.3 in /usr/local/lib/python3.10/dist-packages (from jedi>=0.16->ipython<9->ipympl==0.9.3->-r /content/requirements.txt (line 5)) (0.8.3)\n",
            "Requirement already satisfied: pyzmq<25,>=17 in /usr/local/lib/python3.10/dist-packages (from notebook>=4.4.1->widgetsnbextension~=3.6.0->ipywidgets==7.7.1->-r /content/requirements.txt (line 6)) (23.2.1)\n",
            "Requirement already satisfied: argon2-cffi in /usr/local/lib/python3.10/dist-packages (from notebook>=4.4.1->widgetsnbextension~=3.6.0->ipywidgets==7.7.1->-r /content/requirements.txt (line 6)) (23.1.0)\n",
            "Requirement already satisfied: jupyter-core>=4.6.1 in /usr/local/lib/python3.10/dist-packages (from notebook>=4.4.1->widgetsnbextension~=3.6.0->ipywidgets==7.7.1->-r /content/requirements.txt (line 6)) (5.3.2)\n",
            "Requirement already satisfied: nbformat in /usr/local/lib/python3.10/dist-packages (from notebook>=4.4.1->widgetsnbextension~=3.6.0->ipywidgets==7.7.1->-r /content/requirements.txt (line 6)) (5.9.2)\n",
            "Requirement already satisfied: nbconvert>=5 in /usr/local/lib/python3.10/dist-packages (from notebook>=4.4.1->widgetsnbextension~=3.6.0->ipywidgets==7.7.1->-r /content/requirements.txt (line 6)) (6.5.4)\n",
            "Requirement already satisfied: nest-asyncio>=1.5 in /usr/local/lib/python3.10/dist-packages (from notebook>=4.4.1->widgetsnbextension~=3.6.0->ipywidgets==7.7.1->-r /content/requirements.txt (line 6)) (1.5.8)\n",
            "Requirement already satisfied: Send2Trash>=1.8.0 in /usr/local/lib/python3.10/dist-packages (from notebook>=4.4.1->widgetsnbextension~=3.6.0->ipywidgets==7.7.1->-r /content/requirements.txt (line 6)) (1.8.2)\n",
            "Requirement already satisfied: terminado>=0.8.3 in /usr/local/lib/python3.10/dist-packages (from notebook>=4.4.1->widgetsnbextension~=3.6.0->ipywidgets==7.7.1->-r /content/requirements.txt (line 6)) (0.17.1)\n",
            "Requirement already satisfied: prometheus-client in /usr/local/lib/python3.10/dist-packages (from notebook>=4.4.1->widgetsnbextension~=3.6.0->ipywidgets==7.7.1->-r /content/requirements.txt (line 6)) (0.17.1)\n",
            "Requirement already satisfied: nbclassic>=0.4.7 in /usr/local/lib/python3.10/dist-packages (from notebook>=4.4.1->widgetsnbextension~=3.6.0->ipywidgets==7.7.1->-r /content/requirements.txt (line 6)) (1.0.0)\n",
            "Requirement already satisfied: ptyprocess>=0.5 in /usr/local/lib/python3.10/dist-packages (from pexpect>4.3->ipython<9->ipympl==0.9.3->-r /content/requirements.txt (line 5)) (0.7.0)\n",
            "Requirement already satisfied: wcwidth in /usr/local/lib/python3.10/dist-packages (from prompt-toolkit!=3.0.0,!=3.0.1,<3.1.0,>=2.0.0->ipython<9->ipympl==0.9.3->-r /content/requirements.txt (line 5)) (0.2.8)\n",
            "Requirement already satisfied: platformdirs>=2.5 in /usr/local/lib/python3.10/dist-packages (from jupyter-core>=4.6.1->notebook>=4.4.1->widgetsnbextension~=3.6.0->ipywidgets==7.7.1->-r /content/requirements.txt (line 6)) (3.11.0)\n",
            "Requirement already satisfied: jupyter-server>=1.8 in /usr/local/lib/python3.10/dist-packages (from nbclassic>=0.4.7->notebook>=4.4.1->widgetsnbextension~=3.6.0->ipywidgets==7.7.1->-r /content/requirements.txt (line 6)) (1.24.0)\n",
            "Requirement already satisfied: notebook-shim>=0.2.3 in /usr/local/lib/python3.10/dist-packages (from nbclassic>=0.4.7->notebook>=4.4.1->widgetsnbextension~=3.6.0->ipywidgets==7.7.1->-r /content/requirements.txt (line 6)) (0.2.3)\n",
            "Requirement already satisfied: lxml in /usr/local/lib/python3.10/dist-packages (from nbconvert>=5->notebook>=4.4.1->widgetsnbextension~=3.6.0->ipywidgets==7.7.1->-r /content/requirements.txt (line 6)) (4.9.3)\n",
            "Requirement already satisfied: bleach in /usr/local/lib/python3.10/dist-packages (from nbconvert>=5->notebook>=4.4.1->widgetsnbextension~=3.6.0->ipywidgets==7.7.1->-r /content/requirements.txt (line 6)) (6.0.0)\n",
            "Requirement already satisfied: defusedxml in /usr/local/lib/python3.10/dist-packages (from nbconvert>=5->notebook>=4.4.1->widgetsnbextension~=3.6.0->ipywidgets==7.7.1->-r /content/requirements.txt (line 6)) (0.7.1)\n",
            "Requirement already satisfied: entrypoints>=0.2.2 in /usr/local/lib/python3.10/dist-packages (from nbconvert>=5->notebook>=4.4.1->widgetsnbextension~=3.6.0->ipywidgets==7.7.1->-r /content/requirements.txt (line 6)) (0.4)\n",
            "Requirement already satisfied: jupyterlab-pygments in /usr/local/lib/python3.10/dist-packages (from nbconvert>=5->notebook>=4.4.1->widgetsnbextension~=3.6.0->ipywidgets==7.7.1->-r /content/requirements.txt (line 6)) (0.2.2)\n",
            "Requirement already satisfied: mistune<2,>=0.8.1 in /usr/local/lib/python3.10/dist-packages (from nbconvert>=5->notebook>=4.4.1->widgetsnbextension~=3.6.0->ipywidgets==7.7.1->-r /content/requirements.txt (line 6)) (0.8.4)\n",
            "Requirement already satisfied: nbclient>=0.5.0 in /usr/local/lib/python3.10/dist-packages (from nbconvert>=5->notebook>=4.4.1->widgetsnbextension~=3.6.0->ipywidgets==7.7.1->-r /content/requirements.txt (line 6)) (0.8.0)\n",
            "Requirement already satisfied: pandocfilters>=1.4.1 in /usr/local/lib/python3.10/dist-packages (from nbconvert>=5->notebook>=4.4.1->widgetsnbextension~=3.6.0->ipywidgets==7.7.1->-r /content/requirements.txt (line 6)) (1.5.0)\n",
            "Requirement already satisfied: tinycss2 in /usr/local/lib/python3.10/dist-packages (from nbconvert>=5->notebook>=4.4.1->widgetsnbextension~=3.6.0->ipywidgets==7.7.1->-r /content/requirements.txt (line 6)) (1.2.1)\n",
            "Requirement already satisfied: fastjsonschema in /usr/local/lib/python3.10/dist-packages (from nbformat->notebook>=4.4.1->widgetsnbextension~=3.6.0->ipywidgets==7.7.1->-r /content/requirements.txt (line 6)) (2.18.1)\n",
            "Requirement already satisfied: jsonschema>=2.6 in /usr/local/lib/python3.10/dist-packages (from nbformat->notebook>=4.4.1->widgetsnbextension~=3.6.0->ipywidgets==7.7.1->-r /content/requirements.txt (line 6)) (4.19.1)\n",
            "Requirement already satisfied: argon2-cffi-bindings in /usr/local/lib/python3.10/dist-packages (from argon2-cffi->notebook>=4.4.1->widgetsnbextension~=3.6.0->ipywidgets==7.7.1->-r /content/requirements.txt (line 6)) (21.2.0)\n",
            "Requirement already satisfied: attrs>=22.2.0 in /usr/local/lib/python3.10/dist-packages (from jsonschema>=2.6->nbformat->notebook>=4.4.1->widgetsnbextension~=3.6.0->ipywidgets==7.7.1->-r /content/requirements.txt (line 6)) (23.1.0)\n",
            "Requirement already satisfied: jsonschema-specifications>=2023.03.6 in /usr/local/lib/python3.10/dist-packages (from jsonschema>=2.6->nbformat->notebook>=4.4.1->widgetsnbextension~=3.6.0->ipywidgets==7.7.1->-r /content/requirements.txt (line 6)) (2023.7.1)\n",
            "Requirement already satisfied: referencing>=0.28.4 in /usr/local/lib/python3.10/dist-packages (from jsonschema>=2.6->nbformat->notebook>=4.4.1->widgetsnbextension~=3.6.0->ipywidgets==7.7.1->-r /content/requirements.txt (line 6)) (0.30.2)\n",
            "Requirement already satisfied: rpds-py>=0.7.1 in /usr/local/lib/python3.10/dist-packages (from jsonschema>=2.6->nbformat->notebook>=4.4.1->widgetsnbextension~=3.6.0->ipywidgets==7.7.1->-r /content/requirements.txt (line 6)) (0.10.4)\n",
            "Requirement already satisfied: anyio<4,>=3.1.0 in /usr/local/lib/python3.10/dist-packages (from jupyter-server>=1.8->nbclassic>=0.4.7->notebook>=4.4.1->widgetsnbextension~=3.6.0->ipywidgets==7.7.1->-r /content/requirements.txt (line 6)) (3.7.1)\n",
            "Requirement already satisfied: websocket-client in /usr/local/lib/python3.10/dist-packages (from jupyter-server>=1.8->nbclassic>=0.4.7->notebook>=4.4.1->widgetsnbextension~=3.6.0->ipywidgets==7.7.1->-r /content/requirements.txt (line 6)) (1.6.3)\n",
            "Requirement already satisfied: cffi>=1.0.1 in /usr/local/lib/python3.10/dist-packages (from argon2-cffi-bindings->argon2-cffi->notebook>=4.4.1->widgetsnbextension~=3.6.0->ipywidgets==7.7.1->-r /content/requirements.txt (line 6)) (1.16.0)\n",
            "Requirement already satisfied: webencodings in /usr/local/lib/python3.10/dist-packages (from bleach->nbconvert>=5->notebook>=4.4.1->widgetsnbextension~=3.6.0->ipywidgets==7.7.1->-r /content/requirements.txt (line 6)) (0.5.1)\n",
            "Requirement already satisfied: sniffio>=1.1 in /usr/local/lib/python3.10/dist-packages (from anyio<4,>=3.1.0->jupyter-server>=1.8->nbclassic>=0.4.7->notebook>=4.4.1->widgetsnbextension~=3.6.0->ipywidgets==7.7.1->-r /content/requirements.txt (line 6)) (1.3.0)\n",
            "Requirement already satisfied: pycparser in /usr/local/lib/python3.10/dist-packages (from cffi>=1.0.1->argon2-cffi-bindings->argon2-cffi->notebook>=4.4.1->widgetsnbextension~=3.6.0->ipywidgets==7.7.1->-r /content/requirements.txt (line 6)) (2.21)\n"
          ]
        }
      ],
      "id": "cqZKrdKoMTR0"
    },
    {
      "cell_type": "code",
      "source": [
        "import catboost\n",
        "assert(catboost.__version__ == '1.2.1')"
      ],
      "metadata": {
        "id": "-DWuoEsQMYnb"
      },
      "execution_count": null,
      "outputs": [],
      "id": "-DWuoEsQMYnb"
    },
    {
      "cell_type": "markdown",
      "source": [
        "-----------\n",
        "<font color=\"white\" style=\"opacity:0.2023\"></font>"
      ],
      "metadata": {
        "id": "UvjWVlhmE_BK"
      },
      "id": "UvjWVlhmE_BK"
    },
    {
      "cell_type": "code",
      "execution_count": null,
      "id": "044f67ae",
      "metadata": {
        "run_control": {
          "frozen": false,
          "read_only": false
        },
        "id": "044f67ae"
      },
      "outputs": [],
      "source": [
        "import pandas as pd"
      ]
    },
    {
      "cell_type": "code",
      "source": [
        "!gdown 1sA-fqJb1WxhS_jaYDcIwXWa_b8b2oZJ6"
      ],
      "metadata": {
        "id": "Sgb_YbNxa131",
        "outputId": "ada65285-6e40-4902-9da3-20abbaec5e41",
        "colab": {
          "base_uri": "https://localhost:8080/"
        }
      },
      "id": "Sgb_YbNxa131",
      "execution_count": null,
      "outputs": [
        {
          "output_type": "stream",
          "name": "stdout",
          "text": [
            "Downloading...\n",
            "From: https://drive.google.com/uc?id=1sA-fqJb1WxhS_jaYDcIwXWa_b8b2oZJ6\n",
            "To: /content/youtube_trending_mediterranean.csv\n",
            "\r  0% 0.00/6.22M [00:00<?, ?B/s]\r100% 6.22M/6.22M [00:00<00:00, 245MB/s]\n"
          ]
        }
      ]
    },
    {
      "cell_type": "markdown",
      "source": [],
      "metadata": {
        "id": "9FkB0u73fJSt"
      },
      "id": "9FkB0u73fJSt"
    },
    {
      "cell_type": "markdown",
      "source": [
        "# Часть 1. Анализ данных"
      ],
      "metadata": {
        "id": "uHXgYG0ifG1V"
      },
      "id": "uHXgYG0ifG1V"
    },
    {
      "cell_type": "markdown",
      "id": "607cf267",
      "metadata": {
        "run_control": {
          "frozen": false,
          "read_only": false
        },
        "id": "607cf267"
      },
      "source": [
        "#### Открытие файла с таблицей, вывод последних 5 строк и информации о таблице.\n"
      ]
    },
    {
      "cell_type": "code",
      "execution_count": null,
      "id": "2216fa8d",
      "metadata": {
        "run_control": {
          "frozen": false,
          "read_only": false
        },
        "id": "2216fa8d",
        "colab": {
          "base_uri": "https://localhost:8080/",
          "height": 798
        },
        "outputId": "219c5982-70f8-4095-dd07-896cc64fc2c1"
      },
      "outputs": [
        {
          "output_type": "execute_result",
          "data": {
            "text/plain": [
              "     country     video_id  \\\n",
              "3216     NaN  eB-A1Y0Dswc   \n",
              "3217     NaN  KJGTtzccOHU   \n",
              "3218     NaN  be8mqaTi_DI   \n",
              "3219     NaN  14aYHc7ybu0   \n",
              "3220     NaN  mQ9eFI13NCQ   \n",
              "\n",
              "                                                                                    title  \\\n",
              "3216                                                               Thank you for watching   \n",
              "3217                                 Pokemon Emerald but every battle is extremely unfair   \n",
              "3218  Victor Cibrian x Fuerza Regida x Luis R Conriquez - Por Apodo Soy Sobrino [En Vivo]   \n",
              "3219                           WE STAYED AT A 1 STAR HOTEL FOR 24 HOURS | cockroach scare   \n",
              "3220                    I 100%'d Cuphead: The Delicious Last Course, Here's What Happened   \n",
              "\n",
              "               publishedAt                 channelId  \\\n",
              "3216  2022-07-05T21:18:33Z  UCS5tt2z_DFvG7-39J3aE-bQ   \n",
              "3217  2022-07-05T01:55:10Z  UC0VVYtw21rg2cokUystu2Dw   \n",
              "3218  2022-07-04T21:00:36Z  UC648rgJOboZlgcDbW00vTSA   \n",
              "3219  2022-07-05T13:40:04Z  UCSGoIq_tVESqNYF1Re-zn1Q   \n",
              "3220  2022-07-04T16:04:33Z  UCRgzckrm1Svf-Y_dIWsTPTg   \n",
              "\n",
              "                  channelTitle  categoryId trending_date  \\\n",
              "3216             Life of Boris          22      22.11.07   \n",
              "3217                  SmallAnt          20      22.11.07   \n",
              "3218            Rancho Humilde          10      22.11.07   \n",
              "3219                 HJ Evelyn          24      22.11.07   \n",
              "3220  The Andrew Collette Show          20      22.11.07   \n",
              "\n",
              "                                                                                                                                                                                                         tags  \\\n",
              "3216                                                                                                         lifeofboris|life of boris|english subtitles|yellow tracksuit|accent|life of boris youtube|gaming   \n",
              "3217                                                                                             pokemon|smallant|smallant1|challenge|pokemon challenge|is it possible|emerald|pokemon emerald|rse|unfair|1v2   \n",
              "3218  Rancho Humilde|Legado 7|El De La Guitarra|Fuerza Regida|Banda|Musica Mexicana|Regional Mexicano|Herencia De Patrones|Luis R Conriquez|Victor Cibrian|La Decima Banda|Kartel Music|Street Mob|Rancho|...   \n",
              "3219  hjevelyn|Evelyn ha|Emily ha|erica ha|korean siblings|korean sisters|siblings|hjevelyn room tour|hjevelyn speaking in korean|hjevelyn nyc|nyc|New York city|blackpink|kpop|BTS|24 hour challenges|Mic...   \n",
              "3220  cuphead|cuphead dlc|cuphead the delicious last course|the cuphead show|cuphead all bosses|the delicious last course|cuphead gameplay|cuphead dlc gameplay|cuphead the delicious last course gameplay...   \n",
              "\n",
              "      view_count  comment_count  \\\n",
              "3216      864216          14431   \n",
              "3217     1311698           1232   \n",
              "3218     2256933            597   \n",
              "3219      922668           2951   \n",
              "3220     1176289            620   \n",
              "\n",
              "                                      thumbnail_link  comments_disabled  \\\n",
              "3216  https://i.ytimg.com/vi/eB-A1Y0Dswc/default.jpg              False   \n",
              "3217  https://i.ytimg.com/vi/KJGTtzccOHU/default.jpg              False   \n",
              "3218  https://i.ytimg.com/vi/be8mqaTi_DI/default.jpg              False   \n",
              "3219  https://i.ytimg.com/vi/14aYHc7ybu0/default.jpg              False   \n",
              "3220  https://i.ytimg.com/vi/mQ9eFI13NCQ/default.jpg              False   \n",
              "\n",
              "      ratings_disabled  \\\n",
              "3216              True   \n",
              "3217              True   \n",
              "3218              True   \n",
              "3219              True   \n",
              "3220              True   \n",
              "\n",
              "                                                                                                                                                                                                  description  \n",
              "3216  New channel: https://www.youtube.com/channel/UCcQdT-hLr2_Fz5J0VqlurKQProudly powered by Patreon: https://patreon.com/lifeofborisTrue Slav Merch Shop: https://www.borismerch.com/Boris chairs and Ga...  \n",
              "3217  Pokemon emerald but every battle is a 1v2You should watch me live on Twitch:https://twitch.tv/Smallantâ¶Discord: https://discord.gg/Smallantâ¶Twitter: https://twitter.com/Smallantâ¶Reddit: http...  \n",
              "3218  SuscrÃ­bete: https://Rancho.lnk.to/RHYoutube\\rVictor Cibrian x Fuerza Regida x Luis R Conriquez - Por Apodo Soy Sobrino [En Vivo]\\r\\rVictor Cibrian x Fuerza Regida x Luis R Conriquez - Por Apodo S...  \n",
              "3219  never again ahaha.... CHECK OUT OUR MERCH: https://fanjoy.co/collections/hasistersð· INSTAGRAM: @hasistersofficialhttps://www.instagram.com/hasistersofficial/Personals:ð·INSTAGRAM: @hjevelyn h...  \n",
              "3220  My Cuphead: The Delicious Last Course Let's Play throughout inkwell Isle Four! Was the cuphead DLC worth the wait?  Can I do a Cuphead DLC 100 percent run?LIVE CHANNEL âºâº https://bit.ly/3yhMPA...  "
            ],
            "text/html": [
              "\n",
              "  <div id=\"df-6d161304-6560-4e2a-9c12-4c1e1fb1b140\" class=\"colab-df-container\">\n",
              "    <div>\n",
              "<style scoped>\n",
              "    .dataframe tbody tr th:only-of-type {\n",
              "        vertical-align: middle;\n",
              "    }\n",
              "\n",
              "    .dataframe tbody tr th {\n",
              "        vertical-align: top;\n",
              "    }\n",
              "\n",
              "    .dataframe thead th {\n",
              "        text-align: right;\n",
              "    }\n",
              "</style>\n",
              "<table border=\"1\" class=\"dataframe\">\n",
              "  <thead>\n",
              "    <tr style=\"text-align: right;\">\n",
              "      <th></th>\n",
              "      <th>country</th>\n",
              "      <th>video_id</th>\n",
              "      <th>title</th>\n",
              "      <th>publishedAt</th>\n",
              "      <th>channelId</th>\n",
              "      <th>channelTitle</th>\n",
              "      <th>categoryId</th>\n",
              "      <th>trending_date</th>\n",
              "      <th>tags</th>\n",
              "      <th>view_count</th>\n",
              "      <th>comment_count</th>\n",
              "      <th>thumbnail_link</th>\n",
              "      <th>comments_disabled</th>\n",
              "      <th>ratings_disabled</th>\n",
              "      <th>description</th>\n",
              "    </tr>\n",
              "  </thead>\n",
              "  <tbody>\n",
              "    <tr>\n",
              "      <th>3216</th>\n",
              "      <td>NaN</td>\n",
              "      <td>eB-A1Y0Dswc</td>\n",
              "      <td>Thank you for watching</td>\n",
              "      <td>2022-07-05T21:18:33Z</td>\n",
              "      <td>UCS5tt2z_DFvG7-39J3aE-bQ</td>\n",
              "      <td>Life of Boris</td>\n",
              "      <td>22</td>\n",
              "      <td>22.11.07</td>\n",
              "      <td>lifeofboris|life of boris|english subtitles|yellow tracksuit|accent|life of boris youtube|gaming</td>\n",
              "      <td>864216</td>\n",
              "      <td>14431</td>\n",
              "      <td>https://i.ytimg.com/vi/eB-A1Y0Dswc/default.jpg</td>\n",
              "      <td>False</td>\n",
              "      <td>True</td>\n",
              "      <td>New channel: https://www.youtube.com/channel/UCcQdT-hLr2_Fz5J0VqlurKQProudly powered by Patreon: https://patreon.com/lifeofborisTrue Slav Merch Shop: https://www.borismerch.com/Boris chairs and Ga...</td>\n",
              "    </tr>\n",
              "    <tr>\n",
              "      <th>3217</th>\n",
              "      <td>NaN</td>\n",
              "      <td>KJGTtzccOHU</td>\n",
              "      <td>Pokemon Emerald but every battle is extremely unfair</td>\n",
              "      <td>2022-07-05T01:55:10Z</td>\n",
              "      <td>UC0VVYtw21rg2cokUystu2Dw</td>\n",
              "      <td>SmallAnt</td>\n",
              "      <td>20</td>\n",
              "      <td>22.11.07</td>\n",
              "      <td>pokemon|smallant|smallant1|challenge|pokemon challenge|is it possible|emerald|pokemon emerald|rse|unfair|1v2</td>\n",
              "      <td>1311698</td>\n",
              "      <td>1232</td>\n",
              "      <td>https://i.ytimg.com/vi/KJGTtzccOHU/default.jpg</td>\n",
              "      <td>False</td>\n",
              "      <td>True</td>\n",
              "      <td>Pokemon emerald but every battle is a 1v2You should watch me live on Twitch:https://twitch.tv/Smallantâ¶Discord: https://discord.gg/Smallantâ¶Twitter: https://twitter.com/Smallantâ¶Reddit: http...</td>\n",
              "    </tr>\n",
              "    <tr>\n",
              "      <th>3218</th>\n",
              "      <td>NaN</td>\n",
              "      <td>be8mqaTi_DI</td>\n",
              "      <td>Victor Cibrian x Fuerza Regida x Luis R Conriquez - Por Apodo Soy Sobrino [En Vivo]</td>\n",
              "      <td>2022-07-04T21:00:36Z</td>\n",
              "      <td>UC648rgJOboZlgcDbW00vTSA</td>\n",
              "      <td>Rancho Humilde</td>\n",
              "      <td>10</td>\n",
              "      <td>22.11.07</td>\n",
              "      <td>Rancho Humilde|Legado 7|El De La Guitarra|Fuerza Regida|Banda|Musica Mexicana|Regional Mexicano|Herencia De Patrones|Luis R Conriquez|Victor Cibrian|La Decima Banda|Kartel Music|Street Mob|Rancho|...</td>\n",
              "      <td>2256933</td>\n",
              "      <td>597</td>\n",
              "      <td>https://i.ytimg.com/vi/be8mqaTi_DI/default.jpg</td>\n",
              "      <td>False</td>\n",
              "      <td>True</td>\n",
              "      <td>SuscrÃ­bete: https://Rancho.lnk.to/RHYoutube\\rVictor Cibrian x Fuerza Regida x Luis R Conriquez - Por Apodo Soy Sobrino [En Vivo]\\r\\rVictor Cibrian x Fuerza Regida x Luis R Conriquez - Por Apodo S...</td>\n",
              "    </tr>\n",
              "    <tr>\n",
              "      <th>3219</th>\n",
              "      <td>NaN</td>\n",
              "      <td>14aYHc7ybu0</td>\n",
              "      <td>WE STAYED AT A 1 STAR HOTEL FOR 24 HOURS | cockroach scare</td>\n",
              "      <td>2022-07-05T13:40:04Z</td>\n",
              "      <td>UCSGoIq_tVESqNYF1Re-zn1Q</td>\n",
              "      <td>HJ Evelyn</td>\n",
              "      <td>24</td>\n",
              "      <td>22.11.07</td>\n",
              "      <td>hjevelyn|Evelyn ha|Emily ha|erica ha|korean siblings|korean sisters|siblings|hjevelyn room tour|hjevelyn speaking in korean|hjevelyn nyc|nyc|New York city|blackpink|kpop|BTS|24 hour challenges|Mic...</td>\n",
              "      <td>922668</td>\n",
              "      <td>2951</td>\n",
              "      <td>https://i.ytimg.com/vi/14aYHc7ybu0/default.jpg</td>\n",
              "      <td>False</td>\n",
              "      <td>True</td>\n",
              "      <td>never again ahaha.... CHECK OUT OUR MERCH: https://fanjoy.co/collections/hasistersð· INSTAGRAM: @hasistersofficialhttps://www.instagram.com/hasistersofficial/Personals:ð·INSTAGRAM: @hjevelyn h...</td>\n",
              "    </tr>\n",
              "    <tr>\n",
              "      <th>3220</th>\n",
              "      <td>NaN</td>\n",
              "      <td>mQ9eFI13NCQ</td>\n",
              "      <td>I 100%'d Cuphead: The Delicious Last Course, Here's What Happened</td>\n",
              "      <td>2022-07-04T16:04:33Z</td>\n",
              "      <td>UCRgzckrm1Svf-Y_dIWsTPTg</td>\n",
              "      <td>The Andrew Collette Show</td>\n",
              "      <td>20</td>\n",
              "      <td>22.11.07</td>\n",
              "      <td>cuphead|cuphead dlc|cuphead the delicious last course|the cuphead show|cuphead all bosses|the delicious last course|cuphead gameplay|cuphead dlc gameplay|cuphead the delicious last course gameplay...</td>\n",
              "      <td>1176289</td>\n",
              "      <td>620</td>\n",
              "      <td>https://i.ytimg.com/vi/mQ9eFI13NCQ/default.jpg</td>\n",
              "      <td>False</td>\n",
              "      <td>True</td>\n",
              "      <td>My Cuphead: The Delicious Last Course Let's Play throughout inkwell Isle Four! Was the cuphead DLC worth the wait?  Can I do a Cuphead DLC 100 percent run?LIVE CHANNEL âºâº https://bit.ly/3yhMPA...</td>\n",
              "    </tr>\n",
              "  </tbody>\n",
              "</table>\n",
              "</div>\n",
              "    <div class=\"colab-df-buttons\">\n",
              "\n",
              "  <div class=\"colab-df-container\">\n",
              "    <button class=\"colab-df-convert\" onclick=\"convertToInteractive('df-6d161304-6560-4e2a-9c12-4c1e1fb1b140')\"\n",
              "            title=\"Convert this dataframe to an interactive table.\"\n",
              "            style=\"display:none;\">\n",
              "\n",
              "  <svg xmlns=\"http://www.w3.org/2000/svg\" height=\"24px\" viewBox=\"0 -960 960 960\">\n",
              "    <path d=\"M120-120v-720h720v720H120Zm60-500h600v-160H180v160Zm220 220h160v-160H400v160Zm0 220h160v-160H400v160ZM180-400h160v-160H180v160Zm440 0h160v-160H620v160ZM180-180h160v-160H180v160Zm440 0h160v-160H620v160Z\"/>\n",
              "  </svg>\n",
              "    </button>\n",
              "\n",
              "  <style>\n",
              "    .colab-df-container {\n",
              "      display:flex;\n",
              "      gap: 12px;\n",
              "    }\n",
              "\n",
              "    .colab-df-convert {\n",
              "      background-color: #E8F0FE;\n",
              "      border: none;\n",
              "      border-radius: 50%;\n",
              "      cursor: pointer;\n",
              "      display: none;\n",
              "      fill: #1967D2;\n",
              "      height: 32px;\n",
              "      padding: 0 0 0 0;\n",
              "      width: 32px;\n",
              "    }\n",
              "\n",
              "    .colab-df-convert:hover {\n",
              "      background-color: #E2EBFA;\n",
              "      box-shadow: 0px 1px 2px rgba(60, 64, 67, 0.3), 0px 1px 3px 1px rgba(60, 64, 67, 0.15);\n",
              "      fill: #174EA6;\n",
              "    }\n",
              "\n",
              "    .colab-df-buttons div {\n",
              "      margin-bottom: 4px;\n",
              "    }\n",
              "\n",
              "    [theme=dark] .colab-df-convert {\n",
              "      background-color: #3B4455;\n",
              "      fill: #D2E3FC;\n",
              "    }\n",
              "\n",
              "    [theme=dark] .colab-df-convert:hover {\n",
              "      background-color: #434B5C;\n",
              "      box-shadow: 0px 1px 3px 1px rgba(0, 0, 0, 0.15);\n",
              "      filter: drop-shadow(0px 1px 2px rgba(0, 0, 0, 0.3));\n",
              "      fill: #FFFFFF;\n",
              "    }\n",
              "  </style>\n",
              "\n",
              "    <script>\n",
              "      const buttonEl =\n",
              "        document.querySelector('#df-6d161304-6560-4e2a-9c12-4c1e1fb1b140 button.colab-df-convert');\n",
              "      buttonEl.style.display =\n",
              "        google.colab.kernel.accessAllowed ? 'block' : 'none';\n",
              "\n",
              "      async function convertToInteractive(key) {\n",
              "        const element = document.querySelector('#df-6d161304-6560-4e2a-9c12-4c1e1fb1b140');\n",
              "        const dataTable =\n",
              "          await google.colab.kernel.invokeFunction('convertToInteractive',\n",
              "                                                    [key], {});\n",
              "        if (!dataTable) return;\n",
              "\n",
              "        const docLinkHtml = 'Like what you see? Visit the ' +\n",
              "          '<a target=\"_blank\" href=https://colab.research.google.com/notebooks/data_table.ipynb>data table notebook</a>'\n",
              "          + ' to learn more about interactive tables.';\n",
              "        element.innerHTML = '';\n",
              "        dataTable['output_type'] = 'display_data';\n",
              "        await google.colab.output.renderOutput(dataTable, element);\n",
              "        const docLink = document.createElement('div');\n",
              "        docLink.innerHTML = docLinkHtml;\n",
              "        element.appendChild(docLink);\n",
              "      }\n",
              "    </script>\n",
              "  </div>\n",
              "\n",
              "\n",
              "<div id=\"df-5c01eeea-91fd-4217-bca0-5bc4ce3b98a7\">\n",
              "  <button class=\"colab-df-quickchart\" onclick=\"quickchart('df-5c01eeea-91fd-4217-bca0-5bc4ce3b98a7')\"\n",
              "            title=\"Suggest charts.\"\n",
              "            style=\"display:none;\">\n",
              "\n",
              "<svg xmlns=\"http://www.w3.org/2000/svg\" height=\"24px\"viewBox=\"0 0 24 24\"\n",
              "     width=\"24px\">\n",
              "    <g>\n",
              "        <path d=\"M19 3H5c-1.1 0-2 .9-2 2v14c0 1.1.9 2 2 2h14c1.1 0 2-.9 2-2V5c0-1.1-.9-2-2-2zM9 17H7v-7h2v7zm4 0h-2V7h2v10zm4 0h-2v-4h2v4z\"/>\n",
              "    </g>\n",
              "</svg>\n",
              "  </button>\n",
              "\n",
              "<style>\n",
              "  .colab-df-quickchart {\n",
              "      --bg-color: #E8F0FE;\n",
              "      --fill-color: #1967D2;\n",
              "      --hover-bg-color: #E2EBFA;\n",
              "      --hover-fill-color: #174EA6;\n",
              "      --disabled-fill-color: #AAA;\n",
              "      --disabled-bg-color: #DDD;\n",
              "  }\n",
              "\n",
              "  [theme=dark] .colab-df-quickchart {\n",
              "      --bg-color: #3B4455;\n",
              "      --fill-color: #D2E3FC;\n",
              "      --hover-bg-color: #434B5C;\n",
              "      --hover-fill-color: #FFFFFF;\n",
              "      --disabled-bg-color: #3B4455;\n",
              "      --disabled-fill-color: #666;\n",
              "  }\n",
              "\n",
              "  .colab-df-quickchart {\n",
              "    background-color: var(--bg-color);\n",
              "    border: none;\n",
              "    border-radius: 50%;\n",
              "    cursor: pointer;\n",
              "    display: none;\n",
              "    fill: var(--fill-color);\n",
              "    height: 32px;\n",
              "    padding: 0;\n",
              "    width: 32px;\n",
              "  }\n",
              "\n",
              "  .colab-df-quickchart:hover {\n",
              "    background-color: var(--hover-bg-color);\n",
              "    box-shadow: 0 1px 2px rgba(60, 64, 67, 0.3), 0 1px 3px 1px rgba(60, 64, 67, 0.15);\n",
              "    fill: var(--button-hover-fill-color);\n",
              "  }\n",
              "\n",
              "  .colab-df-quickchart-complete:disabled,\n",
              "  .colab-df-quickchart-complete:disabled:hover {\n",
              "    background-color: var(--disabled-bg-color);\n",
              "    fill: var(--disabled-fill-color);\n",
              "    box-shadow: none;\n",
              "  }\n",
              "\n",
              "  .colab-df-spinner {\n",
              "    border: 2px solid var(--fill-color);\n",
              "    border-color: transparent;\n",
              "    border-bottom-color: var(--fill-color);\n",
              "    animation:\n",
              "      spin 1s steps(1) infinite;\n",
              "  }\n",
              "\n",
              "  @keyframes spin {\n",
              "    0% {\n",
              "      border-color: transparent;\n",
              "      border-bottom-color: var(--fill-color);\n",
              "      border-left-color: var(--fill-color);\n",
              "    }\n",
              "    20% {\n",
              "      border-color: transparent;\n",
              "      border-left-color: var(--fill-color);\n",
              "      border-top-color: var(--fill-color);\n",
              "    }\n",
              "    30% {\n",
              "      border-color: transparent;\n",
              "      border-left-color: var(--fill-color);\n",
              "      border-top-color: var(--fill-color);\n",
              "      border-right-color: var(--fill-color);\n",
              "    }\n",
              "    40% {\n",
              "      border-color: transparent;\n",
              "      border-right-color: var(--fill-color);\n",
              "      border-top-color: var(--fill-color);\n",
              "    }\n",
              "    60% {\n",
              "      border-color: transparent;\n",
              "      border-right-color: var(--fill-color);\n",
              "    }\n",
              "    80% {\n",
              "      border-color: transparent;\n",
              "      border-right-color: var(--fill-color);\n",
              "      border-bottom-color: var(--fill-color);\n",
              "    }\n",
              "    90% {\n",
              "      border-color: transparent;\n",
              "      border-bottom-color: var(--fill-color);\n",
              "    }\n",
              "  }\n",
              "</style>\n",
              "\n",
              "  <script>\n",
              "    async function quickchart(key) {\n",
              "      const quickchartButtonEl =\n",
              "        document.querySelector('#' + key + ' button');\n",
              "      quickchartButtonEl.disabled = true;  // To prevent multiple clicks.\n",
              "      quickchartButtonEl.classList.add('colab-df-spinner');\n",
              "      try {\n",
              "        const charts = await google.colab.kernel.invokeFunction(\n",
              "            'suggestCharts', [key], {});\n",
              "      } catch (error) {\n",
              "        console.error('Error during call to suggestCharts:', error);\n",
              "      }\n",
              "      quickchartButtonEl.classList.remove('colab-df-spinner');\n",
              "      quickchartButtonEl.classList.add('colab-df-quickchart-complete');\n",
              "    }\n",
              "    (() => {\n",
              "      let quickchartButtonEl =\n",
              "        document.querySelector('#df-5c01eeea-91fd-4217-bca0-5bc4ce3b98a7 button');\n",
              "      quickchartButtonEl.style.display =\n",
              "        google.colab.kernel.accessAllowed ? 'block' : 'none';\n",
              "    })();\n",
              "  </script>\n",
              "</div>\n",
              "    </div>\n",
              "  </div>\n"
            ]
          },
          "metadata": {},
          "execution_count": 129
        }
      ],
      "source": [
        "data = pd.read_csv(\"/content/youtube_trending_mediterranean.csv\")\n",
        "data.tail(n=5)"
      ]
    },
    {
      "cell_type": "code",
      "execution_count": null,
      "id": "ba33ed6b",
      "metadata": {
        "run_control": {
          "frozen": false,
          "read_only": false
        },
        "id": "ba33ed6b",
        "colab": {
          "base_uri": "https://localhost:8080/"
        },
        "outputId": "0b6e39f7-7607-46d0-84b4-572007771eb8"
      },
      "outputs": [
        {
          "output_type": "stream",
          "name": "stdout",
          "text": [
            "<class 'pandas.core.frame.DataFrame'>\n",
            "RangeIndex: 3221 entries, 0 to 3220\n",
            "Data columns (total 15 columns):\n",
            " #   Column             Non-Null Count  Dtype \n",
            "---  ------             --------------  ----- \n",
            " 0   country            3021 non-null   object\n",
            " 1   video_id           3221 non-null   object\n",
            " 2   title              3221 non-null   object\n",
            " 3   publishedAt        3221 non-null   object\n",
            " 4   channelId          3221 non-null   object\n",
            " 5   channelTitle       3221 non-null   object\n",
            " 6   categoryId         3221 non-null   int64 \n",
            " 7   trending_date      3221 non-null   object\n",
            " 8   tags               3221 non-null   object\n",
            " 9   view_count         3221 non-null   int64 \n",
            " 10  comment_count      3221 non-null   int64 \n",
            " 11  thumbnail_link     3221 non-null   object\n",
            " 12  comments_disabled  3221 non-null   bool  \n",
            " 13  ratings_disabled   3221 non-null   bool  \n",
            " 14  description        3090 non-null   object\n",
            "dtypes: bool(2), int64(3), object(10)\n",
            "memory usage: 333.5+ KB\n"
          ]
        }
      ],
      "source": [
        "data.info()"
      ]
    },
    {
      "cell_type": "markdown",
      "id": "8f6dc4a5",
      "metadata": {
        "run_control": {
          "frozen": false,
          "read_only": false
        },
        "id": "8f6dc4a5"
      },
      "source": [
        "####Анализ данных:\n",
        "\n",
        "* Для скольких стран есть информация о видеороликах в таблице?\n",
        "* Сколько есть видеороликов c разрешенными и запрещенными комментариями?\n",
        "* Какое максимальное число просмотров у видеороликов, попавших в таблицу?"
      ]
    },
    {
      "cell_type": "code",
      "execution_count": null,
      "id": "e966fa7b",
      "metadata": {
        "run_control": {
          "frozen": false,
          "read_only": false
        },
        "id": "e966fa7b",
        "colab": {
          "base_uri": "https://localhost:8080/"
        },
        "outputId": "5efa630f-52e0-4493-81ea-4de9735158ca"
      },
      "outputs": [
        {
          "output_type": "execute_result",
          "data": {
            "text/plain": [
              "123034293"
            ]
          },
          "metadata": {},
          "execution_count": 131
        }
      ],
      "source": [
        "data[\"country\"].nunique(dropna=True)\n",
        "data[\"comments_disabled\"].value_counts(dropna=True)\n",
        "data[\"view_count\"].max()"
      ]
    },
    {
      "cell_type": "markdown",
      "id": "327f49bc",
      "metadata": {
        "run_control": {
          "frozen": false,
          "read_only": false
        },
        "id": "327f49bc"
      },
      "source": [
        "\n",
        "1. 19 стран\n",
        "2. Запрещенными    3193\n",
        "   Разрешенными       28\n",
        "3. 123034293"
      ]
    },
    {
      "cell_type": "markdown",
      "id": "a441d297",
      "metadata": {
        "run_control": {
          "frozen": false,
          "read_only": false
        },
        "id": "a441d297"
      },
      "source": [
        "\n",
        "\n",
        "####Есть ли в данных пропуски? В каких колонках?\n",
        "\n"
      ]
    },
    {
      "cell_type": "code",
      "execution_count": null,
      "id": "b1449c7e",
      "metadata": {
        "run_control": {
          "frozen": false,
          "read_only": false
        },
        "scrolled": true,
        "id": "b1449c7e",
        "colab": {
          "base_uri": "https://localhost:8080/"
        },
        "outputId": "ea3b3ddb-ced2-4859-bc84-5c3a6a57820e"
      },
      "outputs": [
        {
          "output_type": "stream",
          "name": "stdout",
          "text": [
            "country\n",
            "description\n"
          ]
        }
      ],
      "source": [
        "tmp = data.isnull()\n",
        "for col in tmp.columns:\n",
        "  if tmp[col].any():\n",
        "    print(col)\n"
      ]
    },
    {
      "cell_type": "markdown",
      "id": "ae88b3e9",
      "metadata": {
        "run_control": {
          "frozen": false,
          "read_only": false
        },
        "id": "ae88b3e9"
      },
      "source": [
        "Пропуски есть колонках country, description"
      ]
    },
    {
      "cell_type": "markdown",
      "id": "3358a958",
      "metadata": {
        "run_control": {
          "frozen": false,
          "read_only": false
        },
        "id": "3358a958"
      },
      "source": [
        "#### Заполнение пропусков пустой строкой для текстовых колонок и удаление строк с пропусками для колонок с категориальными значениями:\n"
      ]
    },
    {
      "cell_type": "code",
      "execution_count": null,
      "id": "dd4b8854",
      "metadata": {
        "run_control": {
          "frozen": false,
          "read_only": false
        },
        "id": "dd4b8854",
        "colab": {
          "base_uri": "https://localhost:8080/",
          "height": 1000
        },
        "outputId": "fbcafa7f-460d-45de-c80f-7538627bb25e"
      },
      "outputs": [
        {
          "output_type": "execute_result",
          "data": {
            "text/plain": [
              "     country     video_id  \\\n",
              "0         AL  hxWSp-8jJuo   \n",
              "1         AL  MnrC9mk2H1o   \n",
              "2         AL  5Ql-G0dTqC0   \n",
              "3         AL  oUdY0qSavvY   \n",
              "4         AL  I4ZSvYLnOcQ   \n",
              "...      ...          ...   \n",
              "3016      TR  2bvhzLli-Aw   \n",
              "3017      TR  imjlTtCxkkk   \n",
              "3018      TR  rdAhWgxtteY   \n",
              "3019      TR  FROtCry4nLw   \n",
              "3020      TR  cwD6jnfIi9A   \n",
              "\n",
              "                                                                                                  title  \\\n",
              "0                                                                                    DON XHONI - KATILE   \n",
              "1                                                  Dhurata Dora x Elvana Gjata - GAJDE (Official Video)   \n",
              "2                                                                          KIDA x BUTRINT IMERI - AM/PM   \n",
              "3                                                                                 Dafina Zeqiri - Malli   \n",
              "4                                                                                Tayna x Azet - Tequila   \n",
              "...                                                                                                 ...   \n",
              "3016                                                   FenerbahÃ§e 3-0 Mol Fehervar | HazÄ±rlÄ±k MaÃ§Ä±   \n",
              "3017                                                             Brawl Stars Season 13! - #DeepSeaBrawl   \n",
              "3018                        GÃ¶rÃ¼lmemiÅ Bir Ekonomik Kriz Geliyor- DÃ¼nyanÄ±n Haberi 268 - 03.07.2022   \n",
              "3019                                                                  Tozluyaka 2. BÃ¶lÃ¼m 2. FragmanÄ±   \n",
              "3020  FB, GS, BJK ve TS'de Son GeliÅmeler | Onur & Mustafa & UÄur & Metin & Haluk | Transfer DosyasÄ±   \n",
              "\n",
              "               publishedAt                 channelId           channelTitle  \\\n",
              "0     2022-07-07T22:00:12Z  UCZNJXsf2I4y54M_UmMiC6Vw              DON XHONI   \n",
              "1     2022-06-30T22:00:11Z  UCtzhq8TIfFB9vRAHVqLL9PA           Dhurata Dora   \n",
              "2     2022-07-02T22:00:11Z  UCAHVxL9FG3Sp8ltQtLEy_oA                   KIDA   \n",
              "3     2022-07-07T22:00:12Z  UCrv0PJoutcRhHkSMJYoXAIQ          Dafina Zeqiri   \n",
              "4     2022-06-30T18:00:26Z  UCJBZ-GcWSswmJ0xc9WAKDqw  Friends Entertainment   \n",
              "...                    ...                       ...                    ...   \n",
              "3016  2022-07-05T18:46:34Z  UCpdSUUHlxMjO0c5824FGcsA                S Sport   \n",
              "3017  2022-07-04T09:00:09Z  UCooVYzDxdwTtGYAkcPmOgOw            Brawl Stars   \n",
              "3018  2022-07-03T20:00:18Z  UC9PfAU8pdnTs7afxIXKhgVA              Erkan Ãz   \n",
              "3019  2022-07-01T20:47:38Z  UCJe13zu6MyE6Oueac41KAqg                    FOX   \n",
              "3020  2022-07-06T17:09:00Z  UCeCRRixprpBjNmzRWgLBiUA                   VOLE   \n",
              "\n",
              "      categoryId trending_date  \\\n",
              "0             24      22.11.07   \n",
              "1             10      22.11.07   \n",
              "2             10      22.11.07   \n",
              "3             10      22.11.07   \n",
              "4             10      22.11.07   \n",
              "...          ...           ...   \n",
              "3016          17      22.11.07   \n",
              "3017          20      22.11.07   \n",
              "3018          25      22.11.07   \n",
              "3019          24      22.11.07   \n",
              "3020          22      22.11.07   \n",
              "\n",
              "                                                                                                                                                                                                         tags  \\\n",
              "0                                                                                                                                                                                                      [none]   \n",
              "1                                                                                                                                                                                                      [none]   \n",
              "2     Butrint Imeri|Kida|Dale|Butrint imeri kida|Butrinti kida 2022|Ampm|Zemren ma kalle|Butrint kida zemren|Ma kalle|Butrint Imeri Kida AM PM|Am|Pm|Qa je ti|Qa je qa je ti|Dreqi qe je ti|Uhhh ahhh butr...   \n",
              "3                                                                                                          Dafina|Zeqiri|Dafine Moj|Pa ty|Lule Lule|Duro|Vuj Vuj Vuj|Aman|Llafe Llafe|luje belin|dashni|malli   \n",
              "4                                               tayna|Friends|Entertainment|rinor hykolli|hip hop|shqip|ring ring|tayna doruntina|caliente|cricket|tayna kce|tayna pow pow|tayna columbiana|tayna bass|mozzik   \n",
              "...                                                                                                                                                                                                       ...   \n",
              "3016  fenerbahÃ§e Ã¶zet|fenerbahÃ§e|fb|fenerbahÃ§e hazÄ±rlÄ±k maÃ§Ä±|fenerbahÃ§e gol|fenerbahÃ§e 2022|fener|fb gol|irfan can kahveci|jorge jesus|serdar dursun|serdar dursun gol|diego rossi|enner valenci...   \n",
              "3017                                          brawl stars|mobile game|mobile strategy game|mobile rpg|mobile battle royale|battle royale|supercell game|deep sea brawl|season 13|deepseabrawl|otis|brawl pass   \n",
              "3018  erkan Ã¶z yorumlarÄ±|erkan Ã¶z yatÄ±rÄ±m|erkan Ã¶z videolarÄ±|erkan Ã¶z kripto para|erkan Ã¶z ekonomi|erkan Ã¶z dÃ¼nyanÄ±n haberi|erkan Ã¶z dolar tahmini|erkan Ã¶z borsa|erkan Ã¶z blockchain|erkan...   \n",
              "3019  Tozluyaka 2. BÃ¶lÃ¼m 1. FragmanÄ±|emre kÄ±nay|tozluyaka dizi|olunay Soysert|TayanÃ§ AyaydÄ±n|Kadim YaÅar|Nebil SayÄ±n|Nur Yazar|ÃaÄla ÅimÅek|tozluyaka 1. teaser|Can Bartu Aslan|Serra PirinÃ§|...   \n",
              "3020                                                                                                                                                                                                   [none]   \n",
              "\n",
              "      view_count  comment_count  \\\n",
              "0        5130167           3641   \n",
              "1        8886648           4414   \n",
              "2        7230818           7518   \n",
              "3        1406078            827   \n",
              "4        6397676           6063   \n",
              "...          ...            ...   \n",
              "3016      492614            683   \n",
              "3017     1062053           1745   \n",
              "3018      115149            422   \n",
              "3019      901830            579   \n",
              "3020      185855            269   \n",
              "\n",
              "                                      thumbnail_link  comments_disabled  \\\n",
              "0     https://i.ytimg.com/vi/hxWSp-8jJuo/default.jpg              False   \n",
              "1     https://i.ytimg.com/vi/MnrC9mk2H1o/default.jpg              False   \n",
              "2     https://i.ytimg.com/vi/5Ql-G0dTqC0/default.jpg              False   \n",
              "3     https://i.ytimg.com/vi/oUdY0qSavvY/default.jpg              False   \n",
              "4     https://i.ytimg.com/vi/I4ZSvYLnOcQ/default.jpg              False   \n",
              "...                                              ...                ...   \n",
              "3016  https://i.ytimg.com/vi/2bvhzLli-Aw/default.jpg              False   \n",
              "3017  https://i.ytimg.com/vi/imjlTtCxkkk/default.jpg              False   \n",
              "3018  https://i.ytimg.com/vi/rdAhWgxtteY/default.jpg              False   \n",
              "3019  https://i.ytimg.com/vi/FROtCry4nLw/default.jpg              False   \n",
              "3020  https://i.ytimg.com/vi/cwD6jnfIi9A/default.jpg              False   \n",
              "\n",
              "      ratings_disabled  \\\n",
              "0                 True   \n",
              "1                 True   \n",
              "2                 True   \n",
              "3                 True   \n",
              "4                 True   \n",
              "...                ...   \n",
              "3016              True   \n",
              "3017              True   \n",
              "3018              True   \n",
              "3019              True   \n",
              "3020              True   \n",
              "\n",
              "                                                                                                                                                                                                  description  \n",
              "0     Stream or Download now ''KATILE'' ð https://avd.lnk.to/KatileStoresDON XHONI on Instagram: https://www.instagram.com/don_xhoni/âMusic produced by Ãelik Lipa (SBS Ent.)Lyrics by Don XhoniDire...  \n",
              "1     The official video for GAJDE.Stream/Download GAJDE: https://dhuratadoraxelvanagjata.lnk.to/GAJDE.â¬â¬â¬â¬â¬â¬â¬â¬â¬â¬â¬â¬â¬â¬â¬â¬â¬â¬â¬â¬â¬â¬â¬â¬â¬â¬â¬â¬â¬FOLLOW DHURA...  \n",
              "2     Stream or Download âAM/PMâ here ð§ https://avd.lnk.to/AMPMStoresMusic produced by Ãelik Lipa (SBS Ent.)Video by FATI.TV00:00 - KIDA x BUTRINT IMERI - AM01:55 - KIDA x BUTRINT IMERI - PMKIDA...  \n",
              "3     Bzzz Entertainment - https://lnk.to/BzzzStream/Download - https://dafinazeqiri.lnk.to/MalliFollow @Dafina Zeqiri - https://lnk.to/DafinaZeqiriMusic & Produced by: BIGDEAL RECORDSMix & Master by: B...  \n",
              "4     Stream âTequilaâ:https://taynaxazet.lnk.to/TequilaMusic & Produced by: CricketLyrics and melody by: MUMA , TAYNA, AZETMix by: CricketMaster by: Nome EntVideo by: SecuencaExecutive Producer: Ri...  \n",
              "...                                                                                                                                                                                                       ...  \n",
              "3016  FenerbahÃ§e hazÄ±rlÄ±k maÃ§Ä±nda Mol Fehervar'Ä±, Serdar Dursun, Diego Rossi ve Enner Valencia'nÄ±n golleriyle 3-0 maÄlup etmeyi baÅardÄ±!KanalÄ±mÄ±za abone olun: https://www.youtube.com/channel...  \n",
              "3017  Download NOW!! âºâº https://supr.cl/2K62CZGBe a BRAWLER! Subscribe! âºâº https://supr.cl/subscribeAn epic battle royale made for mobile! Play with friends or solo across a variety of game mode...  \n",
              "3018  GÃ¶rÃ¼lmemiÅ Bir Ekonomik Kriz Geliyor,ekonomik kriz, bitcoin, gÃ¼mÃ¼Å, altÄ±n, dolar, emlak, blockchain, blokzincir, ekonomist, ekonomi 2022, ekonomi, yeni ekonomi,DÃNYANIN HABERÄ° 268. BÃLÃ...  \n",
              "3019  Tozluyaka 2. BÃ¶lÃ¼m 2. FragmanÄ±Åans bile yolunu ÅaÅÄ±rmadan uÄramazdÄ± Tozluyakaâya ama bodoslama daldÄ± birbirlerini kardeÅ seÃ§enlerin arasÄ±naâ¦ Umudun yolculuÄu baÅladÄ± bu defa......  \n",
              "3020                                         Onur TuÄrul, Mustafa DemirtaÅ, Metin KarabaÅ ve Haluk AyyÄ±ldÄ±z transferde son geliÅmeleri VOLE canlÄ± yayÄ±nÄ±nda deÄerlendiriyor!#Vole #TransferDosyasÄ±  \n",
              "\n",
              "[2890 rows x 15 columns]"
            ],
            "text/html": [
              "\n",
              "  <div id=\"df-a3441377-b86f-41f7-9f49-3ed24e568b81\" class=\"colab-df-container\">\n",
              "    <div>\n",
              "<style scoped>\n",
              "    .dataframe tbody tr th:only-of-type {\n",
              "        vertical-align: middle;\n",
              "    }\n",
              "\n",
              "    .dataframe tbody tr th {\n",
              "        vertical-align: top;\n",
              "    }\n",
              "\n",
              "    .dataframe thead th {\n",
              "        text-align: right;\n",
              "    }\n",
              "</style>\n",
              "<table border=\"1\" class=\"dataframe\">\n",
              "  <thead>\n",
              "    <tr style=\"text-align: right;\">\n",
              "      <th></th>\n",
              "      <th>country</th>\n",
              "      <th>video_id</th>\n",
              "      <th>title</th>\n",
              "      <th>publishedAt</th>\n",
              "      <th>channelId</th>\n",
              "      <th>channelTitle</th>\n",
              "      <th>categoryId</th>\n",
              "      <th>trending_date</th>\n",
              "      <th>tags</th>\n",
              "      <th>view_count</th>\n",
              "      <th>comment_count</th>\n",
              "      <th>thumbnail_link</th>\n",
              "      <th>comments_disabled</th>\n",
              "      <th>ratings_disabled</th>\n",
              "      <th>description</th>\n",
              "    </tr>\n",
              "  </thead>\n",
              "  <tbody>\n",
              "    <tr>\n",
              "      <th>0</th>\n",
              "      <td>AL</td>\n",
              "      <td>hxWSp-8jJuo</td>\n",
              "      <td>DON XHONI - KATILE</td>\n",
              "      <td>2022-07-07T22:00:12Z</td>\n",
              "      <td>UCZNJXsf2I4y54M_UmMiC6Vw</td>\n",
              "      <td>DON XHONI</td>\n",
              "      <td>24</td>\n",
              "      <td>22.11.07</td>\n",
              "      <td>[none]</td>\n",
              "      <td>5130167</td>\n",
              "      <td>3641</td>\n",
              "      <td>https://i.ytimg.com/vi/hxWSp-8jJuo/default.jpg</td>\n",
              "      <td>False</td>\n",
              "      <td>True</td>\n",
              "      <td>Stream or Download now ''KATILE'' ð https://avd.lnk.to/KatileStoresDON XHONI on Instagram: https://www.instagram.com/don_xhoni/âMusic produced by Ãelik Lipa (SBS Ent.)Lyrics by Don XhoniDire...</td>\n",
              "    </tr>\n",
              "    <tr>\n",
              "      <th>1</th>\n",
              "      <td>AL</td>\n",
              "      <td>MnrC9mk2H1o</td>\n",
              "      <td>Dhurata Dora x Elvana Gjata - GAJDE (Official Video)</td>\n",
              "      <td>2022-06-30T22:00:11Z</td>\n",
              "      <td>UCtzhq8TIfFB9vRAHVqLL9PA</td>\n",
              "      <td>Dhurata Dora</td>\n",
              "      <td>10</td>\n",
              "      <td>22.11.07</td>\n",
              "      <td>[none]</td>\n",
              "      <td>8886648</td>\n",
              "      <td>4414</td>\n",
              "      <td>https://i.ytimg.com/vi/MnrC9mk2H1o/default.jpg</td>\n",
              "      <td>False</td>\n",
              "      <td>True</td>\n",
              "      <td>The official video for GAJDE.Stream/Download GAJDE: https://dhuratadoraxelvanagjata.lnk.to/GAJDE.â¬â¬â¬â¬â¬â¬â¬â¬â¬â¬â¬â¬â¬â¬â¬â¬â¬â¬â¬â¬â¬â¬â¬â¬â¬â¬â¬â¬â¬FOLLOW DHURA...</td>\n",
              "    </tr>\n",
              "    <tr>\n",
              "      <th>2</th>\n",
              "      <td>AL</td>\n",
              "      <td>5Ql-G0dTqC0</td>\n",
              "      <td>KIDA x BUTRINT IMERI - AM/PM</td>\n",
              "      <td>2022-07-02T22:00:11Z</td>\n",
              "      <td>UCAHVxL9FG3Sp8ltQtLEy_oA</td>\n",
              "      <td>KIDA</td>\n",
              "      <td>10</td>\n",
              "      <td>22.11.07</td>\n",
              "      <td>Butrint Imeri|Kida|Dale|Butrint imeri kida|Butrinti kida 2022|Ampm|Zemren ma kalle|Butrint kida zemren|Ma kalle|Butrint Imeri Kida AM PM|Am|Pm|Qa je ti|Qa je qa je ti|Dreqi qe je ti|Uhhh ahhh butr...</td>\n",
              "      <td>7230818</td>\n",
              "      <td>7518</td>\n",
              "      <td>https://i.ytimg.com/vi/5Ql-G0dTqC0/default.jpg</td>\n",
              "      <td>False</td>\n",
              "      <td>True</td>\n",
              "      <td>Stream or Download âAM/PMâ here ð§ https://avd.lnk.to/AMPMStoresMusic produced by Ãelik Lipa (SBS Ent.)Video by FATI.TV00:00 - KIDA x BUTRINT IMERI - AM01:55 - KIDA x BUTRINT IMERI - PMKIDA...</td>\n",
              "    </tr>\n",
              "    <tr>\n",
              "      <th>3</th>\n",
              "      <td>AL</td>\n",
              "      <td>oUdY0qSavvY</td>\n",
              "      <td>Dafina Zeqiri - Malli</td>\n",
              "      <td>2022-07-07T22:00:12Z</td>\n",
              "      <td>UCrv0PJoutcRhHkSMJYoXAIQ</td>\n",
              "      <td>Dafina Zeqiri</td>\n",
              "      <td>10</td>\n",
              "      <td>22.11.07</td>\n",
              "      <td>Dafina|Zeqiri|Dafine Moj|Pa ty|Lule Lule|Duro|Vuj Vuj Vuj|Aman|Llafe Llafe|luje belin|dashni|malli</td>\n",
              "      <td>1406078</td>\n",
              "      <td>827</td>\n",
              "      <td>https://i.ytimg.com/vi/oUdY0qSavvY/default.jpg</td>\n",
              "      <td>False</td>\n",
              "      <td>True</td>\n",
              "      <td>Bzzz Entertainment - https://lnk.to/BzzzStream/Download - https://dafinazeqiri.lnk.to/MalliFollow @Dafina Zeqiri - https://lnk.to/DafinaZeqiriMusic &amp; Produced by: BIGDEAL RECORDSMix &amp; Master by: B...</td>\n",
              "    </tr>\n",
              "    <tr>\n",
              "      <th>4</th>\n",
              "      <td>AL</td>\n",
              "      <td>I4ZSvYLnOcQ</td>\n",
              "      <td>Tayna x Azet - Tequila</td>\n",
              "      <td>2022-06-30T18:00:26Z</td>\n",
              "      <td>UCJBZ-GcWSswmJ0xc9WAKDqw</td>\n",
              "      <td>Friends Entertainment</td>\n",
              "      <td>10</td>\n",
              "      <td>22.11.07</td>\n",
              "      <td>tayna|Friends|Entertainment|rinor hykolli|hip hop|shqip|ring ring|tayna doruntina|caliente|cricket|tayna kce|tayna pow pow|tayna columbiana|tayna bass|mozzik</td>\n",
              "      <td>6397676</td>\n",
              "      <td>6063</td>\n",
              "      <td>https://i.ytimg.com/vi/I4ZSvYLnOcQ/default.jpg</td>\n",
              "      <td>False</td>\n",
              "      <td>True</td>\n",
              "      <td>Stream âTequilaâ:https://taynaxazet.lnk.to/TequilaMusic &amp; Produced by: CricketLyrics and melody by: MUMA , TAYNA, AZETMix by: CricketMaster by: Nome EntVideo by: SecuencaExecutive Producer: Ri...</td>\n",
              "    </tr>\n",
              "    <tr>\n",
              "      <th>...</th>\n",
              "      <td>...</td>\n",
              "      <td>...</td>\n",
              "      <td>...</td>\n",
              "      <td>...</td>\n",
              "      <td>...</td>\n",
              "      <td>...</td>\n",
              "      <td>...</td>\n",
              "      <td>...</td>\n",
              "      <td>...</td>\n",
              "      <td>...</td>\n",
              "      <td>...</td>\n",
              "      <td>...</td>\n",
              "      <td>...</td>\n",
              "      <td>...</td>\n",
              "      <td>...</td>\n",
              "    </tr>\n",
              "    <tr>\n",
              "      <th>3016</th>\n",
              "      <td>TR</td>\n",
              "      <td>2bvhzLli-Aw</td>\n",
              "      <td>FenerbahÃ§e 3-0 Mol Fehervar | HazÄ±rlÄ±k MaÃ§Ä±</td>\n",
              "      <td>2022-07-05T18:46:34Z</td>\n",
              "      <td>UCpdSUUHlxMjO0c5824FGcsA</td>\n",
              "      <td>S Sport</td>\n",
              "      <td>17</td>\n",
              "      <td>22.11.07</td>\n",
              "      <td>fenerbahÃ§e Ã¶zet|fenerbahÃ§e|fb|fenerbahÃ§e hazÄ±rlÄ±k maÃ§Ä±|fenerbahÃ§e gol|fenerbahÃ§e 2022|fener|fb gol|irfan can kahveci|jorge jesus|serdar dursun|serdar dursun gol|diego rossi|enner valenci...</td>\n",
              "      <td>492614</td>\n",
              "      <td>683</td>\n",
              "      <td>https://i.ytimg.com/vi/2bvhzLli-Aw/default.jpg</td>\n",
              "      <td>False</td>\n",
              "      <td>True</td>\n",
              "      <td>FenerbahÃ§e hazÄ±rlÄ±k maÃ§Ä±nda Mol Fehervar'Ä±, Serdar Dursun, Diego Rossi ve Enner Valencia'nÄ±n golleriyle 3-0 maÄlup etmeyi baÅardÄ±!KanalÄ±mÄ±za abone olun: https://www.youtube.com/channel...</td>\n",
              "    </tr>\n",
              "    <tr>\n",
              "      <th>3017</th>\n",
              "      <td>TR</td>\n",
              "      <td>imjlTtCxkkk</td>\n",
              "      <td>Brawl Stars Season 13! - #DeepSeaBrawl</td>\n",
              "      <td>2022-07-04T09:00:09Z</td>\n",
              "      <td>UCooVYzDxdwTtGYAkcPmOgOw</td>\n",
              "      <td>Brawl Stars</td>\n",
              "      <td>20</td>\n",
              "      <td>22.11.07</td>\n",
              "      <td>brawl stars|mobile game|mobile strategy game|mobile rpg|mobile battle royale|battle royale|supercell game|deep sea brawl|season 13|deepseabrawl|otis|brawl pass</td>\n",
              "      <td>1062053</td>\n",
              "      <td>1745</td>\n",
              "      <td>https://i.ytimg.com/vi/imjlTtCxkkk/default.jpg</td>\n",
              "      <td>False</td>\n",
              "      <td>True</td>\n",
              "      <td>Download NOW!! âºâº https://supr.cl/2K62CZGBe a BRAWLER! Subscribe! âºâº https://supr.cl/subscribeAn epic battle royale made for mobile! Play with friends or solo across a variety of game mode...</td>\n",
              "    </tr>\n",
              "    <tr>\n",
              "      <th>3018</th>\n",
              "      <td>TR</td>\n",
              "      <td>rdAhWgxtteY</td>\n",
              "      <td>GÃ¶rÃ¼lmemiÅ Bir Ekonomik Kriz Geliyor- DÃ¼nyanÄ±n Haberi 268 - 03.07.2022</td>\n",
              "      <td>2022-07-03T20:00:18Z</td>\n",
              "      <td>UC9PfAU8pdnTs7afxIXKhgVA</td>\n",
              "      <td>Erkan Ãz</td>\n",
              "      <td>25</td>\n",
              "      <td>22.11.07</td>\n",
              "      <td>erkan Ã¶z yorumlarÄ±|erkan Ã¶z yatÄ±rÄ±m|erkan Ã¶z videolarÄ±|erkan Ã¶z kripto para|erkan Ã¶z ekonomi|erkan Ã¶z dÃ¼nyanÄ±n haberi|erkan Ã¶z dolar tahmini|erkan Ã¶z borsa|erkan Ã¶z blockchain|erkan...</td>\n",
              "      <td>115149</td>\n",
              "      <td>422</td>\n",
              "      <td>https://i.ytimg.com/vi/rdAhWgxtteY/default.jpg</td>\n",
              "      <td>False</td>\n",
              "      <td>True</td>\n",
              "      <td>GÃ¶rÃ¼lmemiÅ Bir Ekonomik Kriz Geliyor,ekonomik kriz, bitcoin, gÃ¼mÃ¼Å, altÄ±n, dolar, emlak, blockchain, blokzincir, ekonomist, ekonomi 2022, ekonomi, yeni ekonomi,DÃNYANIN HABERÄ° 268. BÃLÃ...</td>\n",
              "    </tr>\n",
              "    <tr>\n",
              "      <th>3019</th>\n",
              "      <td>TR</td>\n",
              "      <td>FROtCry4nLw</td>\n",
              "      <td>Tozluyaka 2. BÃ¶lÃ¼m 2. FragmanÄ±</td>\n",
              "      <td>2022-07-01T20:47:38Z</td>\n",
              "      <td>UCJe13zu6MyE6Oueac41KAqg</td>\n",
              "      <td>FOX</td>\n",
              "      <td>24</td>\n",
              "      <td>22.11.07</td>\n",
              "      <td>Tozluyaka 2. BÃ¶lÃ¼m 1. FragmanÄ±|emre kÄ±nay|tozluyaka dizi|olunay Soysert|TayanÃ§ AyaydÄ±n|Kadim YaÅar|Nebil SayÄ±n|Nur Yazar|ÃaÄla ÅimÅek|tozluyaka 1. teaser|Can Bartu Aslan|Serra PirinÃ§|...</td>\n",
              "      <td>901830</td>\n",
              "      <td>579</td>\n",
              "      <td>https://i.ytimg.com/vi/FROtCry4nLw/default.jpg</td>\n",
              "      <td>False</td>\n",
              "      <td>True</td>\n",
              "      <td>Tozluyaka 2. BÃ¶lÃ¼m 2. FragmanÄ±Åans bile yolunu ÅaÅÄ±rmadan uÄramazdÄ± Tozluyakaâya ama bodoslama daldÄ± birbirlerini kardeÅ seÃ§enlerin arasÄ±naâ¦ Umudun yolculuÄu baÅladÄ± bu defa......</td>\n",
              "    </tr>\n",
              "    <tr>\n",
              "      <th>3020</th>\n",
              "      <td>TR</td>\n",
              "      <td>cwD6jnfIi9A</td>\n",
              "      <td>FB, GS, BJK ve TS'de Son GeliÅmeler | Onur &amp; Mustafa &amp; UÄur &amp; Metin &amp; Haluk | Transfer DosyasÄ±</td>\n",
              "      <td>2022-07-06T17:09:00Z</td>\n",
              "      <td>UCeCRRixprpBjNmzRWgLBiUA</td>\n",
              "      <td>VOLE</td>\n",
              "      <td>22</td>\n",
              "      <td>22.11.07</td>\n",
              "      <td>[none]</td>\n",
              "      <td>185855</td>\n",
              "      <td>269</td>\n",
              "      <td>https://i.ytimg.com/vi/cwD6jnfIi9A/default.jpg</td>\n",
              "      <td>False</td>\n",
              "      <td>True</td>\n",
              "      <td>Onur TuÄrul, Mustafa DemirtaÅ, Metin KarabaÅ ve Haluk AyyÄ±ldÄ±z transferde son geliÅmeleri VOLE canlÄ± yayÄ±nÄ±nda deÄerlendiriyor!#Vole #TransferDosyasÄ±</td>\n",
              "    </tr>\n",
              "  </tbody>\n",
              "</table>\n",
              "<p>2890 rows × 15 columns</p>\n",
              "</div>\n",
              "    <div class=\"colab-df-buttons\">\n",
              "\n",
              "  <div class=\"colab-df-container\">\n",
              "    <button class=\"colab-df-convert\" onclick=\"convertToInteractive('df-a3441377-b86f-41f7-9f49-3ed24e568b81')\"\n",
              "            title=\"Convert this dataframe to an interactive table.\"\n",
              "            style=\"display:none;\">\n",
              "\n",
              "  <svg xmlns=\"http://www.w3.org/2000/svg\" height=\"24px\" viewBox=\"0 -960 960 960\">\n",
              "    <path d=\"M120-120v-720h720v720H120Zm60-500h600v-160H180v160Zm220 220h160v-160H400v160Zm0 220h160v-160H400v160ZM180-400h160v-160H180v160Zm440 0h160v-160H620v160ZM180-180h160v-160H180v160Zm440 0h160v-160H620v160Z\"/>\n",
              "  </svg>\n",
              "    </button>\n",
              "\n",
              "  <style>\n",
              "    .colab-df-container {\n",
              "      display:flex;\n",
              "      gap: 12px;\n",
              "    }\n",
              "\n",
              "    .colab-df-convert {\n",
              "      background-color: #E8F0FE;\n",
              "      border: none;\n",
              "      border-radius: 50%;\n",
              "      cursor: pointer;\n",
              "      display: none;\n",
              "      fill: #1967D2;\n",
              "      height: 32px;\n",
              "      padding: 0 0 0 0;\n",
              "      width: 32px;\n",
              "    }\n",
              "\n",
              "    .colab-df-convert:hover {\n",
              "      background-color: #E2EBFA;\n",
              "      box-shadow: 0px 1px 2px rgba(60, 64, 67, 0.3), 0px 1px 3px 1px rgba(60, 64, 67, 0.15);\n",
              "      fill: #174EA6;\n",
              "    }\n",
              "\n",
              "    .colab-df-buttons div {\n",
              "      margin-bottom: 4px;\n",
              "    }\n",
              "\n",
              "    [theme=dark] .colab-df-convert {\n",
              "      background-color: #3B4455;\n",
              "      fill: #D2E3FC;\n",
              "    }\n",
              "\n",
              "    [theme=dark] .colab-df-convert:hover {\n",
              "      background-color: #434B5C;\n",
              "      box-shadow: 0px 1px 3px 1px rgba(0, 0, 0, 0.15);\n",
              "      filter: drop-shadow(0px 1px 2px rgba(0, 0, 0, 0.3));\n",
              "      fill: #FFFFFF;\n",
              "    }\n",
              "  </style>\n",
              "\n",
              "    <script>\n",
              "      const buttonEl =\n",
              "        document.querySelector('#df-a3441377-b86f-41f7-9f49-3ed24e568b81 button.colab-df-convert');\n",
              "      buttonEl.style.display =\n",
              "        google.colab.kernel.accessAllowed ? 'block' : 'none';\n",
              "\n",
              "      async function convertToInteractive(key) {\n",
              "        const element = document.querySelector('#df-a3441377-b86f-41f7-9f49-3ed24e568b81');\n",
              "        const dataTable =\n",
              "          await google.colab.kernel.invokeFunction('convertToInteractive',\n",
              "                                                    [key], {});\n",
              "        if (!dataTable) return;\n",
              "\n",
              "        const docLinkHtml = 'Like what you see? Visit the ' +\n",
              "          '<a target=\"_blank\" href=https://colab.research.google.com/notebooks/data_table.ipynb>data table notebook</a>'\n",
              "          + ' to learn more about interactive tables.';\n",
              "        element.innerHTML = '';\n",
              "        dataTable['output_type'] = 'display_data';\n",
              "        await google.colab.output.renderOutput(dataTable, element);\n",
              "        const docLink = document.createElement('div');\n",
              "        docLink.innerHTML = docLinkHtml;\n",
              "        element.appendChild(docLink);\n",
              "      }\n",
              "    </script>\n",
              "  </div>\n",
              "\n",
              "\n",
              "<div id=\"df-121e5a99-8492-46f1-81f1-0e03906a71e8\">\n",
              "  <button class=\"colab-df-quickchart\" onclick=\"quickchart('df-121e5a99-8492-46f1-81f1-0e03906a71e8')\"\n",
              "            title=\"Suggest charts.\"\n",
              "            style=\"display:none;\">\n",
              "\n",
              "<svg xmlns=\"http://www.w3.org/2000/svg\" height=\"24px\"viewBox=\"0 0 24 24\"\n",
              "     width=\"24px\">\n",
              "    <g>\n",
              "        <path d=\"M19 3H5c-1.1 0-2 .9-2 2v14c0 1.1.9 2 2 2h14c1.1 0 2-.9 2-2V5c0-1.1-.9-2-2-2zM9 17H7v-7h2v7zm4 0h-2V7h2v10zm4 0h-2v-4h2v4z\"/>\n",
              "    </g>\n",
              "</svg>\n",
              "  </button>\n",
              "\n",
              "<style>\n",
              "  .colab-df-quickchart {\n",
              "      --bg-color: #E8F0FE;\n",
              "      --fill-color: #1967D2;\n",
              "      --hover-bg-color: #E2EBFA;\n",
              "      --hover-fill-color: #174EA6;\n",
              "      --disabled-fill-color: #AAA;\n",
              "      --disabled-bg-color: #DDD;\n",
              "  }\n",
              "\n",
              "  [theme=dark] .colab-df-quickchart {\n",
              "      --bg-color: #3B4455;\n",
              "      --fill-color: #D2E3FC;\n",
              "      --hover-bg-color: #434B5C;\n",
              "      --hover-fill-color: #FFFFFF;\n",
              "      --disabled-bg-color: #3B4455;\n",
              "      --disabled-fill-color: #666;\n",
              "  }\n",
              "\n",
              "  .colab-df-quickchart {\n",
              "    background-color: var(--bg-color);\n",
              "    border: none;\n",
              "    border-radius: 50%;\n",
              "    cursor: pointer;\n",
              "    display: none;\n",
              "    fill: var(--fill-color);\n",
              "    height: 32px;\n",
              "    padding: 0;\n",
              "    width: 32px;\n",
              "  }\n",
              "\n",
              "  .colab-df-quickchart:hover {\n",
              "    background-color: var(--hover-bg-color);\n",
              "    box-shadow: 0 1px 2px rgba(60, 64, 67, 0.3), 0 1px 3px 1px rgba(60, 64, 67, 0.15);\n",
              "    fill: var(--button-hover-fill-color);\n",
              "  }\n",
              "\n",
              "  .colab-df-quickchart-complete:disabled,\n",
              "  .colab-df-quickchart-complete:disabled:hover {\n",
              "    background-color: var(--disabled-bg-color);\n",
              "    fill: var(--disabled-fill-color);\n",
              "    box-shadow: none;\n",
              "  }\n",
              "\n",
              "  .colab-df-spinner {\n",
              "    border: 2px solid var(--fill-color);\n",
              "    border-color: transparent;\n",
              "    border-bottom-color: var(--fill-color);\n",
              "    animation:\n",
              "      spin 1s steps(1) infinite;\n",
              "  }\n",
              "\n",
              "  @keyframes spin {\n",
              "    0% {\n",
              "      border-color: transparent;\n",
              "      border-bottom-color: var(--fill-color);\n",
              "      border-left-color: var(--fill-color);\n",
              "    }\n",
              "    20% {\n",
              "      border-color: transparent;\n",
              "      border-left-color: var(--fill-color);\n",
              "      border-top-color: var(--fill-color);\n",
              "    }\n",
              "    30% {\n",
              "      border-color: transparent;\n",
              "      border-left-color: var(--fill-color);\n",
              "      border-top-color: var(--fill-color);\n",
              "      border-right-color: var(--fill-color);\n",
              "    }\n",
              "    40% {\n",
              "      border-color: transparent;\n",
              "      border-right-color: var(--fill-color);\n",
              "      border-top-color: var(--fill-color);\n",
              "    }\n",
              "    60% {\n",
              "      border-color: transparent;\n",
              "      border-right-color: var(--fill-color);\n",
              "    }\n",
              "    80% {\n",
              "      border-color: transparent;\n",
              "      border-right-color: var(--fill-color);\n",
              "      border-bottom-color: var(--fill-color);\n",
              "    }\n",
              "    90% {\n",
              "      border-color: transparent;\n",
              "      border-bottom-color: var(--fill-color);\n",
              "    }\n",
              "  }\n",
              "</style>\n",
              "\n",
              "  <script>\n",
              "    async function quickchart(key) {\n",
              "      const quickchartButtonEl =\n",
              "        document.querySelector('#' + key + ' button');\n",
              "      quickchartButtonEl.disabled = true;  // To prevent multiple clicks.\n",
              "      quickchartButtonEl.classList.add('colab-df-spinner');\n",
              "      try {\n",
              "        const charts = await google.colab.kernel.invokeFunction(\n",
              "            'suggestCharts', [key], {});\n",
              "      } catch (error) {\n",
              "        console.error('Error during call to suggestCharts:', error);\n",
              "      }\n",
              "      quickchartButtonEl.classList.remove('colab-df-spinner');\n",
              "      quickchartButtonEl.classList.add('colab-df-quickchart-complete');\n",
              "    }\n",
              "    (() => {\n",
              "      let quickchartButtonEl =\n",
              "        document.querySelector('#df-121e5a99-8492-46f1-81f1-0e03906a71e8 button');\n",
              "      quickchartButtonEl.style.display =\n",
              "        google.colab.kernel.accessAllowed ? 'block' : 'none';\n",
              "    })();\n",
              "  </script>\n",
              "</div>\n",
              "    </div>\n",
              "  </div>\n"
            ]
          },
          "metadata": {},
          "execution_count": 133
        }
      ],
      "source": [
        "# считаю, что строковая пустая - description, пустая категориальная - country (согласно примененному выше методу info())\n",
        "data[\"description\"].fillna(value=\"It's a video!\")\n",
        "data.dropna()"
      ]
    },
    {
      "cell_type": "markdown",
      "id": "e22bc689",
      "metadata": {
        "run_control": {
          "frozen": false,
          "read_only": false
        },
        "id": "e22bc689"
      },
      "source": [
        "\n",
        "#### Анализ колонки publishedAt\n",
        "* Изменение типа колонки publishedAt на datetime\n",
        "* В какой месяц было добавлено больше всего видеороликов?\n",
        "\n"
      ]
    },
    {
      "cell_type": "code",
      "execution_count": null,
      "id": "fb5d5d9b",
      "metadata": {
        "run_control": {
          "frozen": false,
          "read_only": false
        },
        "id": "fb5d5d9b",
        "colab": {
          "base_uri": "https://localhost:8080/"
        },
        "outputId": "784bd709-45a4-44c5-8809-45caebf671ce"
      },
      "outputs": [
        {
          "output_type": "execute_result",
          "data": {
            "text/plain": [
              "7    2153\n",
              "6    1068\n",
              "Name: publishedAt, dtype: int64"
            ]
          },
          "metadata": {},
          "execution_count": 135
        }
      ],
      "source": [
        "data[\"publishedAt\"].dtype\n",
        "data[\"publishedAt\"] = pd.to_datetime(data[\"publishedAt\"])\n",
        "data[\"publishedAt\"].dt.month.value_counts()"
      ]
    },
    {
      "cell_type": "markdown",
      "id": "709fe827",
      "metadata": {
        "run_control": {
          "frozen": false,
          "read_only": false
        },
        "id": "709fe827"
      },
      "source": [
        "\n",
        "1.\n",
        "2. 2153 видео в июле"
      ]
    },
    {
      "cell_type": "markdown",
      "id": "abbf2da2",
      "metadata": {
        "run_control": {
          "frozen": false,
          "read_only": false
        },
        "id": "abbf2da2"
      },
      "source": [
        "#### Анализ колонки description\n",
        "\n",
        "* Перевод строк в колонке description в нижний регистр и удаление ненужных пробелов справа и слева.\n",
        "* Замена url-адреса в описаниях на специальный тэг \\<URL\\>.\n",
        "* Вывод полностью description для видеоролика с video_id = 'Oxexirlmdig'.\n",
        "\n"
      ]
    },
    {
      "cell_type": "code",
      "source": [
        "pattern = r'http\\S+'"
      ],
      "metadata": {
        "id": "oA4j4okecJ08"
      },
      "id": "oA4j4okecJ08",
      "execution_count": null,
      "outputs": []
    },
    {
      "cell_type": "code",
      "execution_count": null,
      "id": "abef9a9d",
      "metadata": {
        "run_control": {
          "frozen": false,
          "read_only": false
        },
        "id": "abef9a9d",
        "colab": {
          "base_uri": "https://localhost:8080/"
        },
        "outputId": "6088be31-9105-44d7-87e4-26b95322ccae"
      },
      "outputs": [
        {
          "output_type": "execute_result",
          "data": {
            "text/plain": [
              "12    Music line & Lyrics : GHETTO GEASY & MAJKMusic Produced : BIGDEAL RECORDS Mix & Master: BIGDEAL RECORDSAvailable on:Spotify: https://open.spotify.com/album/3qmQlAeQM4j86NMEzCWyX4iTunes: https://mu...\n",
              "Name: description, dtype: object"
            ]
          },
          "metadata": {},
          "execution_count": 137
        }
      ],
      "source": [
        "data.loc[:, \"description\"].str.lower().str.strip().str.replace(pattern, \"<URL>\", regex=True)\n",
        "pd.options.display.max_colwidth = 200\n",
        "data[data[\"video_id\"] == \"Oxexirlmdig\"].iloc[:, 14]"
      ]
    },
    {
      "cell_type": "markdown",
      "id": "b7e65aef",
      "metadata": {
        "run_control": {
          "frozen": false,
          "read_only": false
        },
        "id": "b7e65aef"
      },
      "source": [
        "#### Какие 5 роликов набрали в Италии (country='IT') наибольшее число просмотров?\n"
      ]
    },
    {
      "cell_type": "code",
      "execution_count": null,
      "id": "be47af0b",
      "metadata": {
        "run_control": {
          "frozen": false,
          "read_only": false
        },
        "id": "be47af0b",
        "colab": {
          "base_uri": "https://localhost:8080/",
          "height": 206
        },
        "outputId": "6a24e555-04cd-4b57-de03-6a959e2fb007"
      },
      "outputs": [
        {
          "output_type": "execute_result",
          "data": {
            "text/plain": [
              "     country      channelTitle  view_count\n",
              "1630      IT  That Little Puff    82864422\n",
              "1599      IT            SMTOWN    47227373\n",
              "1570      IT  Celine & Michiel    37011562\n",
              "1631      IT      SportsNation    31997011\n",
              "1656      IT       BeatboxJCOP    28036908"
            ],
            "text/html": [
              "\n",
              "  <div id=\"df-2654ecbf-698f-4492-b342-d0f0097daf6e\" class=\"colab-df-container\">\n",
              "    <div>\n",
              "<style scoped>\n",
              "    .dataframe tbody tr th:only-of-type {\n",
              "        vertical-align: middle;\n",
              "    }\n",
              "\n",
              "    .dataframe tbody tr th {\n",
              "        vertical-align: top;\n",
              "    }\n",
              "\n",
              "    .dataframe thead th {\n",
              "        text-align: right;\n",
              "    }\n",
              "</style>\n",
              "<table border=\"1\" class=\"dataframe\">\n",
              "  <thead>\n",
              "    <tr style=\"text-align: right;\">\n",
              "      <th></th>\n",
              "      <th>country</th>\n",
              "      <th>channelTitle</th>\n",
              "      <th>view_count</th>\n",
              "    </tr>\n",
              "  </thead>\n",
              "  <tbody>\n",
              "    <tr>\n",
              "      <th>1630</th>\n",
              "      <td>IT</td>\n",
              "      <td>That Little Puff</td>\n",
              "      <td>82864422</td>\n",
              "    </tr>\n",
              "    <tr>\n",
              "      <th>1599</th>\n",
              "      <td>IT</td>\n",
              "      <td>SMTOWN</td>\n",
              "      <td>47227373</td>\n",
              "    </tr>\n",
              "    <tr>\n",
              "      <th>1570</th>\n",
              "      <td>IT</td>\n",
              "      <td>Celine &amp; Michiel</td>\n",
              "      <td>37011562</td>\n",
              "    </tr>\n",
              "    <tr>\n",
              "      <th>1631</th>\n",
              "      <td>IT</td>\n",
              "      <td>SportsNation</td>\n",
              "      <td>31997011</td>\n",
              "    </tr>\n",
              "    <tr>\n",
              "      <th>1656</th>\n",
              "      <td>IT</td>\n",
              "      <td>BeatboxJCOP</td>\n",
              "      <td>28036908</td>\n",
              "    </tr>\n",
              "  </tbody>\n",
              "</table>\n",
              "</div>\n",
              "    <div class=\"colab-df-buttons\">\n",
              "\n",
              "  <div class=\"colab-df-container\">\n",
              "    <button class=\"colab-df-convert\" onclick=\"convertToInteractive('df-2654ecbf-698f-4492-b342-d0f0097daf6e')\"\n",
              "            title=\"Convert this dataframe to an interactive table.\"\n",
              "            style=\"display:none;\">\n",
              "\n",
              "  <svg xmlns=\"http://www.w3.org/2000/svg\" height=\"24px\" viewBox=\"0 -960 960 960\">\n",
              "    <path d=\"M120-120v-720h720v720H120Zm60-500h600v-160H180v160Zm220 220h160v-160H400v160Zm0 220h160v-160H400v160ZM180-400h160v-160H180v160Zm440 0h160v-160H620v160ZM180-180h160v-160H180v160Zm440 0h160v-160H620v160Z\"/>\n",
              "  </svg>\n",
              "    </button>\n",
              "\n",
              "  <style>\n",
              "    .colab-df-container {\n",
              "      display:flex;\n",
              "      gap: 12px;\n",
              "    }\n",
              "\n",
              "    .colab-df-convert {\n",
              "      background-color: #E8F0FE;\n",
              "      border: none;\n",
              "      border-radius: 50%;\n",
              "      cursor: pointer;\n",
              "      display: none;\n",
              "      fill: #1967D2;\n",
              "      height: 32px;\n",
              "      padding: 0 0 0 0;\n",
              "      width: 32px;\n",
              "    }\n",
              "\n",
              "    .colab-df-convert:hover {\n",
              "      background-color: #E2EBFA;\n",
              "      box-shadow: 0px 1px 2px rgba(60, 64, 67, 0.3), 0px 1px 3px 1px rgba(60, 64, 67, 0.15);\n",
              "      fill: #174EA6;\n",
              "    }\n",
              "\n",
              "    .colab-df-buttons div {\n",
              "      margin-bottom: 4px;\n",
              "    }\n",
              "\n",
              "    [theme=dark] .colab-df-convert {\n",
              "      background-color: #3B4455;\n",
              "      fill: #D2E3FC;\n",
              "    }\n",
              "\n",
              "    [theme=dark] .colab-df-convert:hover {\n",
              "      background-color: #434B5C;\n",
              "      box-shadow: 0px 1px 3px 1px rgba(0, 0, 0, 0.15);\n",
              "      filter: drop-shadow(0px 1px 2px rgba(0, 0, 0, 0.3));\n",
              "      fill: #FFFFFF;\n",
              "    }\n",
              "  </style>\n",
              "\n",
              "    <script>\n",
              "      const buttonEl =\n",
              "        document.querySelector('#df-2654ecbf-698f-4492-b342-d0f0097daf6e button.colab-df-convert');\n",
              "      buttonEl.style.display =\n",
              "        google.colab.kernel.accessAllowed ? 'block' : 'none';\n",
              "\n",
              "      async function convertToInteractive(key) {\n",
              "        const element = document.querySelector('#df-2654ecbf-698f-4492-b342-d0f0097daf6e');\n",
              "        const dataTable =\n",
              "          await google.colab.kernel.invokeFunction('convertToInteractive',\n",
              "                                                    [key], {});\n",
              "        if (!dataTable) return;\n",
              "\n",
              "        const docLinkHtml = 'Like what you see? Visit the ' +\n",
              "          '<a target=\"_blank\" href=https://colab.research.google.com/notebooks/data_table.ipynb>data table notebook</a>'\n",
              "          + ' to learn more about interactive tables.';\n",
              "        element.innerHTML = '';\n",
              "        dataTable['output_type'] = 'display_data';\n",
              "        await google.colab.output.renderOutput(dataTable, element);\n",
              "        const docLink = document.createElement('div');\n",
              "        docLink.innerHTML = docLinkHtml;\n",
              "        element.appendChild(docLink);\n",
              "      }\n",
              "    </script>\n",
              "  </div>\n",
              "\n",
              "\n",
              "<div id=\"df-554027d1-8d86-45bb-ba48-317b1349b859\">\n",
              "  <button class=\"colab-df-quickchart\" onclick=\"quickchart('df-554027d1-8d86-45bb-ba48-317b1349b859')\"\n",
              "            title=\"Suggest charts.\"\n",
              "            style=\"display:none;\">\n",
              "\n",
              "<svg xmlns=\"http://www.w3.org/2000/svg\" height=\"24px\"viewBox=\"0 0 24 24\"\n",
              "     width=\"24px\">\n",
              "    <g>\n",
              "        <path d=\"M19 3H5c-1.1 0-2 .9-2 2v14c0 1.1.9 2 2 2h14c1.1 0 2-.9 2-2V5c0-1.1-.9-2-2-2zM9 17H7v-7h2v7zm4 0h-2V7h2v10zm4 0h-2v-4h2v4z\"/>\n",
              "    </g>\n",
              "</svg>\n",
              "  </button>\n",
              "\n",
              "<style>\n",
              "  .colab-df-quickchart {\n",
              "      --bg-color: #E8F0FE;\n",
              "      --fill-color: #1967D2;\n",
              "      --hover-bg-color: #E2EBFA;\n",
              "      --hover-fill-color: #174EA6;\n",
              "      --disabled-fill-color: #AAA;\n",
              "      --disabled-bg-color: #DDD;\n",
              "  }\n",
              "\n",
              "  [theme=dark] .colab-df-quickchart {\n",
              "      --bg-color: #3B4455;\n",
              "      --fill-color: #D2E3FC;\n",
              "      --hover-bg-color: #434B5C;\n",
              "      --hover-fill-color: #FFFFFF;\n",
              "      --disabled-bg-color: #3B4455;\n",
              "      --disabled-fill-color: #666;\n",
              "  }\n",
              "\n",
              "  .colab-df-quickchart {\n",
              "    background-color: var(--bg-color);\n",
              "    border: none;\n",
              "    border-radius: 50%;\n",
              "    cursor: pointer;\n",
              "    display: none;\n",
              "    fill: var(--fill-color);\n",
              "    height: 32px;\n",
              "    padding: 0;\n",
              "    width: 32px;\n",
              "  }\n",
              "\n",
              "  .colab-df-quickchart:hover {\n",
              "    background-color: var(--hover-bg-color);\n",
              "    box-shadow: 0 1px 2px rgba(60, 64, 67, 0.3), 0 1px 3px 1px rgba(60, 64, 67, 0.15);\n",
              "    fill: var(--button-hover-fill-color);\n",
              "  }\n",
              "\n",
              "  .colab-df-quickchart-complete:disabled,\n",
              "  .colab-df-quickchart-complete:disabled:hover {\n",
              "    background-color: var(--disabled-bg-color);\n",
              "    fill: var(--disabled-fill-color);\n",
              "    box-shadow: none;\n",
              "  }\n",
              "\n",
              "  .colab-df-spinner {\n",
              "    border: 2px solid var(--fill-color);\n",
              "    border-color: transparent;\n",
              "    border-bottom-color: var(--fill-color);\n",
              "    animation:\n",
              "      spin 1s steps(1) infinite;\n",
              "  }\n",
              "\n",
              "  @keyframes spin {\n",
              "    0% {\n",
              "      border-color: transparent;\n",
              "      border-bottom-color: var(--fill-color);\n",
              "      border-left-color: var(--fill-color);\n",
              "    }\n",
              "    20% {\n",
              "      border-color: transparent;\n",
              "      border-left-color: var(--fill-color);\n",
              "      border-top-color: var(--fill-color);\n",
              "    }\n",
              "    30% {\n",
              "      border-color: transparent;\n",
              "      border-left-color: var(--fill-color);\n",
              "      border-top-color: var(--fill-color);\n",
              "      border-right-color: var(--fill-color);\n",
              "    }\n",
              "    40% {\n",
              "      border-color: transparent;\n",
              "      border-right-color: var(--fill-color);\n",
              "      border-top-color: var(--fill-color);\n",
              "    }\n",
              "    60% {\n",
              "      border-color: transparent;\n",
              "      border-right-color: var(--fill-color);\n",
              "    }\n",
              "    80% {\n",
              "      border-color: transparent;\n",
              "      border-right-color: var(--fill-color);\n",
              "      border-bottom-color: var(--fill-color);\n",
              "    }\n",
              "    90% {\n",
              "      border-color: transparent;\n",
              "      border-bottom-color: var(--fill-color);\n",
              "    }\n",
              "  }\n",
              "</style>\n",
              "\n",
              "  <script>\n",
              "    async function quickchart(key) {\n",
              "      const quickchartButtonEl =\n",
              "        document.querySelector('#' + key + ' button');\n",
              "      quickchartButtonEl.disabled = true;  // To prevent multiple clicks.\n",
              "      quickchartButtonEl.classList.add('colab-df-spinner');\n",
              "      try {\n",
              "        const charts = await google.colab.kernel.invokeFunction(\n",
              "            'suggestCharts', [key], {});\n",
              "      } catch (error) {\n",
              "        console.error('Error during call to suggestCharts:', error);\n",
              "      }\n",
              "      quickchartButtonEl.classList.remove('colab-df-spinner');\n",
              "      quickchartButtonEl.classList.add('colab-df-quickchart-complete');\n",
              "    }\n",
              "    (() => {\n",
              "      let quickchartButtonEl =\n",
              "        document.querySelector('#df-554027d1-8d86-45bb-ba48-317b1349b859 button');\n",
              "      quickchartButtonEl.style.display =\n",
              "        google.colab.kernel.accessAllowed ? 'block' : 'none';\n",
              "    })();\n",
              "  </script>\n",
              "</div>\n",
              "    </div>\n",
              "  </div>\n"
            ]
          },
          "metadata": {},
          "execution_count": 138
        }
      ],
      "source": [
        "data.sort_values(by=\"view_count\", ascending=False)[data[\"country\"] == \"IT\"].iloc[:5, [0, 5, 9]]"
      ]
    },
    {
      "cell_type": "markdown",
      "id": "5fc10b5f",
      "metadata": {
        "run_control": {
          "frozen": false,
          "read_only": false
        },
        "id": "5fc10b5f"
      },
      "source": [
        "<br>That Little Puff <br> SMTOWN<br> Celine & Michiel<br> SportsNation<br> BeatboxJCOP"
      ]
    },
    {
      "cell_type": "markdown",
      "id": "81878fa6",
      "metadata": {
        "run_control": {
          "frozen": false,
          "read_only": false
        },
        "id": "81878fa6"
      },
      "source": [
        "\n",
        "#### Какой видеоролик был опубликован в наибольшем кол-ве стран?\n",
        "\n"
      ]
    },
    {
      "cell_type": "code",
      "execution_count": null,
      "id": "4b20a67a",
      "metadata": {
        "run_control": {
          "frozen": false,
          "read_only": false
        },
        "scrolled": true,
        "id": "4b20a67a",
        "colab": {
          "base_uri": "https://localhost:8080/"
        },
        "outputId": "6c740107-ad3d-446d-cd65-48861acda77e"
      },
      "outputs": [
        {
          "output_type": "execute_result",
          "data": {
            "text/plain": [
              "title\n",
              "Race Highlights | 2022 British Grand Prix    17\n",
              "Name: country, dtype: int64"
            ]
          },
          "metadata": {},
          "execution_count": 139
        }
      ],
      "source": [
        "data.groupby(\"title\", dropna=True)[\"country\"].count().sort_values(ascending=False).head(1)"
      ]
    },
    {
      "cell_type": "markdown",
      "id": "07f9f3f5",
      "metadata": {
        "run_control": {
          "frozen": false,
          "read_only": false
        },
        "id": "07f9f3f5"
      },
      "source": [
        "Race Highlights | 2022 British Grand Prix"
      ]
    },
    {
      "cell_type": "markdown",
      "id": "1e776613",
      "metadata": {
        "run_control": {
          "frozen": false,
          "read_only": false
        },
        "id": "1e776613"
      },
      "source": [
        "#### Какое максимальное число просмотров у видеороликов, выпущенных во Франции или Италии (в колонке country значениe FR или IT) в июле (колонка publishedAt)?\n",
        "\n"
      ]
    },
    {
      "cell_type": "code",
      "execution_count": null,
      "id": "ee71c86b",
      "metadata": {
        "run_control": {
          "frozen": false,
          "read_only": false
        },
        "id": "ee71c86b",
        "colab": {
          "base_uri": "https://localhost:8080/"
        },
        "outputId": "a4eff156-d94a-4d13-daa3-9fdb976e784f"
      },
      "outputs": [
        {
          "output_type": "execute_result",
          "data": {
            "text/plain": [
              "82864422"
            ]
          },
          "metadata": {},
          "execution_count": 140
        }
      ],
      "source": [
        "data[\"view_count\"][((data[\"country\"] == \"IT\") | (data[\"country\"] == \"FR\")) & (data[\"publishedAt\"].dt.month == 7)].max()"
      ]
    },
    {
      "cell_type": "markdown",
      "id": "c046a2da",
      "metadata": {
        "run_control": {
          "frozen": false,
          "read_only": false
        },
        "id": "c046a2da"
      },
      "source": [
        "####  Предположим, что была допущена ошибка, и все видеоролики из 17 категории, относятся к 16 категории. Исправим нужные значения в колонке categoryId, после чего выведем все уникальные категории.\n",
        "\n"
      ]
    },
    {
      "cell_type": "code",
      "execution_count": null,
      "id": "903a52aa",
      "metadata": {
        "run_control": {
          "frozen": false,
          "read_only": false
        },
        "id": "903a52aa",
        "colab": {
          "base_uri": "https://localhost:8080/"
        },
        "outputId": "8f2f6851-25ff-4884-d4c8-906254c21d49"
      },
      "outputs": [
        {
          "output_type": "execute_result",
          "data": {
            "text/plain": [
              "array([24, 10,  1, 15, 22, 23, 27, 16, 20, 26, 25,  2, 19, 28])"
            ]
          },
          "metadata": {},
          "execution_count": 141
        }
      ],
      "source": [
        "data[data[\"categoryId\"] == 17]\n",
        "data.loc[lambda d: d[\"categoryId\"] == 17, \"categoryId\"] = 16\n",
        "data[\"categoryId\"].unique()"
      ]
    },
    {
      "cell_type": "markdown",
      "id": "1d639ee0",
      "metadata": {
        "run_control": {
          "frozen": false,
          "read_only": false
        },
        "id": "1d639ee0"
      },
      "source": [
        "#### Анализ колонки tags.\n",
        "\n",
        "* Замена строк со значением '[none]' на пустую строку.\n",
        "* Какой самый популярный тэг?\n"
      ]
    },
    {
      "cell_type": "code",
      "execution_count": null,
      "id": "32d33e19",
      "metadata": {
        "run_control": {
          "frozen": false,
          "read_only": false
        },
        "id": "32d33e19",
        "colab": {
          "base_uri": "https://localhost:8080/"
        },
        "outputId": "5e828d47-79d0-4be1-b825-2dc41c487fb6"
      },
      "outputs": [
        {
          "output_type": "execute_result",
          "data": {
            "text/plain": [
              "             616\n",
              "challenge    140\n",
              "Name: tags, dtype: int64"
            ]
          },
          "metadata": {},
          "execution_count": 142
        }
      ],
      "source": [
        "pattern = '[none]'\n",
        "data.loc[data[\"tags\"] == pattern, \"tags\"] = \"\"\n",
        "data[\"tags\"].apply(lambda d: d.strip().lower().split('|')).explode(\"tags\").value_counts().sort_values(ascending=False).head(2)"
      ]
    },
    {
      "cell_type": "markdown",
      "id": "6a1fec21",
      "metadata": {
        "run_control": {
          "frozen": false,
          "read_only": false
        },
        "id": "6a1fec21"
      },
      "source": [
        "challenge - самый популярный тэг"
      ]
    },
    {
      "cell_type": "markdown",
      "id": "b91b39da",
      "metadata": {
        "run_control": {
          "frozen": false,
          "read_only": false
        },
        "id": "b91b39da"
      },
      "source": [
        "# Часть 2. Визуализация данных"
      ]
    },
    {
      "cell_type": "code",
      "execution_count": null,
      "id": "d2920a94",
      "metadata": {
        "run_control": {
          "frozen": false,
          "read_only": false
        },
        "id": "d2920a94"
      },
      "outputs": [],
      "source": [
        "import matplotlib\n",
        "import matplotlib.pyplot as plt\n",
        "\n",
        "%matplotlib inline\n",
        "\n",
        "%config InlineBackend.figure_format = 'svg'"
      ]
    },
    {
      "cell_type": "markdown",
      "id": "1fb6a2ef",
      "metadata": {
        "run_control": {
          "frozen": false,
          "read_only": false
        },
        "id": "1fb6a2ef"
      },
      "source": [
        "### График (line plot) зависимости кол-ва выпущенных роликов от даты публикации.\n",
        "\n"
      ]
    },
    {
      "cell_type": "code",
      "execution_count": null,
      "id": "f44c3111",
      "metadata": {
        "run_control": {
          "frozen": false,
          "read_only": false
        },
        "id": "f44c3111",
        "colab": {
          "base_uri": "https://localhost:8080/",
          "height": 471
        },
        "outputId": "be8422e3-6e0d-4728-fbaf-27c2e6921496"
      },
      "outputs": [
        {
          "output_type": "display_data",
          "data": {
            "text/plain": [
              "<Figure size 1000x500 with 1 Axes>"
            ],
            "image/svg+xml": "<?xml version=\"1.0\" encoding=\"utf-8\" standalone=\"no\"?>\n<!DOCTYPE svg PUBLIC \"-//W3C//DTD SVG 1.1//EN\"\n  \"http://www.w3.org/Graphics/SVG/1.1/DTD/svg11.dtd\">\n<svg xmlns:xlink=\"http://www.w3.org/1999/xlink\" width=\"612.165625pt\" height=\"337.074375pt\" viewBox=\"0 0 612.165625 337.074375\" xmlns=\"http://www.w3.org/2000/svg\" version=\"1.1\">\n <metadata>\n  <rdf:RDF xmlns:dc=\"http://purl.org/dc/elements/1.1/\" xmlns:cc=\"http://creativecommons.org/ns#\" xmlns:rdf=\"http://www.w3.org/1999/02/22-rdf-syntax-ns#\">\n   <cc:Work>\n    <dc:type rdf:resource=\"http://purl.org/dc/dcmitype/StillImage\"/>\n    <dc:date>2023-10-11T19:50:21.040888</dc:date>\n    <dc:format>image/svg+xml</dc:format>\n    <dc:creator>\n     <cc:Agent>\n      <dc:title>Matplotlib v3.7.1, https://matplotlib.org/</dc:title>\n     </cc:Agent>\n    </dc:creator>\n   </cc:Work>\n  </rdf:RDF>\n </metadata>\n <defs>\n  <style type=\"text/css\">*{stroke-linejoin: round; stroke-linecap: butt}</style>\n </defs>\n <g id=\"figure_1\">\n  <g id=\"patch_1\">\n   <path d=\"M 0 337.074375 \nL 612.165625 337.074375 \nL 612.165625 0 \nL 0 0 \nz\n\" style=\"fill: #ffffff\"/>\n  </g>\n  <g id=\"axes_1\">\n   <g id=\"patch_2\">\n    <path d=\"M 46.965625 299.518125 \nL 604.965625 299.518125 \nL 604.965625 22.318125 \nL 46.965625 22.318125 \nz\n\" style=\"fill: #ffffff\"/>\n   </g>\n   <g id=\"matplotlib.axis_1\">\n    <g id=\"xtick_1\">\n     <g id=\"line2d_1\">\n      <path d=\"M 72.329261 299.518125 \nL 72.329261 22.318125 \n\" clip-path=\"url(#p37c792b4cc)\" style=\"fill: none; stroke: #b0b0b0; stroke-width: 0.8; stroke-linecap: square\"/>\n     </g>\n     <g id=\"line2d_2\">\n      <defs>\n       <path id=\"maa439331d4\" d=\"M 0 0 \nL 0 3.5 \n\" style=\"stroke: #000000; stroke-width: 0.8\"/>\n      </defs>\n      <g>\n       <use xlink:href=\"#maa439331d4\" x=\"72.329261\" y=\"299.518125\" style=\"stroke: #000000; stroke-width: 0.8\"/>\n      </g>\n     </g>\n     <g id=\"text_1\">\n      <!-- 2022-06-04 -->\n      <g transform=\"translate(43.271449 314.116563) scale(0.1 -0.1)\">\n       <defs>\n        <path id=\"DejaVuSans-32\" d=\"M 1228 531 \nL 3431 531 \nL 3431 0 \nL 469 0 \nL 469 531 \nQ 828 903 1448 1529 \nQ 2069 2156 2228 2338 \nQ 2531 2678 2651 2914 \nQ 2772 3150 2772 3378 \nQ 2772 3750 2511 3984 \nQ 2250 4219 1831 4219 \nQ 1534 4219 1204 4116 \nQ 875 4013 500 3803 \nL 500 4441 \nQ 881 4594 1212 4672 \nQ 1544 4750 1819 4750 \nQ 2544 4750 2975 4387 \nQ 3406 4025 3406 3419 \nQ 3406 3131 3298 2873 \nQ 3191 2616 2906 2266 \nQ 2828 2175 2409 1742 \nQ 1991 1309 1228 531 \nz\n\" transform=\"scale(0.015625)\"/>\n        <path id=\"DejaVuSans-30\" d=\"M 2034 4250 \nQ 1547 4250 1301 3770 \nQ 1056 3291 1056 2328 \nQ 1056 1369 1301 889 \nQ 1547 409 2034 409 \nQ 2525 409 2770 889 \nQ 3016 1369 3016 2328 \nQ 3016 3291 2770 3770 \nQ 2525 4250 2034 4250 \nz\nM 2034 4750 \nQ 2819 4750 3233 4129 \nQ 3647 3509 3647 2328 \nQ 3647 1150 3233 529 \nQ 2819 -91 2034 -91 \nQ 1250 -91 836 529 \nQ 422 1150 422 2328 \nQ 422 3509 836 4129 \nQ 1250 4750 2034 4750 \nz\n\" transform=\"scale(0.015625)\"/>\n        <path id=\"DejaVuSans-2d\" d=\"M 313 2009 \nL 1997 2009 \nL 1997 1497 \nL 313 1497 \nL 313 2009 \nz\n\" transform=\"scale(0.015625)\"/>\n        <path id=\"DejaVuSans-36\" d=\"M 2113 2584 \nQ 1688 2584 1439 2293 \nQ 1191 2003 1191 1497 \nQ 1191 994 1439 701 \nQ 1688 409 2113 409 \nQ 2538 409 2786 701 \nQ 3034 994 3034 1497 \nQ 3034 2003 2786 2293 \nQ 2538 2584 2113 2584 \nz\nM 3366 4563 \nL 3366 3988 \nQ 3128 4100 2886 4159 \nQ 2644 4219 2406 4219 \nQ 1781 4219 1451 3797 \nQ 1122 3375 1075 2522 \nQ 1259 2794 1537 2939 \nQ 1816 3084 2150 3084 \nQ 2853 3084 3261 2657 \nQ 3669 2231 3669 1497 \nQ 3669 778 3244 343 \nQ 2819 -91 2113 -91 \nQ 1303 -91 875 529 \nQ 447 1150 447 2328 \nQ 447 3434 972 4092 \nQ 1497 4750 2381 4750 \nQ 2619 4750 2861 4703 \nQ 3103 4656 3366 4563 \nz\n\" transform=\"scale(0.015625)\"/>\n        <path id=\"DejaVuSans-34\" d=\"M 2419 4116 \nL 825 1625 \nL 2419 1625 \nL 2419 4116 \nz\nM 2253 4666 \nL 3047 4666 \nL 3047 1625 \nL 3713 1625 \nL 3713 1100 \nL 3047 1100 \nL 3047 0 \nL 2419 0 \nL 2419 1100 \nL 313 1100 \nL 313 1709 \nL 2253 4666 \nz\n\" transform=\"scale(0.015625)\"/>\n       </defs>\n       <use xlink:href=\"#DejaVuSans-32\"/>\n       <use xlink:href=\"#DejaVuSans-30\" x=\"63.623047\"/>\n       <use xlink:href=\"#DejaVuSans-32\" x=\"127.246094\"/>\n       <use xlink:href=\"#DejaVuSans-32\" x=\"190.869141\"/>\n       <use xlink:href=\"#DejaVuSans-2d\" x=\"254.492188\"/>\n       <use xlink:href=\"#DejaVuSans-30\" x=\"290.576172\"/>\n       <use xlink:href=\"#DejaVuSans-36\" x=\"354.199219\"/>\n       <use xlink:href=\"#DejaVuSans-2d\" x=\"417.822266\"/>\n       <use xlink:href=\"#DejaVuSans-30\" x=\"453.90625\"/>\n       <use xlink:href=\"#DejaVuSans-34\" x=\"517.529297\"/>\n      </g>\n     </g>\n    </g>\n    <g id=\"xtick_2\">\n     <g id=\"line2d_3\">\n      <path d=\"M 142.783807 299.518125 \nL 142.783807 22.318125 \n\" clip-path=\"url(#p37c792b4cc)\" style=\"fill: none; stroke: #b0b0b0; stroke-width: 0.8; stroke-linecap: square\"/>\n     </g>\n     <g id=\"line2d_4\">\n      <g>\n       <use xlink:href=\"#maa439331d4\" x=\"142.783807\" y=\"299.518125\" style=\"stroke: #000000; stroke-width: 0.8\"/>\n      </g>\n     </g>\n     <g id=\"text_2\">\n      <!-- 2022-06-09 -->\n      <g transform=\"translate(113.725994 314.116563) scale(0.1 -0.1)\">\n       <defs>\n        <path id=\"DejaVuSans-39\" d=\"M 703 97 \nL 703 672 \nQ 941 559 1184 500 \nQ 1428 441 1663 441 \nQ 2288 441 2617 861 \nQ 2947 1281 2994 2138 \nQ 2813 1869 2534 1725 \nQ 2256 1581 1919 1581 \nQ 1219 1581 811 2004 \nQ 403 2428 403 3163 \nQ 403 3881 828 4315 \nQ 1253 4750 1959 4750 \nQ 2769 4750 3195 4129 \nQ 3622 3509 3622 2328 \nQ 3622 1225 3098 567 \nQ 2575 -91 1691 -91 \nQ 1453 -91 1209 -44 \nQ 966 3 703 97 \nz\nM 1959 2075 \nQ 2384 2075 2632 2365 \nQ 2881 2656 2881 3163 \nQ 2881 3666 2632 3958 \nQ 2384 4250 1959 4250 \nQ 1534 4250 1286 3958 \nQ 1038 3666 1038 3163 \nQ 1038 2656 1286 2365 \nQ 1534 2075 1959 2075 \nz\n\" transform=\"scale(0.015625)\"/>\n       </defs>\n       <use xlink:href=\"#DejaVuSans-32\"/>\n       <use xlink:href=\"#DejaVuSans-30\" x=\"63.623047\"/>\n       <use xlink:href=\"#DejaVuSans-32\" x=\"127.246094\"/>\n       <use xlink:href=\"#DejaVuSans-32\" x=\"190.869141\"/>\n       <use xlink:href=\"#DejaVuSans-2d\" x=\"254.492188\"/>\n       <use xlink:href=\"#DejaVuSans-30\" x=\"290.576172\"/>\n       <use xlink:href=\"#DejaVuSans-36\" x=\"354.199219\"/>\n       <use xlink:href=\"#DejaVuSans-2d\" x=\"417.822266\"/>\n       <use xlink:href=\"#DejaVuSans-30\" x=\"453.90625\"/>\n       <use xlink:href=\"#DejaVuSans-39\" x=\"517.529297\"/>\n      </g>\n     </g>\n    </g>\n    <g id=\"xtick_3\">\n     <g id=\"line2d_5\">\n      <path d=\"M 213.238352 299.518125 \nL 213.238352 22.318125 \n\" clip-path=\"url(#p37c792b4cc)\" style=\"fill: none; stroke: #b0b0b0; stroke-width: 0.8; stroke-linecap: square\"/>\n     </g>\n     <g id=\"line2d_6\">\n      <g>\n       <use xlink:href=\"#maa439331d4\" x=\"213.238352\" y=\"299.518125\" style=\"stroke: #000000; stroke-width: 0.8\"/>\n      </g>\n     </g>\n     <g id=\"text_3\">\n      <!-- 2022-06-14 -->\n      <g transform=\"translate(184.18054 314.116563) scale(0.1 -0.1)\">\n       <defs>\n        <path id=\"DejaVuSans-31\" d=\"M 794 531 \nL 1825 531 \nL 1825 4091 \nL 703 3866 \nL 703 4441 \nL 1819 4666 \nL 2450 4666 \nL 2450 531 \nL 3481 531 \nL 3481 0 \nL 794 0 \nL 794 531 \nz\n\" transform=\"scale(0.015625)\"/>\n       </defs>\n       <use xlink:href=\"#DejaVuSans-32\"/>\n       <use xlink:href=\"#DejaVuSans-30\" x=\"63.623047\"/>\n       <use xlink:href=\"#DejaVuSans-32\" x=\"127.246094\"/>\n       <use xlink:href=\"#DejaVuSans-32\" x=\"190.869141\"/>\n       <use xlink:href=\"#DejaVuSans-2d\" x=\"254.492188\"/>\n       <use xlink:href=\"#DejaVuSans-30\" x=\"290.576172\"/>\n       <use xlink:href=\"#DejaVuSans-36\" x=\"354.199219\"/>\n       <use xlink:href=\"#DejaVuSans-2d\" x=\"417.822266\"/>\n       <use xlink:href=\"#DejaVuSans-31\" x=\"453.90625\"/>\n       <use xlink:href=\"#DejaVuSans-34\" x=\"517.529297\"/>\n      </g>\n     </g>\n    </g>\n    <g id=\"xtick_4\">\n     <g id=\"line2d_7\">\n      <path d=\"M 283.692898 299.518125 \nL 283.692898 22.318125 \n\" clip-path=\"url(#p37c792b4cc)\" style=\"fill: none; stroke: #b0b0b0; stroke-width: 0.8; stroke-linecap: square\"/>\n     </g>\n     <g id=\"line2d_8\">\n      <g>\n       <use xlink:href=\"#maa439331d4\" x=\"283.692898\" y=\"299.518125\" style=\"stroke: #000000; stroke-width: 0.8\"/>\n      </g>\n     </g>\n     <g id=\"text_4\">\n      <!-- 2022-06-19 -->\n      <g transform=\"translate(254.635085 314.116563) scale(0.1 -0.1)\">\n       <use xlink:href=\"#DejaVuSans-32\"/>\n       <use xlink:href=\"#DejaVuSans-30\" x=\"63.623047\"/>\n       <use xlink:href=\"#DejaVuSans-32\" x=\"127.246094\"/>\n       <use xlink:href=\"#DejaVuSans-32\" x=\"190.869141\"/>\n       <use xlink:href=\"#DejaVuSans-2d\" x=\"254.492188\"/>\n       <use xlink:href=\"#DejaVuSans-30\" x=\"290.576172\"/>\n       <use xlink:href=\"#DejaVuSans-36\" x=\"354.199219\"/>\n       <use xlink:href=\"#DejaVuSans-2d\" x=\"417.822266\"/>\n       <use xlink:href=\"#DejaVuSans-31\" x=\"453.90625\"/>\n       <use xlink:href=\"#DejaVuSans-39\" x=\"517.529297\"/>\n      </g>\n     </g>\n    </g>\n    <g id=\"xtick_5\">\n     <g id=\"line2d_9\">\n      <path d=\"M 354.147443 299.518125 \nL 354.147443 22.318125 \n\" clip-path=\"url(#p37c792b4cc)\" style=\"fill: none; stroke: #b0b0b0; stroke-width: 0.8; stroke-linecap: square\"/>\n     </g>\n     <g id=\"line2d_10\">\n      <g>\n       <use xlink:href=\"#maa439331d4\" x=\"354.147443\" y=\"299.518125\" style=\"stroke: #000000; stroke-width: 0.8\"/>\n      </g>\n     </g>\n     <g id=\"text_5\">\n      <!-- 2022-06-24 -->\n      <g transform=\"translate(325.089631 314.116563) scale(0.1 -0.1)\">\n       <use xlink:href=\"#DejaVuSans-32\"/>\n       <use xlink:href=\"#DejaVuSans-30\" x=\"63.623047\"/>\n       <use xlink:href=\"#DejaVuSans-32\" x=\"127.246094\"/>\n       <use xlink:href=\"#DejaVuSans-32\" x=\"190.869141\"/>\n       <use xlink:href=\"#DejaVuSans-2d\" x=\"254.492188\"/>\n       <use xlink:href=\"#DejaVuSans-30\" x=\"290.576172\"/>\n       <use xlink:href=\"#DejaVuSans-36\" x=\"354.199219\"/>\n       <use xlink:href=\"#DejaVuSans-2d\" x=\"417.822266\"/>\n       <use xlink:href=\"#DejaVuSans-32\" x=\"453.90625\"/>\n       <use xlink:href=\"#DejaVuSans-34\" x=\"517.529297\"/>\n      </g>\n     </g>\n    </g>\n    <g id=\"xtick_6\">\n     <g id=\"line2d_11\">\n      <path d=\"M 424.601989 299.518125 \nL 424.601989 22.318125 \n\" clip-path=\"url(#p37c792b4cc)\" style=\"fill: none; stroke: #b0b0b0; stroke-width: 0.8; stroke-linecap: square\"/>\n     </g>\n     <g id=\"line2d_12\">\n      <g>\n       <use xlink:href=\"#maa439331d4\" x=\"424.601989\" y=\"299.518125\" style=\"stroke: #000000; stroke-width: 0.8\"/>\n      </g>\n     </g>\n     <g id=\"text_6\">\n      <!-- 2022-06-29 -->\n      <g transform=\"translate(395.544176 314.116563) scale(0.1 -0.1)\">\n       <use xlink:href=\"#DejaVuSans-32\"/>\n       <use xlink:href=\"#DejaVuSans-30\" x=\"63.623047\"/>\n       <use xlink:href=\"#DejaVuSans-32\" x=\"127.246094\"/>\n       <use xlink:href=\"#DejaVuSans-32\" x=\"190.869141\"/>\n       <use xlink:href=\"#DejaVuSans-2d\" x=\"254.492188\"/>\n       <use xlink:href=\"#DejaVuSans-30\" x=\"290.576172\"/>\n       <use xlink:href=\"#DejaVuSans-36\" x=\"354.199219\"/>\n       <use xlink:href=\"#DejaVuSans-2d\" x=\"417.822266\"/>\n       <use xlink:href=\"#DejaVuSans-32\" x=\"453.90625\"/>\n       <use xlink:href=\"#DejaVuSans-39\" x=\"517.529297\"/>\n      </g>\n     </g>\n    </g>\n    <g id=\"xtick_7\">\n     <g id=\"line2d_13\">\n      <path d=\"M 495.056534 299.518125 \nL 495.056534 22.318125 \n\" clip-path=\"url(#p37c792b4cc)\" style=\"fill: none; stroke: #b0b0b0; stroke-width: 0.8; stroke-linecap: square\"/>\n     </g>\n     <g id=\"line2d_14\">\n      <g>\n       <use xlink:href=\"#maa439331d4\" x=\"495.056534\" y=\"299.518125\" style=\"stroke: #000000; stroke-width: 0.8\"/>\n      </g>\n     </g>\n     <g id=\"text_7\">\n      <!-- 2022-07-04 -->\n      <g transform=\"translate(465.998722 314.116563) scale(0.1 -0.1)\">\n       <defs>\n        <path id=\"DejaVuSans-37\" d=\"M 525 4666 \nL 3525 4666 \nL 3525 4397 \nL 1831 0 \nL 1172 0 \nL 2766 4134 \nL 525 4134 \nL 525 4666 \nz\n\" transform=\"scale(0.015625)\"/>\n       </defs>\n       <use xlink:href=\"#DejaVuSans-32\"/>\n       <use xlink:href=\"#DejaVuSans-30\" x=\"63.623047\"/>\n       <use xlink:href=\"#DejaVuSans-32\" x=\"127.246094\"/>\n       <use xlink:href=\"#DejaVuSans-32\" x=\"190.869141\"/>\n       <use xlink:href=\"#DejaVuSans-2d\" x=\"254.492188\"/>\n       <use xlink:href=\"#DejaVuSans-30\" x=\"290.576172\"/>\n       <use xlink:href=\"#DejaVuSans-37\" x=\"354.199219\"/>\n       <use xlink:href=\"#DejaVuSans-2d\" x=\"417.822266\"/>\n       <use xlink:href=\"#DejaVuSans-30\" x=\"453.90625\"/>\n       <use xlink:href=\"#DejaVuSans-34\" x=\"517.529297\"/>\n      </g>\n     </g>\n    </g>\n    <g id=\"xtick_8\">\n     <g id=\"line2d_15\">\n      <path d=\"M 565.51108 299.518125 \nL 565.51108 22.318125 \n\" clip-path=\"url(#p37c792b4cc)\" style=\"fill: none; stroke: #b0b0b0; stroke-width: 0.8; stroke-linecap: square\"/>\n     </g>\n     <g id=\"line2d_16\">\n      <g>\n       <use xlink:href=\"#maa439331d4\" x=\"565.51108\" y=\"299.518125\" style=\"stroke: #000000; stroke-width: 0.8\"/>\n      </g>\n     </g>\n     <g id=\"text_8\">\n      <!-- 2022-07-09 -->\n      <g transform=\"translate(536.453267 314.116563) scale(0.1 -0.1)\">\n       <use xlink:href=\"#DejaVuSans-32\"/>\n       <use xlink:href=\"#DejaVuSans-30\" x=\"63.623047\"/>\n       <use xlink:href=\"#DejaVuSans-32\" x=\"127.246094\"/>\n       <use xlink:href=\"#DejaVuSans-32\" x=\"190.869141\"/>\n       <use xlink:href=\"#DejaVuSans-2d\" x=\"254.492188\"/>\n       <use xlink:href=\"#DejaVuSans-30\" x=\"290.576172\"/>\n       <use xlink:href=\"#DejaVuSans-37\" x=\"354.199219\"/>\n       <use xlink:href=\"#DejaVuSans-2d\" x=\"417.822266\"/>\n       <use xlink:href=\"#DejaVuSans-30\" x=\"453.90625\"/>\n       <use xlink:href=\"#DejaVuSans-39\" x=\"517.529297\"/>\n      </g>\n     </g>\n    </g>\n    <g id=\"text_9\">\n     <!-- publication date -->\n     <g transform=\"translate(285.415625 327.794688) scale(0.1 -0.1)\">\n      <defs>\n       <path id=\"DejaVuSans-70\" d=\"M 1159 525 \nL 1159 -1331 \nL 581 -1331 \nL 581 3500 \nL 1159 3500 \nL 1159 2969 \nQ 1341 3281 1617 3432 \nQ 1894 3584 2278 3584 \nQ 2916 3584 3314 3078 \nQ 3713 2572 3713 1747 \nQ 3713 922 3314 415 \nQ 2916 -91 2278 -91 \nQ 1894 -91 1617 61 \nQ 1341 213 1159 525 \nz\nM 3116 1747 \nQ 3116 2381 2855 2742 \nQ 2594 3103 2138 3103 \nQ 1681 3103 1420 2742 \nQ 1159 2381 1159 1747 \nQ 1159 1113 1420 752 \nQ 1681 391 2138 391 \nQ 2594 391 2855 752 \nQ 3116 1113 3116 1747 \nz\n\" transform=\"scale(0.015625)\"/>\n       <path id=\"DejaVuSans-75\" d=\"M 544 1381 \nL 544 3500 \nL 1119 3500 \nL 1119 1403 \nQ 1119 906 1312 657 \nQ 1506 409 1894 409 \nQ 2359 409 2629 706 \nQ 2900 1003 2900 1516 \nL 2900 3500 \nL 3475 3500 \nL 3475 0 \nL 2900 0 \nL 2900 538 \nQ 2691 219 2414 64 \nQ 2138 -91 1772 -91 \nQ 1169 -91 856 284 \nQ 544 659 544 1381 \nz\nM 1991 3584 \nL 1991 3584 \nz\n\" transform=\"scale(0.015625)\"/>\n       <path id=\"DejaVuSans-62\" d=\"M 3116 1747 \nQ 3116 2381 2855 2742 \nQ 2594 3103 2138 3103 \nQ 1681 3103 1420 2742 \nQ 1159 2381 1159 1747 \nQ 1159 1113 1420 752 \nQ 1681 391 2138 391 \nQ 2594 391 2855 752 \nQ 3116 1113 3116 1747 \nz\nM 1159 2969 \nQ 1341 3281 1617 3432 \nQ 1894 3584 2278 3584 \nQ 2916 3584 3314 3078 \nQ 3713 2572 3713 1747 \nQ 3713 922 3314 415 \nQ 2916 -91 2278 -91 \nQ 1894 -91 1617 61 \nQ 1341 213 1159 525 \nL 1159 0 \nL 581 0 \nL 581 4863 \nL 1159 4863 \nL 1159 2969 \nz\n\" transform=\"scale(0.015625)\"/>\n       <path id=\"DejaVuSans-6c\" d=\"M 603 4863 \nL 1178 4863 \nL 1178 0 \nL 603 0 \nL 603 4863 \nz\n\" transform=\"scale(0.015625)\"/>\n       <path id=\"DejaVuSans-69\" d=\"M 603 3500 \nL 1178 3500 \nL 1178 0 \nL 603 0 \nL 603 3500 \nz\nM 603 4863 \nL 1178 4863 \nL 1178 4134 \nL 603 4134 \nL 603 4863 \nz\n\" transform=\"scale(0.015625)\"/>\n       <path id=\"DejaVuSans-63\" d=\"M 3122 3366 \nL 3122 2828 \nQ 2878 2963 2633 3030 \nQ 2388 3097 2138 3097 \nQ 1578 3097 1268 2742 \nQ 959 2388 959 1747 \nQ 959 1106 1268 751 \nQ 1578 397 2138 397 \nQ 2388 397 2633 464 \nQ 2878 531 3122 666 \nL 3122 134 \nQ 2881 22 2623 -34 \nQ 2366 -91 2075 -91 \nQ 1284 -91 818 406 \nQ 353 903 353 1747 \nQ 353 2603 823 3093 \nQ 1294 3584 2113 3584 \nQ 2378 3584 2631 3529 \nQ 2884 3475 3122 3366 \nz\n\" transform=\"scale(0.015625)\"/>\n       <path id=\"DejaVuSans-61\" d=\"M 2194 1759 \nQ 1497 1759 1228 1600 \nQ 959 1441 959 1056 \nQ 959 750 1161 570 \nQ 1363 391 1709 391 \nQ 2188 391 2477 730 \nQ 2766 1069 2766 1631 \nL 2766 1759 \nL 2194 1759 \nz\nM 3341 1997 \nL 3341 0 \nL 2766 0 \nL 2766 531 \nQ 2569 213 2275 61 \nQ 1981 -91 1556 -91 \nQ 1019 -91 701 211 \nQ 384 513 384 1019 \nQ 384 1609 779 1909 \nQ 1175 2209 1959 2209 \nL 2766 2209 \nL 2766 2266 \nQ 2766 2663 2505 2880 \nQ 2244 3097 1772 3097 \nQ 1472 3097 1187 3025 \nQ 903 2953 641 2809 \nL 641 3341 \nQ 956 3463 1253 3523 \nQ 1550 3584 1831 3584 \nQ 2591 3584 2966 3190 \nQ 3341 2797 3341 1997 \nz\n\" transform=\"scale(0.015625)\"/>\n       <path id=\"DejaVuSans-74\" d=\"M 1172 4494 \nL 1172 3500 \nL 2356 3500 \nL 2356 3053 \nL 1172 3053 \nL 1172 1153 \nQ 1172 725 1289 603 \nQ 1406 481 1766 481 \nL 2356 481 \nL 2356 0 \nL 1766 0 \nQ 1100 0 847 248 \nQ 594 497 594 1153 \nL 594 3053 \nL 172 3053 \nL 172 3500 \nL 594 3500 \nL 594 4494 \nL 1172 4494 \nz\n\" transform=\"scale(0.015625)\"/>\n       <path id=\"DejaVuSans-6f\" d=\"M 1959 3097 \nQ 1497 3097 1228 2736 \nQ 959 2375 959 1747 \nQ 959 1119 1226 758 \nQ 1494 397 1959 397 \nQ 2419 397 2687 759 \nQ 2956 1122 2956 1747 \nQ 2956 2369 2687 2733 \nQ 2419 3097 1959 3097 \nz\nM 1959 3584 \nQ 2709 3584 3137 3096 \nQ 3566 2609 3566 1747 \nQ 3566 888 3137 398 \nQ 2709 -91 1959 -91 \nQ 1206 -91 779 398 \nQ 353 888 353 1747 \nQ 353 2609 779 3096 \nQ 1206 3584 1959 3584 \nz\n\" transform=\"scale(0.015625)\"/>\n       <path id=\"DejaVuSans-6e\" d=\"M 3513 2113 \nL 3513 0 \nL 2938 0 \nL 2938 2094 \nQ 2938 2591 2744 2837 \nQ 2550 3084 2163 3084 \nQ 1697 3084 1428 2787 \nQ 1159 2491 1159 1978 \nL 1159 0 \nL 581 0 \nL 581 3500 \nL 1159 3500 \nL 1159 2956 \nQ 1366 3272 1645 3428 \nQ 1925 3584 2291 3584 \nQ 2894 3584 3203 3211 \nQ 3513 2838 3513 2113 \nz\n\" transform=\"scale(0.015625)\"/>\n       <path id=\"DejaVuSans-20\" transform=\"scale(0.015625)\"/>\n       <path id=\"DejaVuSans-64\" d=\"M 2906 2969 \nL 2906 4863 \nL 3481 4863 \nL 3481 0 \nL 2906 0 \nL 2906 525 \nQ 2725 213 2448 61 \nQ 2172 -91 1784 -91 \nQ 1150 -91 751 415 \nQ 353 922 353 1747 \nQ 353 2572 751 3078 \nQ 1150 3584 1784 3584 \nQ 2172 3584 2448 3432 \nQ 2725 3281 2906 2969 \nz\nM 947 1747 \nQ 947 1113 1208 752 \nQ 1469 391 1925 391 \nQ 2381 391 2643 752 \nQ 2906 1113 2906 1747 \nQ 2906 2381 2643 2742 \nQ 2381 3103 1925 3103 \nQ 1469 3103 1208 2742 \nQ 947 2381 947 1747 \nz\n\" transform=\"scale(0.015625)\"/>\n       <path id=\"DejaVuSans-65\" d=\"M 3597 1894 \nL 3597 1613 \nL 953 1613 \nQ 991 1019 1311 708 \nQ 1631 397 2203 397 \nQ 2534 397 2845 478 \nQ 3156 559 3463 722 \nL 3463 178 \nQ 3153 47 2828 -22 \nQ 2503 -91 2169 -91 \nQ 1331 -91 842 396 \nQ 353 884 353 1716 \nQ 353 2575 817 3079 \nQ 1281 3584 2069 3584 \nQ 2775 3584 3186 3129 \nQ 3597 2675 3597 1894 \nz\nM 3022 2063 \nQ 3016 2534 2758 2815 \nQ 2500 3097 2075 3097 \nQ 1594 3097 1305 2825 \nQ 1016 2553 972 2059 \nL 3022 2063 \nz\n\" transform=\"scale(0.015625)\"/>\n      </defs>\n      <use xlink:href=\"#DejaVuSans-70\"/>\n      <use xlink:href=\"#DejaVuSans-75\" x=\"63.476562\"/>\n      <use xlink:href=\"#DejaVuSans-62\" x=\"126.855469\"/>\n      <use xlink:href=\"#DejaVuSans-6c\" x=\"190.332031\"/>\n      <use xlink:href=\"#DejaVuSans-69\" x=\"218.115234\"/>\n      <use xlink:href=\"#DejaVuSans-63\" x=\"245.898438\"/>\n      <use xlink:href=\"#DejaVuSans-61\" x=\"300.878906\"/>\n      <use xlink:href=\"#DejaVuSans-74\" x=\"362.158203\"/>\n      <use xlink:href=\"#DejaVuSans-69\" x=\"401.367188\"/>\n      <use xlink:href=\"#DejaVuSans-6f\" x=\"429.150391\"/>\n      <use xlink:href=\"#DejaVuSans-6e\" x=\"490.332031\"/>\n      <use xlink:href=\"#DejaVuSans-20\" x=\"553.710938\"/>\n      <use xlink:href=\"#DejaVuSans-64\" x=\"585.498047\"/>\n      <use xlink:href=\"#DejaVuSans-61\" x=\"648.974609\"/>\n      <use xlink:href=\"#DejaVuSans-74\" x=\"710.253906\"/>\n      <use xlink:href=\"#DejaVuSans-65\" x=\"749.462891\"/>\n     </g>\n    </g>\n   </g>\n   <g id=\"matplotlib.axis_2\">\n    <g id=\"ytick_1\">\n     <g id=\"line2d_17\">\n      <path d=\"M 46.965625 292.060982 \nL 604.965625 292.060982 \n\" clip-path=\"url(#p37c792b4cc)\" style=\"fill: none; stroke: #b0b0b0; stroke-width: 0.8; stroke-linecap: square\"/>\n     </g>\n     <g id=\"line2d_18\">\n      <defs>\n       <path id=\"ma6c22c49a7\" d=\"M 0 0 \nL -3.5 0 \n\" style=\"stroke: #000000; stroke-width: 0.8\"/>\n      </defs>\n      <g>\n       <use xlink:href=\"#ma6c22c49a7\" x=\"46.965625\" y=\"292.060982\" style=\"stroke: #000000; stroke-width: 0.8\"/>\n      </g>\n     </g>\n     <g id=\"text_10\">\n      <!-- 0 -->\n      <g transform=\"translate(33.603125 295.860201) scale(0.1 -0.1)\">\n       <use xlink:href=\"#DejaVuSans-30\"/>\n      </g>\n     </g>\n    </g>\n    <g id=\"ytick_2\">\n     <g id=\"line2d_19\">\n      <path d=\"M 46.965625 259.918125 \nL 604.965625 259.918125 \n\" clip-path=\"url(#p37c792b4cc)\" style=\"fill: none; stroke: #b0b0b0; stroke-width: 0.8; stroke-linecap: square\"/>\n     </g>\n     <g id=\"line2d_20\">\n      <g>\n       <use xlink:href=\"#ma6c22c49a7\" x=\"46.965625\" y=\"259.918125\" style=\"stroke: #000000; stroke-width: 0.8\"/>\n      </g>\n     </g>\n     <g id=\"text_11\">\n      <!-- 25 -->\n      <g transform=\"translate(27.240625 263.717344) scale(0.1 -0.1)\">\n       <defs>\n        <path id=\"DejaVuSans-35\" d=\"M 691 4666 \nL 3169 4666 \nL 3169 4134 \nL 1269 4134 \nL 1269 2991 \nQ 1406 3038 1543 3061 \nQ 1681 3084 1819 3084 \nQ 2600 3084 3056 2656 \nQ 3513 2228 3513 1497 \nQ 3513 744 3044 326 \nQ 2575 -91 1722 -91 \nQ 1428 -91 1123 -41 \nQ 819 9 494 109 \nL 494 744 \nQ 775 591 1075 516 \nQ 1375 441 1709 441 \nQ 2250 441 2565 725 \nQ 2881 1009 2881 1497 \nQ 2881 1984 2565 2268 \nQ 2250 2553 1709 2553 \nQ 1456 2553 1204 2497 \nQ 953 2441 691 2322 \nL 691 4666 \nz\n\" transform=\"scale(0.015625)\"/>\n       </defs>\n       <use xlink:href=\"#DejaVuSans-32\"/>\n       <use xlink:href=\"#DejaVuSans-35\" x=\"63.623047\"/>\n      </g>\n     </g>\n    </g>\n    <g id=\"ytick_3\">\n     <g id=\"line2d_21\">\n      <path d=\"M 46.965625 227.775268 \nL 604.965625 227.775268 \n\" clip-path=\"url(#p37c792b4cc)\" style=\"fill: none; stroke: #b0b0b0; stroke-width: 0.8; stroke-linecap: square\"/>\n     </g>\n     <g id=\"line2d_22\">\n      <g>\n       <use xlink:href=\"#ma6c22c49a7\" x=\"46.965625\" y=\"227.775268\" style=\"stroke: #000000; stroke-width: 0.8\"/>\n      </g>\n     </g>\n     <g id=\"text_12\">\n      <!-- 50 -->\n      <g transform=\"translate(27.240625 231.574487) scale(0.1 -0.1)\">\n       <use xlink:href=\"#DejaVuSans-35\"/>\n       <use xlink:href=\"#DejaVuSans-30\" x=\"63.623047\"/>\n      </g>\n     </g>\n    </g>\n    <g id=\"ytick_4\">\n     <g id=\"line2d_23\">\n      <path d=\"M 46.965625 195.632411 \nL 604.965625 195.632411 \n\" clip-path=\"url(#p37c792b4cc)\" style=\"fill: none; stroke: #b0b0b0; stroke-width: 0.8; stroke-linecap: square\"/>\n     </g>\n     <g id=\"line2d_24\">\n      <g>\n       <use xlink:href=\"#ma6c22c49a7\" x=\"46.965625\" y=\"195.632411\" style=\"stroke: #000000; stroke-width: 0.8\"/>\n      </g>\n     </g>\n     <g id=\"text_13\">\n      <!-- 75 -->\n      <g transform=\"translate(27.240625 199.431629) scale(0.1 -0.1)\">\n       <use xlink:href=\"#DejaVuSans-37\"/>\n       <use xlink:href=\"#DejaVuSans-35\" x=\"63.623047\"/>\n      </g>\n     </g>\n    </g>\n    <g id=\"ytick_5\">\n     <g id=\"line2d_25\">\n      <path d=\"M 46.965625 163.489554 \nL 604.965625 163.489554 \n\" clip-path=\"url(#p37c792b4cc)\" style=\"fill: none; stroke: #b0b0b0; stroke-width: 0.8; stroke-linecap: square\"/>\n     </g>\n     <g id=\"line2d_26\">\n      <g>\n       <use xlink:href=\"#ma6c22c49a7\" x=\"46.965625\" y=\"163.489554\" style=\"stroke: #000000; stroke-width: 0.8\"/>\n      </g>\n     </g>\n     <g id=\"text_14\">\n      <!-- 100 -->\n      <g transform=\"translate(20.878125 167.288772) scale(0.1 -0.1)\">\n       <use xlink:href=\"#DejaVuSans-31\"/>\n       <use xlink:href=\"#DejaVuSans-30\" x=\"63.623047\"/>\n       <use xlink:href=\"#DejaVuSans-30\" x=\"127.246094\"/>\n      </g>\n     </g>\n    </g>\n    <g id=\"ytick_6\">\n     <g id=\"line2d_27\">\n      <path d=\"M 46.965625 131.346696 \nL 604.965625 131.346696 \n\" clip-path=\"url(#p37c792b4cc)\" style=\"fill: none; stroke: #b0b0b0; stroke-width: 0.8; stroke-linecap: square\"/>\n     </g>\n     <g id=\"line2d_28\">\n      <g>\n       <use xlink:href=\"#ma6c22c49a7\" x=\"46.965625\" y=\"131.346696\" style=\"stroke: #000000; stroke-width: 0.8\"/>\n      </g>\n     </g>\n     <g id=\"text_15\">\n      <!-- 125 -->\n      <g transform=\"translate(20.878125 135.145915) scale(0.1 -0.1)\">\n       <use xlink:href=\"#DejaVuSans-31\"/>\n       <use xlink:href=\"#DejaVuSans-32\" x=\"63.623047\"/>\n       <use xlink:href=\"#DejaVuSans-35\" x=\"127.246094\"/>\n      </g>\n     </g>\n    </g>\n    <g id=\"ytick_7\">\n     <g id=\"line2d_29\">\n      <path d=\"M 46.965625 99.203839 \nL 604.965625 99.203839 \n\" clip-path=\"url(#p37c792b4cc)\" style=\"fill: none; stroke: #b0b0b0; stroke-width: 0.8; stroke-linecap: square\"/>\n     </g>\n     <g id=\"line2d_30\">\n      <g>\n       <use xlink:href=\"#ma6c22c49a7\" x=\"46.965625\" y=\"99.203839\" style=\"stroke: #000000; stroke-width: 0.8\"/>\n      </g>\n     </g>\n     <g id=\"text_16\">\n      <!-- 150 -->\n      <g transform=\"translate(20.878125 103.003058) scale(0.1 -0.1)\">\n       <use xlink:href=\"#DejaVuSans-31\"/>\n       <use xlink:href=\"#DejaVuSans-35\" x=\"63.623047\"/>\n       <use xlink:href=\"#DejaVuSans-30\" x=\"127.246094\"/>\n      </g>\n     </g>\n    </g>\n    <g id=\"ytick_8\">\n     <g id=\"line2d_31\">\n      <path d=\"M 46.965625 67.060982 \nL 604.965625 67.060982 \n\" clip-path=\"url(#p37c792b4cc)\" style=\"fill: none; stroke: #b0b0b0; stroke-width: 0.8; stroke-linecap: square\"/>\n     </g>\n     <g id=\"line2d_32\">\n      <g>\n       <use xlink:href=\"#ma6c22c49a7\" x=\"46.965625\" y=\"67.060982\" style=\"stroke: #000000; stroke-width: 0.8\"/>\n      </g>\n     </g>\n     <g id=\"text_17\">\n      <!-- 175 -->\n      <g transform=\"translate(20.878125 70.860201) scale(0.1 -0.1)\">\n       <use xlink:href=\"#DejaVuSans-31\"/>\n       <use xlink:href=\"#DejaVuSans-37\" x=\"63.623047\"/>\n       <use xlink:href=\"#DejaVuSans-35\" x=\"127.246094\"/>\n      </g>\n     </g>\n    </g>\n    <g id=\"ytick_9\">\n     <g id=\"line2d_33\">\n      <path d=\"M 46.965625 34.918125 \nL 604.965625 34.918125 \n\" clip-path=\"url(#p37c792b4cc)\" style=\"fill: none; stroke: #b0b0b0; stroke-width: 0.8; stroke-linecap: square\"/>\n     </g>\n     <g id=\"line2d_34\">\n      <g>\n       <use xlink:href=\"#ma6c22c49a7\" x=\"46.965625\" y=\"34.918125\" style=\"stroke: #000000; stroke-width: 0.8\"/>\n      </g>\n     </g>\n     <g id=\"text_18\">\n      <!-- 200 -->\n      <g transform=\"translate(20.878125 38.717344) scale(0.1 -0.1)\">\n       <use xlink:href=\"#DejaVuSans-32\"/>\n       <use xlink:href=\"#DejaVuSans-30\" x=\"63.623047\"/>\n       <use xlink:href=\"#DejaVuSans-30\" x=\"127.246094\"/>\n      </g>\n     </g>\n    </g>\n    <g id=\"text_19\">\n     <!-- number of videos released -->\n     <g transform=\"translate(14.798438 227.686875) rotate(-90) scale(0.1 -0.1)\">\n      <defs>\n       <path id=\"DejaVuSans-6d\" d=\"M 3328 2828 \nQ 3544 3216 3844 3400 \nQ 4144 3584 4550 3584 \nQ 5097 3584 5394 3201 \nQ 5691 2819 5691 2113 \nL 5691 0 \nL 5113 0 \nL 5113 2094 \nQ 5113 2597 4934 2840 \nQ 4756 3084 4391 3084 \nQ 3944 3084 3684 2787 \nQ 3425 2491 3425 1978 \nL 3425 0 \nL 2847 0 \nL 2847 2094 \nQ 2847 2600 2669 2842 \nQ 2491 3084 2119 3084 \nQ 1678 3084 1418 2786 \nQ 1159 2488 1159 1978 \nL 1159 0 \nL 581 0 \nL 581 3500 \nL 1159 3500 \nL 1159 2956 \nQ 1356 3278 1631 3431 \nQ 1906 3584 2284 3584 \nQ 2666 3584 2933 3390 \nQ 3200 3197 3328 2828 \nz\n\" transform=\"scale(0.015625)\"/>\n       <path id=\"DejaVuSans-72\" d=\"M 2631 2963 \nQ 2534 3019 2420 3045 \nQ 2306 3072 2169 3072 \nQ 1681 3072 1420 2755 \nQ 1159 2438 1159 1844 \nL 1159 0 \nL 581 0 \nL 581 3500 \nL 1159 3500 \nL 1159 2956 \nQ 1341 3275 1631 3429 \nQ 1922 3584 2338 3584 \nQ 2397 3584 2469 3576 \nQ 2541 3569 2628 3553 \nL 2631 2963 \nz\n\" transform=\"scale(0.015625)\"/>\n       <path id=\"DejaVuSans-66\" d=\"M 2375 4863 \nL 2375 4384 \nL 1825 4384 \nQ 1516 4384 1395 4259 \nQ 1275 4134 1275 3809 \nL 1275 3500 \nL 2222 3500 \nL 2222 3053 \nL 1275 3053 \nL 1275 0 \nL 697 0 \nL 697 3053 \nL 147 3053 \nL 147 3500 \nL 697 3500 \nL 697 3744 \nQ 697 4328 969 4595 \nQ 1241 4863 1831 4863 \nL 2375 4863 \nz\n\" transform=\"scale(0.015625)\"/>\n       <path id=\"DejaVuSans-76\" d=\"M 191 3500 \nL 800 3500 \nL 1894 563 \nL 2988 3500 \nL 3597 3500 \nL 2284 0 \nL 1503 0 \nL 191 3500 \nz\n\" transform=\"scale(0.015625)\"/>\n       <path id=\"DejaVuSans-73\" d=\"M 2834 3397 \nL 2834 2853 \nQ 2591 2978 2328 3040 \nQ 2066 3103 1784 3103 \nQ 1356 3103 1142 2972 \nQ 928 2841 928 2578 \nQ 928 2378 1081 2264 \nQ 1234 2150 1697 2047 \nL 1894 2003 \nQ 2506 1872 2764 1633 \nQ 3022 1394 3022 966 \nQ 3022 478 2636 193 \nQ 2250 -91 1575 -91 \nQ 1294 -91 989 -36 \nQ 684 19 347 128 \nL 347 722 \nQ 666 556 975 473 \nQ 1284 391 1588 391 \nQ 1994 391 2212 530 \nQ 2431 669 2431 922 \nQ 2431 1156 2273 1281 \nQ 2116 1406 1581 1522 \nL 1381 1569 \nQ 847 1681 609 1914 \nQ 372 2147 372 2553 \nQ 372 3047 722 3315 \nQ 1072 3584 1716 3584 \nQ 2034 3584 2315 3537 \nQ 2597 3491 2834 3397 \nz\n\" transform=\"scale(0.015625)\"/>\n      </defs>\n      <use xlink:href=\"#DejaVuSans-6e\"/>\n      <use xlink:href=\"#DejaVuSans-75\" x=\"63.378906\"/>\n      <use xlink:href=\"#DejaVuSans-6d\" x=\"126.757812\"/>\n      <use xlink:href=\"#DejaVuSans-62\" x=\"224.169922\"/>\n      <use xlink:href=\"#DejaVuSans-65\" x=\"287.646484\"/>\n      <use xlink:href=\"#DejaVuSans-72\" x=\"349.169922\"/>\n      <use xlink:href=\"#DejaVuSans-20\" x=\"390.283203\"/>\n      <use xlink:href=\"#DejaVuSans-6f\" x=\"422.070312\"/>\n      <use xlink:href=\"#DejaVuSans-66\" x=\"483.251953\"/>\n      <use xlink:href=\"#DejaVuSans-20\" x=\"518.457031\"/>\n      <use xlink:href=\"#DejaVuSans-76\" x=\"550.244141\"/>\n      <use xlink:href=\"#DejaVuSans-69\" x=\"609.423828\"/>\n      <use xlink:href=\"#DejaVuSans-64\" x=\"637.207031\"/>\n      <use xlink:href=\"#DejaVuSans-65\" x=\"700.683594\"/>\n      <use xlink:href=\"#DejaVuSans-6f\" x=\"762.207031\"/>\n      <use xlink:href=\"#DejaVuSans-73\" x=\"823.388672\"/>\n      <use xlink:href=\"#DejaVuSans-20\" x=\"875.488281\"/>\n      <use xlink:href=\"#DejaVuSans-72\" x=\"907.275391\"/>\n      <use xlink:href=\"#DejaVuSans-65\" x=\"946.138672\"/>\n      <use xlink:href=\"#DejaVuSans-6c\" x=\"1007.662109\"/>\n      <use xlink:href=\"#DejaVuSans-65\" x=\"1035.445312\"/>\n      <use xlink:href=\"#DejaVuSans-61\" x=\"1096.96875\"/>\n      <use xlink:href=\"#DejaVuSans-73\" x=\"1158.248047\"/>\n      <use xlink:href=\"#DejaVuSans-65\" x=\"1210.347656\"/>\n      <use xlink:href=\"#DejaVuSans-64\" x=\"1271.871094\"/>\n     </g>\n    </g>\n   </g>\n   <g id=\"line2d_35\">\n    <path d=\"M 72.329261 286.918125 \nL 86.42017 286.918125 \nL 100.51108 284.346696 \nL 114.601989 284.346696 \nL 128.692898 280.489554 \nL 142.783807 281.775268 \nL 156.874716 276.632411 \nL 170.965625 283.060982 \nL 185.056534 285.632411 \nL 199.147443 277.918125 \nL 213.238352 268.918125 \nL 227.329261 272.775268 \nL 241.42017 256.060982 \nL 255.51108 270.203839 \nL 269.601989 274.060982 \nL 283.692898 280.489554 \nL 297.783807 271.489554 \nL 311.874716 254.775268 \nL 325.965625 262.489554 \nL 340.056534 256.060982 \nL 354.147443 263.775268 \nL 368.238352 253.489554 \nL 382.329261 252.203839 \nL 396.42017 249.632411 \nL 410.51108 239.346696 \nL 424.601989 235.489554 \nL 438.692898 204.632411 \nL 452.783807 213.632411 \nL 466.874716 216.203839 \nL 480.965625 198.203839 \nL 495.056534 184.060982 \nL 509.147443 106.918125 \nL 523.238352 50.346696 \nL 537.329261 34.918125 \nL 551.42017 59.346696 \nL 565.51108 114.632411 \nL 579.601989 212.346696 \n\" clip-path=\"url(#p37c792b4cc)\" style=\"fill: none; stroke: #800000; stroke-width: 1.5; stroke-linecap: square\"/>\n   </g>\n   <g id=\"patch_3\">\n    <path d=\"M 46.965625 299.518125 \nL 46.965625 22.318125 \n\" style=\"fill: none; stroke: #000000; stroke-width: 0.8; stroke-linejoin: miter; stroke-linecap: square\"/>\n   </g>\n   <g id=\"patch_4\">\n    <path d=\"M 604.965625 299.518125 \nL 604.965625 22.318125 \n\" style=\"fill: none; stroke: #000000; stroke-width: 0.8; stroke-linejoin: miter; stroke-linecap: square\"/>\n   </g>\n   <g id=\"patch_5\">\n    <path d=\"M 46.965625 299.518125 \nL 604.965625 299.518125 \n\" style=\"fill: none; stroke: #000000; stroke-width: 0.8; stroke-linejoin: miter; stroke-linecap: square\"/>\n   </g>\n   <g id=\"patch_6\">\n    <path d=\"M 46.965625 22.318125 \nL 604.965625 22.318125 \n\" style=\"fill: none; stroke: #000000; stroke-width: 0.8; stroke-linejoin: miter; stroke-linecap: square\"/>\n   </g>\n   <g id=\"text_20\">\n    <!-- Dependence of the number of videos released on the date of publication -->\n    <g transform=\"translate(107.191563 16.318125) scale(0.12 -0.12)\">\n     <defs>\n      <path id=\"DejaVuSans-44\" d=\"M 1259 4147 \nL 1259 519 \nL 2022 519 \nQ 2988 519 3436 956 \nQ 3884 1394 3884 2338 \nQ 3884 3275 3436 3711 \nQ 2988 4147 2022 4147 \nL 1259 4147 \nz\nM 628 4666 \nL 1925 4666 \nQ 3281 4666 3915 4102 \nQ 4550 3538 4550 2338 \nQ 4550 1131 3912 565 \nQ 3275 0 1925 0 \nL 628 0 \nL 628 4666 \nz\n\" transform=\"scale(0.015625)\"/>\n      <path id=\"DejaVuSans-68\" d=\"M 3513 2113 \nL 3513 0 \nL 2938 0 \nL 2938 2094 \nQ 2938 2591 2744 2837 \nQ 2550 3084 2163 3084 \nQ 1697 3084 1428 2787 \nQ 1159 2491 1159 1978 \nL 1159 0 \nL 581 0 \nL 581 4863 \nL 1159 4863 \nL 1159 2956 \nQ 1366 3272 1645 3428 \nQ 1925 3584 2291 3584 \nQ 2894 3584 3203 3211 \nQ 3513 2838 3513 2113 \nz\n\" transform=\"scale(0.015625)\"/>\n     </defs>\n     <use xlink:href=\"#DejaVuSans-44\"/>\n     <use xlink:href=\"#DejaVuSans-65\" x=\"77.001953\"/>\n     <use xlink:href=\"#DejaVuSans-70\" x=\"138.525391\"/>\n     <use xlink:href=\"#DejaVuSans-65\" x=\"202.001953\"/>\n     <use xlink:href=\"#DejaVuSans-6e\" x=\"263.525391\"/>\n     <use xlink:href=\"#DejaVuSans-64\" x=\"326.904297\"/>\n     <use xlink:href=\"#DejaVuSans-65\" x=\"390.380859\"/>\n     <use xlink:href=\"#DejaVuSans-6e\" x=\"451.904297\"/>\n     <use xlink:href=\"#DejaVuSans-63\" x=\"515.283203\"/>\n     <use xlink:href=\"#DejaVuSans-65\" x=\"570.263672\"/>\n     <use xlink:href=\"#DejaVuSans-20\" x=\"631.787109\"/>\n     <use xlink:href=\"#DejaVuSans-6f\" x=\"663.574219\"/>\n     <use xlink:href=\"#DejaVuSans-66\" x=\"724.755859\"/>\n     <use xlink:href=\"#DejaVuSans-20\" x=\"759.960938\"/>\n     <use xlink:href=\"#DejaVuSans-74\" x=\"791.748047\"/>\n     <use xlink:href=\"#DejaVuSans-68\" x=\"830.957031\"/>\n     <use xlink:href=\"#DejaVuSans-65\" x=\"894.335938\"/>\n     <use xlink:href=\"#DejaVuSans-20\" x=\"955.859375\"/>\n     <use xlink:href=\"#DejaVuSans-6e\" x=\"987.646484\"/>\n     <use xlink:href=\"#DejaVuSans-75\" x=\"1051.025391\"/>\n     <use xlink:href=\"#DejaVuSans-6d\" x=\"1114.404297\"/>\n     <use xlink:href=\"#DejaVuSans-62\" x=\"1211.816406\"/>\n     <use xlink:href=\"#DejaVuSans-65\" x=\"1275.292969\"/>\n     <use xlink:href=\"#DejaVuSans-72\" x=\"1336.816406\"/>\n     <use xlink:href=\"#DejaVuSans-20\" x=\"1377.929688\"/>\n     <use xlink:href=\"#DejaVuSans-6f\" x=\"1409.716797\"/>\n     <use xlink:href=\"#DejaVuSans-66\" x=\"1470.898438\"/>\n     <use xlink:href=\"#DejaVuSans-20\" x=\"1506.103516\"/>\n     <use xlink:href=\"#DejaVuSans-76\" x=\"1537.890625\"/>\n     <use xlink:href=\"#DejaVuSans-69\" x=\"1597.070312\"/>\n     <use xlink:href=\"#DejaVuSans-64\" x=\"1624.853516\"/>\n     <use xlink:href=\"#DejaVuSans-65\" x=\"1688.330078\"/>\n     <use xlink:href=\"#DejaVuSans-6f\" x=\"1749.853516\"/>\n     <use xlink:href=\"#DejaVuSans-73\" x=\"1811.035156\"/>\n     <use xlink:href=\"#DejaVuSans-20\" x=\"1863.134766\"/>\n     <use xlink:href=\"#DejaVuSans-72\" x=\"1894.921875\"/>\n     <use xlink:href=\"#DejaVuSans-65\" x=\"1933.785156\"/>\n     <use xlink:href=\"#DejaVuSans-6c\" x=\"1995.308594\"/>\n     <use xlink:href=\"#DejaVuSans-65\" x=\"2023.091797\"/>\n     <use xlink:href=\"#DejaVuSans-61\" x=\"2084.615234\"/>\n     <use xlink:href=\"#DejaVuSans-73\" x=\"2145.894531\"/>\n     <use xlink:href=\"#DejaVuSans-65\" x=\"2197.994141\"/>\n     <use xlink:href=\"#DejaVuSans-64\" x=\"2259.517578\"/>\n     <use xlink:href=\"#DejaVuSans-20\" x=\"2322.994141\"/>\n     <use xlink:href=\"#DejaVuSans-6f\" x=\"2354.78125\"/>\n     <use xlink:href=\"#DejaVuSans-6e\" x=\"2415.962891\"/>\n     <use xlink:href=\"#DejaVuSans-20\" x=\"2479.341797\"/>\n     <use xlink:href=\"#DejaVuSans-74\" x=\"2511.128906\"/>\n     <use xlink:href=\"#DejaVuSans-68\" x=\"2550.337891\"/>\n     <use xlink:href=\"#DejaVuSans-65\" x=\"2613.716797\"/>\n     <use xlink:href=\"#DejaVuSans-20\" x=\"2675.240234\"/>\n     <use xlink:href=\"#DejaVuSans-64\" x=\"2707.027344\"/>\n     <use xlink:href=\"#DejaVuSans-61\" x=\"2770.503906\"/>\n     <use xlink:href=\"#DejaVuSans-74\" x=\"2831.783203\"/>\n     <use xlink:href=\"#DejaVuSans-65\" x=\"2870.992188\"/>\n     <use xlink:href=\"#DejaVuSans-20\" x=\"2932.515625\"/>\n     <use xlink:href=\"#DejaVuSans-6f\" x=\"2964.302734\"/>\n     <use xlink:href=\"#DejaVuSans-66\" x=\"3025.484375\"/>\n     <use xlink:href=\"#DejaVuSans-20\" x=\"3060.689453\"/>\n     <use xlink:href=\"#DejaVuSans-70\" x=\"3092.476562\"/>\n     <use xlink:href=\"#DejaVuSans-75\" x=\"3155.953125\"/>\n     <use xlink:href=\"#DejaVuSans-62\" x=\"3219.332031\"/>\n     <use xlink:href=\"#DejaVuSans-6c\" x=\"3282.808594\"/>\n     <use xlink:href=\"#DejaVuSans-69\" x=\"3310.591797\"/>\n     <use xlink:href=\"#DejaVuSans-63\" x=\"3338.375\"/>\n     <use xlink:href=\"#DejaVuSans-61\" x=\"3393.355469\"/>\n     <use xlink:href=\"#DejaVuSans-74\" x=\"3454.634766\"/>\n     <use xlink:href=\"#DejaVuSans-69\" x=\"3493.84375\"/>\n     <use xlink:href=\"#DejaVuSans-6f\" x=\"3521.626953\"/>\n     <use xlink:href=\"#DejaVuSans-6e\" x=\"3582.808594\"/>\n    </g>\n   </g>\n  </g>\n </g>\n <defs>\n  <clipPath id=\"p37c792b4cc\">\n   <rect x=\"46.965625\" y=\"22.318125\" width=\"558\" height=\"277.2\"/>\n  </clipPath>\n </defs>\n</svg>\n"
          },
          "metadata": {}
        }
      ],
      "source": [
        "\n",
        "plt.figure(figsize=(10,5))\n",
        "\n",
        "\n",
        "plt.title('Dependence of the number of videos released on the date of publication',\n",
        "          fontsize=12)\n",
        "\n",
        "\n",
        "plt.grid(True)\n",
        "\n",
        "\n",
        "plt.xlabel(\"publication date\")\n",
        "plt.ylabel(\"number of videos released\")\n",
        "\n",
        "data.drop_duplicates('title')\n",
        "\n",
        "info = data.groupby(data['publishedAt'].dt.date)['title'].nunique()\n",
        "plt.plot(info.index, info.values, color = 'maroon')\n",
        "plt.xticks(info.index[::5])\n",
        "\n",
        "plt.show()"
      ]
    },
    {
      "cell_type": "markdown",
      "id": "ee7f4e09",
      "metadata": {
        "run_control": {
          "frozen": false,
          "read_only": false
        },
        "id": "ee7f4e09"
      },
      "source": [
        "### Диаграмма (bar plot) кол-ва опубликованных роликов в зависимости от страны."
      ]
    },
    {
      "cell_type": "code",
      "execution_count": null,
      "id": "6414d970",
      "metadata": {
        "run_control": {
          "frozen": false,
          "read_only": false
        },
        "id": "6414d970",
        "colab": {
          "base_uri": "https://localhost:8080/",
          "height": 545
        },
        "outputId": "6d7b1618-6cff-4f1b-dfa3-3022a70ec273"
      },
      "outputs": [
        {
          "output_type": "display_data",
          "data": {
            "text/plain": [
              "<Figure size 800x600 with 1 Axes>"
            ],
            "image/svg+xml": "<?xml version=\"1.0\" encoding=\"utf-8\" standalone=\"no\"?>\n<!DOCTYPE svg PUBLIC \"-//W3C//DTD SVG 1.1//EN\"\n  \"http://www.w3.org/Graphics/SVG/1.1/DTD/svg11.dtd\">\n<svg xmlns:xlink=\"http://www.w3.org/1999/xlink\" width=\"500.565625pt\" height=\"392.514375pt\" viewBox=\"0 0 500.565625 392.514375\" xmlns=\"http://www.w3.org/2000/svg\" version=\"1.1\">\n <metadata>\n  <rdf:RDF xmlns:dc=\"http://purl.org/dc/elements/1.1/\" xmlns:cc=\"http://creativecommons.org/ns#\" xmlns:rdf=\"http://www.w3.org/1999/02/22-rdf-syntax-ns#\">\n   <cc:Work>\n    <dc:type rdf:resource=\"http://purl.org/dc/dcmitype/StillImage\"/>\n    <dc:date>2023-10-11T19:50:21.415315</dc:date>\n    <dc:format>image/svg+xml</dc:format>\n    <dc:creator>\n     <cc:Agent>\n      <dc:title>Matplotlib v3.7.1, https://matplotlib.org/</dc:title>\n     </cc:Agent>\n    </dc:creator>\n   </cc:Work>\n  </rdf:RDF>\n </metadata>\n <defs>\n  <style type=\"text/css\">*{stroke-linejoin: round; stroke-linecap: butt}</style>\n </defs>\n <g id=\"figure_1\">\n  <g id=\"patch_1\">\n   <path d=\"M 0 392.514375 \nL 500.565625 392.514375 \nL 500.565625 0 \nL 0 0 \nz\n\" style=\"fill: #ffffff\"/>\n  </g>\n  <g id=\"axes_1\">\n   <g id=\"patch_2\">\n    <path d=\"M 46.965625 354.958125 \nL 493.365625 354.958125 \nL 493.365625 22.318125 \nL 46.965625 22.318125 \nz\n\" style=\"fill: #ffffff\"/>\n   </g>\n   <g id=\"matplotlib.axis_1\">\n    <g id=\"xtick_1\">\n     <g id=\"line2d_1\">\n      <defs>\n       <path id=\"ma5e6d8c4e1\" d=\"M 0 0 \nL 0 3.5 \n\" style=\"stroke: #000000; stroke-width: 0.8\"/>\n      </defs>\n      <g>\n       <use xlink:href=\"#ma5e6d8c4e1\" x=\"75.890963\" y=\"354.958125\" style=\"stroke: #000000; stroke-width: 0.8\"/>\n      </g>\n     </g>\n     <g id=\"text_1\">\n      <!-- AL -->\n      <g transform=\"translate(69.684713 369.556562) scale(0.1 -0.1)\">\n       <defs>\n        <path id=\"DejaVuSans-41\" d=\"M 2188 4044 \nL 1331 1722 \nL 3047 1722 \nL 2188 4044 \nz\nM 1831 4666 \nL 2547 4666 \nL 4325 0 \nL 3669 0 \nL 3244 1197 \nL 1141 1197 \nL 716 0 \nL 50 0 \nL 1831 4666 \nz\n\" transform=\"scale(0.015625)\"/>\n        <path id=\"DejaVuSans-4c\" d=\"M 628 4666 \nL 1259 4666 \nL 1259 531 \nL 3531 531 \nL 3531 0 \nL 628 0 \nL 628 4666 \nz\n\" transform=\"scale(0.015625)\"/>\n       </defs>\n       <use xlink:href=\"#DejaVuSans-41\"/>\n       <use xlink:href=\"#DejaVuSans-4c\" x=\"68.408203\"/>\n      </g>\n     </g>\n    </g>\n    <g id=\"xtick_2\">\n     <g id=\"line2d_2\">\n      <g>\n       <use xlink:href=\"#ma5e6d8c4e1\" x=\"97.477037\" y=\"354.958125\" style=\"stroke: #000000; stroke-width: 0.8\"/>\n      </g>\n     </g>\n     <g id=\"text_2\">\n      <!-- BA -->\n      <g transform=\"translate(90.626256 369.556562) scale(0.1 -0.1)\">\n       <defs>\n        <path id=\"DejaVuSans-42\" d=\"M 1259 2228 \nL 1259 519 \nL 2272 519 \nQ 2781 519 3026 730 \nQ 3272 941 3272 1375 \nQ 3272 1813 3026 2020 \nQ 2781 2228 2272 2228 \nL 1259 2228 \nz\nM 1259 4147 \nL 1259 2741 \nL 2194 2741 \nQ 2656 2741 2882 2914 \nQ 3109 3088 3109 3444 \nQ 3109 3797 2882 3972 \nQ 2656 4147 2194 4147 \nL 1259 4147 \nz\nM 628 4666 \nL 2241 4666 \nQ 2963 4666 3353 4366 \nQ 3744 4066 3744 3513 \nQ 3744 3084 3544 2831 \nQ 3344 2578 2956 2516 \nQ 3422 2416 3680 2098 \nQ 3938 1781 3938 1306 \nQ 3938 681 3513 340 \nQ 3088 0 2303 0 \nL 628 0 \nL 628 4666 \nz\n\" transform=\"scale(0.015625)\"/>\n       </defs>\n       <use xlink:href=\"#DejaVuSans-42\"/>\n       <use xlink:href=\"#DejaVuSans-41\" x=\"68.603516\"/>\n      </g>\n     </g>\n    </g>\n    <g id=\"xtick_3\">\n     <g id=\"line2d_3\">\n      <g>\n       <use xlink:href=\"#ma5e6d8c4e1\" x=\"119.06311\" y=\"354.958125\" style=\"stroke: #000000; stroke-width: 0.8\"/>\n      </g>\n     </g>\n     <g id=\"text_3\">\n      <!-- CY -->\n      <g transform=\"translate(112.605298 369.556562) scale(0.1 -0.1)\">\n       <defs>\n        <path id=\"DejaVuSans-43\" d=\"M 4122 4306 \nL 4122 3641 \nQ 3803 3938 3442 4084 \nQ 3081 4231 2675 4231 \nQ 1875 4231 1450 3742 \nQ 1025 3253 1025 2328 \nQ 1025 1406 1450 917 \nQ 1875 428 2675 428 \nQ 3081 428 3442 575 \nQ 3803 722 4122 1019 \nL 4122 359 \nQ 3791 134 3420 21 \nQ 3050 -91 2638 -91 \nQ 1578 -91 968 557 \nQ 359 1206 359 2328 \nQ 359 3453 968 4101 \nQ 1578 4750 2638 4750 \nQ 3056 4750 3426 4639 \nQ 3797 4528 4122 4306 \nz\n\" transform=\"scale(0.015625)\"/>\n        <path id=\"DejaVuSans-59\" d=\"M -13 4666 \nL 666 4666 \nL 1959 2747 \nL 3244 4666 \nL 3922 4666 \nL 2272 2222 \nL 2272 0 \nL 1638 0 \nL 1638 2222 \nL -13 4666 \nz\n\" transform=\"scale(0.015625)\"/>\n       </defs>\n       <use xlink:href=\"#DejaVuSans-43\"/>\n       <use xlink:href=\"#DejaVuSans-59\" x=\"68.074219\"/>\n      </g>\n     </g>\n    </g>\n    <g id=\"xtick_4\">\n     <g id=\"line2d_4\">\n      <g>\n       <use xlink:href=\"#ma5e6d8c4e1\" x=\"140.649184\" y=\"354.958125\" style=\"stroke: #000000; stroke-width: 0.8\"/>\n      </g>\n     </g>\n     <g id=\"text_4\">\n      <!-- DZ -->\n      <g transform=\"translate(133.374184 369.556562) scale(0.1 -0.1)\">\n       <defs>\n        <path id=\"DejaVuSans-44\" d=\"M 1259 4147 \nL 1259 519 \nL 2022 519 \nQ 2988 519 3436 956 \nQ 3884 1394 3884 2338 \nQ 3884 3275 3436 3711 \nQ 2988 4147 2022 4147 \nL 1259 4147 \nz\nM 628 4666 \nL 1925 4666 \nQ 3281 4666 3915 4102 \nQ 4550 3538 4550 2338 \nQ 4550 1131 3912 565 \nQ 3275 0 1925 0 \nL 628 0 \nL 628 4666 \nz\n\" transform=\"scale(0.015625)\"/>\n        <path id=\"DejaVuSans-5a\" d=\"M 359 4666 \nL 4025 4666 \nL 4025 4184 \nL 1075 531 \nL 4097 531 \nL 4097 0 \nL 288 0 \nL 288 481 \nL 3238 4134 \nL 359 4134 \nL 359 4666 \nz\n\" transform=\"scale(0.015625)\"/>\n       </defs>\n       <use xlink:href=\"#DejaVuSans-44\"/>\n       <use xlink:href=\"#DejaVuSans-5a\" x=\"77.001953\"/>\n      </g>\n     </g>\n    </g>\n    <g id=\"xtick_5\">\n     <g id=\"line2d_5\">\n      <g>\n       <use xlink:href=\"#ma5e6d8c4e1\" x=\"162.235257\" y=\"354.958125\" style=\"stroke: #000000; stroke-width: 0.8\"/>\n      </g>\n     </g>\n     <g id=\"text_5\">\n      <!-- EG -->\n      <g transform=\"translate(155.201664 369.556562) scale(0.1 -0.1)\">\n       <defs>\n        <path id=\"DejaVuSans-45\" d=\"M 628 4666 \nL 3578 4666 \nL 3578 4134 \nL 1259 4134 \nL 1259 2753 \nL 3481 2753 \nL 3481 2222 \nL 1259 2222 \nL 1259 531 \nL 3634 531 \nL 3634 0 \nL 628 0 \nL 628 4666 \nz\n\" transform=\"scale(0.015625)\"/>\n        <path id=\"DejaVuSans-47\" d=\"M 3809 666 \nL 3809 1919 \nL 2778 1919 \nL 2778 2438 \nL 4434 2438 \nL 4434 434 \nQ 4069 175 3628 42 \nQ 3188 -91 2688 -91 \nQ 1594 -91 976 548 \nQ 359 1188 359 2328 \nQ 359 3472 976 4111 \nQ 1594 4750 2688 4750 \nQ 3144 4750 3555 4637 \nQ 3966 4525 4313 4306 \nL 4313 3634 \nQ 3963 3931 3569 4081 \nQ 3175 4231 2741 4231 \nQ 1884 4231 1454 3753 \nQ 1025 3275 1025 2328 \nQ 1025 1384 1454 906 \nQ 1884 428 2741 428 \nQ 3075 428 3337 486 \nQ 3600 544 3809 666 \nz\n\" transform=\"scale(0.015625)\"/>\n       </defs>\n       <use xlink:href=\"#DejaVuSans-45\"/>\n       <use xlink:href=\"#DejaVuSans-47\" x=\"63.183594\"/>\n      </g>\n     </g>\n    </g>\n    <g id=\"xtick_6\">\n     <g id=\"line2d_6\">\n      <g>\n       <use xlink:href=\"#ma5e6d8c4e1\" x=\"183.821331\" y=\"354.958125\" style=\"stroke: #000000; stroke-width: 0.8\"/>\n      </g>\n     </g>\n     <g id=\"text_6\">\n      <!-- ES -->\n      <g transform=\"translate(177.487737 369.556562) scale(0.1 -0.1)\">\n       <defs>\n        <path id=\"DejaVuSans-53\" d=\"M 3425 4513 \nL 3425 3897 \nQ 3066 4069 2747 4153 \nQ 2428 4238 2131 4238 \nQ 1616 4238 1336 4038 \nQ 1056 3838 1056 3469 \nQ 1056 3159 1242 3001 \nQ 1428 2844 1947 2747 \nL 2328 2669 \nQ 3034 2534 3370 2195 \nQ 3706 1856 3706 1288 \nQ 3706 609 3251 259 \nQ 2797 -91 1919 -91 \nQ 1588 -91 1214 -16 \nQ 841 59 441 206 \nL 441 856 \nQ 825 641 1194 531 \nQ 1563 422 1919 422 \nQ 2459 422 2753 634 \nQ 3047 847 3047 1241 \nQ 3047 1584 2836 1778 \nQ 2625 1972 2144 2069 \nL 1759 2144 \nQ 1053 2284 737 2584 \nQ 422 2884 422 3419 \nQ 422 4038 858 4394 \nQ 1294 4750 2059 4750 \nQ 2388 4750 2728 4690 \nQ 3069 4631 3425 4513 \nz\n\" transform=\"scale(0.015625)\"/>\n       </defs>\n       <use xlink:href=\"#DejaVuSans-45\"/>\n       <use xlink:href=\"#DejaVuSans-53\" x=\"63.183594\"/>\n      </g>\n     </g>\n    </g>\n    <g id=\"xtick_7\">\n     <g id=\"line2d_7\">\n      <g>\n       <use xlink:href=\"#ma5e6d8c4e1\" x=\"205.407404\" y=\"354.958125\" style=\"stroke: #000000; stroke-width: 0.8\"/>\n      </g>\n     </g>\n     <g id=\"text_7\">\n      <!-- FR -->\n      <g transform=\"translate(199.057404 369.556562) scale(0.1 -0.1)\">\n       <defs>\n        <path id=\"DejaVuSans-46\" d=\"M 628 4666 \nL 3309 4666 \nL 3309 4134 \nL 1259 4134 \nL 1259 2759 \nL 3109 2759 \nL 3109 2228 \nL 1259 2228 \nL 1259 0 \nL 628 0 \nL 628 4666 \nz\n\" transform=\"scale(0.015625)\"/>\n        <path id=\"DejaVuSans-52\" d=\"M 2841 2188 \nQ 3044 2119 3236 1894 \nQ 3428 1669 3622 1275 \nL 4263 0 \nL 3584 0 \nL 2988 1197 \nQ 2756 1666 2539 1819 \nQ 2322 1972 1947 1972 \nL 1259 1972 \nL 1259 0 \nL 628 0 \nL 628 4666 \nL 2053 4666 \nQ 2853 4666 3247 4331 \nQ 3641 3997 3641 3322 \nQ 3641 2881 3436 2590 \nQ 3231 2300 2841 2188 \nz\nM 1259 4147 \nL 1259 2491 \nL 2053 2491 \nQ 2509 2491 2742 2702 \nQ 2975 2913 2975 3322 \nQ 2975 3731 2742 3939 \nQ 2509 4147 2053 4147 \nL 1259 4147 \nz\n\" transform=\"scale(0.015625)\"/>\n       </defs>\n       <use xlink:href=\"#DejaVuSans-46\"/>\n       <use xlink:href=\"#DejaVuSans-52\" x=\"57.519531\"/>\n      </g>\n     </g>\n    </g>\n    <g id=\"xtick_8\">\n     <g id=\"line2d_8\">\n      <g>\n       <use xlink:href=\"#ma5e6d8c4e1\" x=\"226.993478\" y=\"354.958125\" style=\"stroke: #000000; stroke-width: 0.8\"/>\n      </g>\n     </g>\n     <g id=\"text_8\">\n      <!-- GR -->\n      <g transform=\"translate(219.64504 369.556562) scale(0.1 -0.1)\">\n       <use xlink:href=\"#DejaVuSans-47\"/>\n       <use xlink:href=\"#DejaVuSans-52\" x=\"77.490234\"/>\n      </g>\n     </g>\n    </g>\n    <g id=\"xtick_9\">\n     <g id=\"line2d_9\">\n      <g>\n       <use xlink:href=\"#ma5e6d8c4e1\" x=\"248.579551\" y=\"354.958125\" style=\"stroke: #000000; stroke-width: 0.8\"/>\n      </g>\n     </g>\n     <g id=\"text_9\">\n      <!-- HR -->\n      <g transform=\"translate(241.345176 369.556562) scale(0.1 -0.1)\">\n       <defs>\n        <path id=\"DejaVuSans-48\" d=\"M 628 4666 \nL 1259 4666 \nL 1259 2753 \nL 3553 2753 \nL 3553 4666 \nL 4184 4666 \nL 4184 0 \nL 3553 0 \nL 3553 2222 \nL 1259 2222 \nL 1259 0 \nL 628 0 \nL 628 4666 \nz\n\" transform=\"scale(0.015625)\"/>\n       </defs>\n       <use xlink:href=\"#DejaVuSans-48\"/>\n       <use xlink:href=\"#DejaVuSans-52\" x=\"75.195312\"/>\n      </g>\n     </g>\n    </g>\n    <g id=\"xtick_10\">\n     <g id=\"line2d_10\">\n      <g>\n       <use xlink:href=\"#ma5e6d8c4e1\" x=\"270.165625\" y=\"354.958125\" style=\"stroke: #000000; stroke-width: 0.8\"/>\n      </g>\n     </g>\n     <g id=\"text_10\">\n      <!-- IL -->\n      <g transform=\"translate(265.904687 369.556562) scale(0.1 -0.1)\">\n       <defs>\n        <path id=\"DejaVuSans-49\" d=\"M 628 4666 \nL 1259 4666 \nL 1259 0 \nL 628 0 \nL 628 4666 \nz\n\" transform=\"scale(0.015625)\"/>\n       </defs>\n       <use xlink:href=\"#DejaVuSans-49\"/>\n       <use xlink:href=\"#DejaVuSans-4c\" x=\"29.492188\"/>\n      </g>\n     </g>\n    </g>\n    <g id=\"xtick_11\">\n     <g id=\"line2d_11\">\n      <g>\n       <use xlink:href=\"#ma5e6d8c4e1\" x=\"291.751699\" y=\"354.958125\" style=\"stroke: #000000; stroke-width: 0.8\"/>\n      </g>\n     </g>\n     <g id=\"text_11\">\n      <!-- IT -->\n      <g transform=\"translate(287.222792 369.556562) scale(0.1 -0.1)\">\n       <defs>\n        <path id=\"DejaVuSans-54\" d=\"M -19 4666 \nL 3928 4666 \nL 3928 4134 \nL 2272 4134 \nL 2272 0 \nL 1638 0 \nL 1638 4134 \nL -19 4134 \nL -19 4666 \nz\n\" transform=\"scale(0.015625)\"/>\n       </defs>\n       <use xlink:href=\"#DejaVuSans-49\"/>\n       <use xlink:href=\"#DejaVuSans-54\" x=\"29.492188\"/>\n      </g>\n     </g>\n    </g>\n    <g id=\"xtick_12\">\n     <g id=\"line2d_12\">\n      <g>\n       <use xlink:href=\"#ma5e6d8c4e1\" x=\"313.337772\" y=\"354.958125\" style=\"stroke: #000000; stroke-width: 0.8\"/>\n      </g>\n     </g>\n     <g id=\"text_12\">\n      <!-- LB -->\n      <g transform=\"translate(307.121366 369.556562) scale(0.1 -0.1)\">\n       <use xlink:href=\"#DejaVuSans-4c\"/>\n       <use xlink:href=\"#DejaVuSans-42\" x=\"55.712891\"/>\n      </g>\n     </g>\n    </g>\n    <g id=\"xtick_13\">\n     <g id=\"line2d_13\">\n      <g>\n       <use xlink:href=\"#ma5e6d8c4e1\" x=\"334.923846\" y=\"354.958125\" style=\"stroke: #000000; stroke-width: 0.8\"/>\n      </g>\n     </g>\n     <g id=\"text_13\">\n      <!-- LY -->\n      <g transform=\"translate(329.746502 369.556562) scale(0.1 -0.1)\">\n       <use xlink:href=\"#DejaVuSans-4c\"/>\n       <use xlink:href=\"#DejaVuSans-59\" x=\"42.462891\"/>\n      </g>\n     </g>\n    </g>\n    <g id=\"xtick_14\">\n     <g id=\"line2d_14\">\n      <g>\n       <use xlink:href=\"#ma5e6d8c4e1\" x=\"356.509919\" y=\"354.958125\" style=\"stroke: #000000; stroke-width: 0.8\"/>\n      </g>\n     </g>\n     <g id=\"text_14\">\n      <!-- MA -->\n      <g transform=\"translate(348.775544 369.556562) scale(0.1 -0.1)\">\n       <defs>\n        <path id=\"DejaVuSans-4d\" d=\"M 628 4666 \nL 1569 4666 \nL 2759 1491 \nL 3956 4666 \nL 4897 4666 \nL 4897 0 \nL 4281 0 \nL 4281 4097 \nL 3078 897 \nL 2444 897 \nL 1241 4097 \nL 1241 0 \nL 628 0 \nL 628 4666 \nz\n\" transform=\"scale(0.015625)\"/>\n       </defs>\n       <use xlink:href=\"#DejaVuSans-4d\"/>\n       <use xlink:href=\"#DejaVuSans-41\" x=\"86.279297\"/>\n      </g>\n     </g>\n    </g>\n    <g id=\"xtick_15\">\n     <g id=\"line2d_15\">\n      <g>\n       <use xlink:href=\"#ma5e6d8c4e1\" x=\"378.095993\" y=\"354.958125\" style=\"stroke: #000000; stroke-width: 0.8\"/>\n      </g>\n     </g>\n     <g id=\"text_15\">\n      <!-- ME -->\n      <g transform=\"translate(370.622555 369.556562) scale(0.1 -0.1)\">\n       <use xlink:href=\"#DejaVuSans-4d\"/>\n       <use xlink:href=\"#DejaVuSans-45\" x=\"86.279297\"/>\n      </g>\n     </g>\n    </g>\n    <g id=\"xtick_16\">\n     <g id=\"line2d_16\">\n      <g>\n       <use xlink:href=\"#ma5e6d8c4e1\" x=\"399.682066\" y=\"354.958125\" style=\"stroke: #000000; stroke-width: 0.8\"/>\n      </g>\n     </g>\n     <g id=\"text_16\">\n      <!-- MT -->\n      <g transform=\"translate(392.314097 369.556562) scale(0.1 -0.1)\">\n       <use xlink:href=\"#DejaVuSans-4d\"/>\n       <use xlink:href=\"#DejaVuSans-54\" x=\"86.279297\"/>\n      </g>\n     </g>\n    </g>\n    <g id=\"xtick_17\">\n     <g id=\"line2d_17\">\n      <g>\n       <use xlink:href=\"#ma5e6d8c4e1\" x=\"421.26814\" y=\"354.958125\" style=\"stroke: #000000; stroke-width: 0.8\"/>\n      </g>\n     </g>\n     <g id=\"text_17\">\n      <!-- SI -->\n      <g transform=\"translate(416.618921 369.556562) scale(0.1 -0.1)\">\n       <use xlink:href=\"#DejaVuSans-53\"/>\n       <use xlink:href=\"#DejaVuSans-49\" x=\"63.476562\"/>\n      </g>\n     </g>\n    </g>\n    <g id=\"xtick_18\">\n     <g id=\"line2d_18\">\n      <g>\n       <use xlink:href=\"#ma5e6d8c4e1\" x=\"442.854213\" y=\"354.958125\" style=\"stroke: #000000; stroke-width: 0.8\"/>\n      </g>\n     </g>\n     <g id=\"text_18\">\n      <!-- TN -->\n      <g transform=\"translate(436.059682 369.556562) scale(0.1 -0.1)\">\n       <defs>\n        <path id=\"DejaVuSans-4e\" d=\"M 628 4666 \nL 1478 4666 \nL 3547 763 \nL 3547 4666 \nL 4159 4666 \nL 4159 0 \nL 3309 0 \nL 1241 3903 \nL 1241 0 \nL 628 0 \nL 628 4666 \nz\n\" transform=\"scale(0.015625)\"/>\n       </defs>\n       <use xlink:href=\"#DejaVuSans-54\"/>\n       <use xlink:href=\"#DejaVuSans-4e\" x=\"61.083984\"/>\n      </g>\n     </g>\n    </g>\n    <g id=\"xtick_19\">\n     <g id=\"line2d_19\">\n      <g>\n       <use xlink:href=\"#ma5e6d8c4e1\" x=\"464.440287\" y=\"354.958125\" style=\"stroke: #000000; stroke-width: 0.8\"/>\n      </g>\n     </g>\n     <g id=\"text_19\">\n      <!-- TR -->\n      <g transform=\"translate(457.912162 369.556562) scale(0.1 -0.1)\">\n       <use xlink:href=\"#DejaVuSans-54\"/>\n       <use xlink:href=\"#DejaVuSans-52\" x=\"61.083984\"/>\n      </g>\n     </g>\n    </g>\n    <g id=\"text_20\">\n     <!-- country -->\n     <g transform=\"translate(251.044531 383.234687) scale(0.1 -0.1)\">\n      <defs>\n       <path id=\"DejaVuSans-63\" d=\"M 3122 3366 \nL 3122 2828 \nQ 2878 2963 2633 3030 \nQ 2388 3097 2138 3097 \nQ 1578 3097 1268 2742 \nQ 959 2388 959 1747 \nQ 959 1106 1268 751 \nQ 1578 397 2138 397 \nQ 2388 397 2633 464 \nQ 2878 531 3122 666 \nL 3122 134 \nQ 2881 22 2623 -34 \nQ 2366 -91 2075 -91 \nQ 1284 -91 818 406 \nQ 353 903 353 1747 \nQ 353 2603 823 3093 \nQ 1294 3584 2113 3584 \nQ 2378 3584 2631 3529 \nQ 2884 3475 3122 3366 \nz\n\" transform=\"scale(0.015625)\"/>\n       <path id=\"DejaVuSans-6f\" d=\"M 1959 3097 \nQ 1497 3097 1228 2736 \nQ 959 2375 959 1747 \nQ 959 1119 1226 758 \nQ 1494 397 1959 397 \nQ 2419 397 2687 759 \nQ 2956 1122 2956 1747 \nQ 2956 2369 2687 2733 \nQ 2419 3097 1959 3097 \nz\nM 1959 3584 \nQ 2709 3584 3137 3096 \nQ 3566 2609 3566 1747 \nQ 3566 888 3137 398 \nQ 2709 -91 1959 -91 \nQ 1206 -91 779 398 \nQ 353 888 353 1747 \nQ 353 2609 779 3096 \nQ 1206 3584 1959 3584 \nz\n\" transform=\"scale(0.015625)\"/>\n       <path id=\"DejaVuSans-75\" d=\"M 544 1381 \nL 544 3500 \nL 1119 3500 \nL 1119 1403 \nQ 1119 906 1312 657 \nQ 1506 409 1894 409 \nQ 2359 409 2629 706 \nQ 2900 1003 2900 1516 \nL 2900 3500 \nL 3475 3500 \nL 3475 0 \nL 2900 0 \nL 2900 538 \nQ 2691 219 2414 64 \nQ 2138 -91 1772 -91 \nQ 1169 -91 856 284 \nQ 544 659 544 1381 \nz\nM 1991 3584 \nL 1991 3584 \nz\n\" transform=\"scale(0.015625)\"/>\n       <path id=\"DejaVuSans-6e\" d=\"M 3513 2113 \nL 3513 0 \nL 2938 0 \nL 2938 2094 \nQ 2938 2591 2744 2837 \nQ 2550 3084 2163 3084 \nQ 1697 3084 1428 2787 \nQ 1159 2491 1159 1978 \nL 1159 0 \nL 581 0 \nL 581 3500 \nL 1159 3500 \nL 1159 2956 \nQ 1366 3272 1645 3428 \nQ 1925 3584 2291 3584 \nQ 2894 3584 3203 3211 \nQ 3513 2838 3513 2113 \nz\n\" transform=\"scale(0.015625)\"/>\n       <path id=\"DejaVuSans-74\" d=\"M 1172 4494 \nL 1172 3500 \nL 2356 3500 \nL 2356 3053 \nL 1172 3053 \nL 1172 1153 \nQ 1172 725 1289 603 \nQ 1406 481 1766 481 \nL 2356 481 \nL 2356 0 \nL 1766 0 \nQ 1100 0 847 248 \nQ 594 497 594 1153 \nL 594 3053 \nL 172 3053 \nL 172 3500 \nL 594 3500 \nL 594 4494 \nL 1172 4494 \nz\n\" transform=\"scale(0.015625)\"/>\n       <path id=\"DejaVuSans-72\" d=\"M 2631 2963 \nQ 2534 3019 2420 3045 \nQ 2306 3072 2169 3072 \nQ 1681 3072 1420 2755 \nQ 1159 2438 1159 1844 \nL 1159 0 \nL 581 0 \nL 581 3500 \nL 1159 3500 \nL 1159 2956 \nQ 1341 3275 1631 3429 \nQ 1922 3584 2338 3584 \nQ 2397 3584 2469 3576 \nQ 2541 3569 2628 3553 \nL 2631 2963 \nz\n\" transform=\"scale(0.015625)\"/>\n       <path id=\"DejaVuSans-79\" d=\"M 2059 -325 \nQ 1816 -950 1584 -1140 \nQ 1353 -1331 966 -1331 \nL 506 -1331 \nL 506 -850 \nL 844 -850 \nQ 1081 -850 1212 -737 \nQ 1344 -625 1503 -206 \nL 1606 56 \nL 191 3500 \nL 800 3500 \nL 1894 763 \nL 2988 3500 \nL 3597 3500 \nL 2059 -325 \nz\n\" transform=\"scale(0.015625)\"/>\n      </defs>\n      <use xlink:href=\"#DejaVuSans-63\"/>\n      <use xlink:href=\"#DejaVuSans-6f\" x=\"54.980469\"/>\n      <use xlink:href=\"#DejaVuSans-75\" x=\"116.162109\"/>\n      <use xlink:href=\"#DejaVuSans-6e\" x=\"179.541016\"/>\n      <use xlink:href=\"#DejaVuSans-74\" x=\"242.919922\"/>\n      <use xlink:href=\"#DejaVuSans-72\" x=\"282.128906\"/>\n      <use xlink:href=\"#DejaVuSans-79\" x=\"323.242188\"/>\n     </g>\n    </g>\n   </g>\n   <g id=\"matplotlib.axis_2\">\n    <g id=\"ytick_1\">\n     <g id=\"line2d_20\">\n      <path d=\"M 46.965625 354.958125 \nL 493.365625 354.958125 \n\" clip-path=\"url(#p1f3bc4b7c0)\" style=\"fill: none; stroke: #b0b0b0; stroke-width: 0.8; stroke-linecap: square\"/>\n     </g>\n     <g id=\"line2d_21\">\n      <defs>\n       <path id=\"m2f204b7753\" d=\"M 0 0 \nL -3.5 0 \n\" style=\"stroke: #000000; stroke-width: 0.8\"/>\n      </defs>\n      <g>\n       <use xlink:href=\"#m2f204b7753\" x=\"46.965625\" y=\"354.958125\" style=\"stroke: #000000; stroke-width: 0.8\"/>\n      </g>\n     </g>\n     <g id=\"text_21\">\n      <!-- 0 -->\n      <g transform=\"translate(33.603125 358.757344) scale(0.1 -0.1)\">\n       <defs>\n        <path id=\"DejaVuSans-30\" d=\"M 2034 4250 \nQ 1547 4250 1301 3770 \nQ 1056 3291 1056 2328 \nQ 1056 1369 1301 889 \nQ 1547 409 2034 409 \nQ 2525 409 2770 889 \nQ 3016 1369 3016 2328 \nQ 3016 3291 2770 3770 \nQ 2525 4250 2034 4250 \nz\nM 2034 4750 \nQ 2819 4750 3233 4129 \nQ 3647 3509 3647 2328 \nQ 3647 1150 3233 529 \nQ 2819 -91 2034 -91 \nQ 1250 -91 836 529 \nQ 422 1150 422 2328 \nQ 422 3509 836 4129 \nQ 1250 4750 2034 4750 \nz\n\" transform=\"scale(0.015625)\"/>\n       </defs>\n       <use xlink:href=\"#DejaVuSans-30\"/>\n      </g>\n     </g>\n    </g>\n    <g id=\"ytick_2\">\n     <g id=\"line2d_22\">\n      <path d=\"M 46.965625 315.358125 \nL 493.365625 315.358125 \n\" clip-path=\"url(#p1f3bc4b7c0)\" style=\"fill: none; stroke: #b0b0b0; stroke-width: 0.8; stroke-linecap: square\"/>\n     </g>\n     <g id=\"line2d_23\">\n      <g>\n       <use xlink:href=\"#m2f204b7753\" x=\"46.965625\" y=\"315.358125\" style=\"stroke: #000000; stroke-width: 0.8\"/>\n      </g>\n     </g>\n     <g id=\"text_22\">\n      <!-- 25 -->\n      <g transform=\"translate(27.240625 319.157344) scale(0.1 -0.1)\">\n       <defs>\n        <path id=\"DejaVuSans-32\" d=\"M 1228 531 \nL 3431 531 \nL 3431 0 \nL 469 0 \nL 469 531 \nQ 828 903 1448 1529 \nQ 2069 2156 2228 2338 \nQ 2531 2678 2651 2914 \nQ 2772 3150 2772 3378 \nQ 2772 3750 2511 3984 \nQ 2250 4219 1831 4219 \nQ 1534 4219 1204 4116 \nQ 875 4013 500 3803 \nL 500 4441 \nQ 881 4594 1212 4672 \nQ 1544 4750 1819 4750 \nQ 2544 4750 2975 4387 \nQ 3406 4025 3406 3419 \nQ 3406 3131 3298 2873 \nQ 3191 2616 2906 2266 \nQ 2828 2175 2409 1742 \nQ 1991 1309 1228 531 \nz\n\" transform=\"scale(0.015625)\"/>\n        <path id=\"DejaVuSans-35\" d=\"M 691 4666 \nL 3169 4666 \nL 3169 4134 \nL 1269 4134 \nL 1269 2991 \nQ 1406 3038 1543 3061 \nQ 1681 3084 1819 3084 \nQ 2600 3084 3056 2656 \nQ 3513 2228 3513 1497 \nQ 3513 744 3044 326 \nQ 2575 -91 1722 -91 \nQ 1428 -91 1123 -41 \nQ 819 9 494 109 \nL 494 744 \nQ 775 591 1075 516 \nQ 1375 441 1709 441 \nQ 2250 441 2565 725 \nQ 2881 1009 2881 1497 \nQ 2881 1984 2565 2268 \nQ 2250 2553 1709 2553 \nQ 1456 2553 1204 2497 \nQ 953 2441 691 2322 \nL 691 4666 \nz\n\" transform=\"scale(0.015625)\"/>\n       </defs>\n       <use xlink:href=\"#DejaVuSans-32\"/>\n       <use xlink:href=\"#DejaVuSans-35\" x=\"63.623047\"/>\n      </g>\n     </g>\n    </g>\n    <g id=\"ytick_3\">\n     <g id=\"line2d_24\">\n      <path d=\"M 46.965625 275.758125 \nL 493.365625 275.758125 \n\" clip-path=\"url(#p1f3bc4b7c0)\" style=\"fill: none; stroke: #b0b0b0; stroke-width: 0.8; stroke-linecap: square\"/>\n     </g>\n     <g id=\"line2d_25\">\n      <g>\n       <use xlink:href=\"#m2f204b7753\" x=\"46.965625\" y=\"275.758125\" style=\"stroke: #000000; stroke-width: 0.8\"/>\n      </g>\n     </g>\n     <g id=\"text_23\">\n      <!-- 50 -->\n      <g transform=\"translate(27.240625 279.557344) scale(0.1 -0.1)\">\n       <use xlink:href=\"#DejaVuSans-35\"/>\n       <use xlink:href=\"#DejaVuSans-30\" x=\"63.623047\"/>\n      </g>\n     </g>\n    </g>\n    <g id=\"ytick_4\">\n     <g id=\"line2d_26\">\n      <path d=\"M 46.965625 236.158125 \nL 493.365625 236.158125 \n\" clip-path=\"url(#p1f3bc4b7c0)\" style=\"fill: none; stroke: #b0b0b0; stroke-width: 0.8; stroke-linecap: square\"/>\n     </g>\n     <g id=\"line2d_27\">\n      <g>\n       <use xlink:href=\"#m2f204b7753\" x=\"46.965625\" y=\"236.158125\" style=\"stroke: #000000; stroke-width: 0.8\"/>\n      </g>\n     </g>\n     <g id=\"text_24\">\n      <!-- 75 -->\n      <g transform=\"translate(27.240625 239.957344) scale(0.1 -0.1)\">\n       <defs>\n        <path id=\"DejaVuSans-37\" d=\"M 525 4666 \nL 3525 4666 \nL 3525 4397 \nL 1831 0 \nL 1172 0 \nL 2766 4134 \nL 525 4134 \nL 525 4666 \nz\n\" transform=\"scale(0.015625)\"/>\n       </defs>\n       <use xlink:href=\"#DejaVuSans-37\"/>\n       <use xlink:href=\"#DejaVuSans-35\" x=\"63.623047\"/>\n      </g>\n     </g>\n    </g>\n    <g id=\"ytick_5\">\n     <g id=\"line2d_28\">\n      <path d=\"M 46.965625 196.558125 \nL 493.365625 196.558125 \n\" clip-path=\"url(#p1f3bc4b7c0)\" style=\"fill: none; stroke: #b0b0b0; stroke-width: 0.8; stroke-linecap: square\"/>\n     </g>\n     <g id=\"line2d_29\">\n      <g>\n       <use xlink:href=\"#m2f204b7753\" x=\"46.965625\" y=\"196.558125\" style=\"stroke: #000000; stroke-width: 0.8\"/>\n      </g>\n     </g>\n     <g id=\"text_25\">\n      <!-- 100 -->\n      <g transform=\"translate(20.878125 200.357344) scale(0.1 -0.1)\">\n       <defs>\n        <path id=\"DejaVuSans-31\" d=\"M 794 531 \nL 1825 531 \nL 1825 4091 \nL 703 3866 \nL 703 4441 \nL 1819 4666 \nL 2450 4666 \nL 2450 531 \nL 3481 531 \nL 3481 0 \nL 794 0 \nL 794 531 \nz\n\" transform=\"scale(0.015625)\"/>\n       </defs>\n       <use xlink:href=\"#DejaVuSans-31\"/>\n       <use xlink:href=\"#DejaVuSans-30\" x=\"63.623047\"/>\n       <use xlink:href=\"#DejaVuSans-30\" x=\"127.246094\"/>\n      </g>\n     </g>\n    </g>\n    <g id=\"ytick_6\">\n     <g id=\"line2d_30\">\n      <path d=\"M 46.965625 156.958125 \nL 493.365625 156.958125 \n\" clip-path=\"url(#p1f3bc4b7c0)\" style=\"fill: none; stroke: #b0b0b0; stroke-width: 0.8; stroke-linecap: square\"/>\n     </g>\n     <g id=\"line2d_31\">\n      <g>\n       <use xlink:href=\"#m2f204b7753\" x=\"46.965625\" y=\"156.958125\" style=\"stroke: #000000; stroke-width: 0.8\"/>\n      </g>\n     </g>\n     <g id=\"text_26\">\n      <!-- 125 -->\n      <g transform=\"translate(20.878125 160.757344) scale(0.1 -0.1)\">\n       <use xlink:href=\"#DejaVuSans-31\"/>\n       <use xlink:href=\"#DejaVuSans-32\" x=\"63.623047\"/>\n       <use xlink:href=\"#DejaVuSans-35\" x=\"127.246094\"/>\n      </g>\n     </g>\n    </g>\n    <g id=\"ytick_7\">\n     <g id=\"line2d_32\">\n      <path d=\"M 46.965625 117.358125 \nL 493.365625 117.358125 \n\" clip-path=\"url(#p1f3bc4b7c0)\" style=\"fill: none; stroke: #b0b0b0; stroke-width: 0.8; stroke-linecap: square\"/>\n     </g>\n     <g id=\"line2d_33\">\n      <g>\n       <use xlink:href=\"#m2f204b7753\" x=\"46.965625\" y=\"117.358125\" style=\"stroke: #000000; stroke-width: 0.8\"/>\n      </g>\n     </g>\n     <g id=\"text_27\">\n      <!-- 150 -->\n      <g transform=\"translate(20.878125 121.157344) scale(0.1 -0.1)\">\n       <use xlink:href=\"#DejaVuSans-31\"/>\n       <use xlink:href=\"#DejaVuSans-35\" x=\"63.623047\"/>\n       <use xlink:href=\"#DejaVuSans-30\" x=\"127.246094\"/>\n      </g>\n     </g>\n    </g>\n    <g id=\"ytick_8\">\n     <g id=\"line2d_34\">\n      <path d=\"M 46.965625 77.758125 \nL 493.365625 77.758125 \n\" clip-path=\"url(#p1f3bc4b7c0)\" style=\"fill: none; stroke: #b0b0b0; stroke-width: 0.8; stroke-linecap: square\"/>\n     </g>\n     <g id=\"line2d_35\">\n      <g>\n       <use xlink:href=\"#m2f204b7753\" x=\"46.965625\" y=\"77.758125\" style=\"stroke: #000000; stroke-width: 0.8\"/>\n      </g>\n     </g>\n     <g id=\"text_28\">\n      <!-- 175 -->\n      <g transform=\"translate(20.878125 81.557344) scale(0.1 -0.1)\">\n       <use xlink:href=\"#DejaVuSans-31\"/>\n       <use xlink:href=\"#DejaVuSans-37\" x=\"63.623047\"/>\n       <use xlink:href=\"#DejaVuSans-35\" x=\"127.246094\"/>\n      </g>\n     </g>\n    </g>\n    <g id=\"ytick_9\">\n     <g id=\"line2d_36\">\n      <path d=\"M 46.965625 38.158125 \nL 493.365625 38.158125 \n\" clip-path=\"url(#p1f3bc4b7c0)\" style=\"fill: none; stroke: #b0b0b0; stroke-width: 0.8; stroke-linecap: square\"/>\n     </g>\n     <g id=\"line2d_37\">\n      <g>\n       <use xlink:href=\"#m2f204b7753\" x=\"46.965625\" y=\"38.158125\" style=\"stroke: #000000; stroke-width: 0.8\"/>\n      </g>\n     </g>\n     <g id=\"text_29\">\n      <!-- 200 -->\n      <g transform=\"translate(20.878125 41.957344) scale(0.1 -0.1)\">\n       <use xlink:href=\"#DejaVuSans-32\"/>\n       <use xlink:href=\"#DejaVuSans-30\" x=\"63.623047\"/>\n       <use xlink:href=\"#DejaVuSans-30\" x=\"127.246094\"/>\n      </g>\n     </g>\n    </g>\n    <g id=\"text_30\">\n     <!-- number of videos released -->\n     <g transform=\"translate(14.798438 255.406875) rotate(-90) scale(0.1 -0.1)\">\n      <defs>\n       <path id=\"DejaVuSans-6d\" d=\"M 3328 2828 \nQ 3544 3216 3844 3400 \nQ 4144 3584 4550 3584 \nQ 5097 3584 5394 3201 \nQ 5691 2819 5691 2113 \nL 5691 0 \nL 5113 0 \nL 5113 2094 \nQ 5113 2597 4934 2840 \nQ 4756 3084 4391 3084 \nQ 3944 3084 3684 2787 \nQ 3425 2491 3425 1978 \nL 3425 0 \nL 2847 0 \nL 2847 2094 \nQ 2847 2600 2669 2842 \nQ 2491 3084 2119 3084 \nQ 1678 3084 1418 2786 \nQ 1159 2488 1159 1978 \nL 1159 0 \nL 581 0 \nL 581 3500 \nL 1159 3500 \nL 1159 2956 \nQ 1356 3278 1631 3431 \nQ 1906 3584 2284 3584 \nQ 2666 3584 2933 3390 \nQ 3200 3197 3328 2828 \nz\n\" transform=\"scale(0.015625)\"/>\n       <path id=\"DejaVuSans-62\" d=\"M 3116 1747 \nQ 3116 2381 2855 2742 \nQ 2594 3103 2138 3103 \nQ 1681 3103 1420 2742 \nQ 1159 2381 1159 1747 \nQ 1159 1113 1420 752 \nQ 1681 391 2138 391 \nQ 2594 391 2855 752 \nQ 3116 1113 3116 1747 \nz\nM 1159 2969 \nQ 1341 3281 1617 3432 \nQ 1894 3584 2278 3584 \nQ 2916 3584 3314 3078 \nQ 3713 2572 3713 1747 \nQ 3713 922 3314 415 \nQ 2916 -91 2278 -91 \nQ 1894 -91 1617 61 \nQ 1341 213 1159 525 \nL 1159 0 \nL 581 0 \nL 581 4863 \nL 1159 4863 \nL 1159 2969 \nz\n\" transform=\"scale(0.015625)\"/>\n       <path id=\"DejaVuSans-65\" d=\"M 3597 1894 \nL 3597 1613 \nL 953 1613 \nQ 991 1019 1311 708 \nQ 1631 397 2203 397 \nQ 2534 397 2845 478 \nQ 3156 559 3463 722 \nL 3463 178 \nQ 3153 47 2828 -22 \nQ 2503 -91 2169 -91 \nQ 1331 -91 842 396 \nQ 353 884 353 1716 \nQ 353 2575 817 3079 \nQ 1281 3584 2069 3584 \nQ 2775 3584 3186 3129 \nQ 3597 2675 3597 1894 \nz\nM 3022 2063 \nQ 3016 2534 2758 2815 \nQ 2500 3097 2075 3097 \nQ 1594 3097 1305 2825 \nQ 1016 2553 972 2059 \nL 3022 2063 \nz\n\" transform=\"scale(0.015625)\"/>\n       <path id=\"DejaVuSans-20\" transform=\"scale(0.015625)\"/>\n       <path id=\"DejaVuSans-66\" d=\"M 2375 4863 \nL 2375 4384 \nL 1825 4384 \nQ 1516 4384 1395 4259 \nQ 1275 4134 1275 3809 \nL 1275 3500 \nL 2222 3500 \nL 2222 3053 \nL 1275 3053 \nL 1275 0 \nL 697 0 \nL 697 3053 \nL 147 3053 \nL 147 3500 \nL 697 3500 \nL 697 3744 \nQ 697 4328 969 4595 \nQ 1241 4863 1831 4863 \nL 2375 4863 \nz\n\" transform=\"scale(0.015625)\"/>\n       <path id=\"DejaVuSans-76\" d=\"M 191 3500 \nL 800 3500 \nL 1894 563 \nL 2988 3500 \nL 3597 3500 \nL 2284 0 \nL 1503 0 \nL 191 3500 \nz\n\" transform=\"scale(0.015625)\"/>\n       <path id=\"DejaVuSans-69\" d=\"M 603 3500 \nL 1178 3500 \nL 1178 0 \nL 603 0 \nL 603 3500 \nz\nM 603 4863 \nL 1178 4863 \nL 1178 4134 \nL 603 4134 \nL 603 4863 \nz\n\" transform=\"scale(0.015625)\"/>\n       <path id=\"DejaVuSans-64\" d=\"M 2906 2969 \nL 2906 4863 \nL 3481 4863 \nL 3481 0 \nL 2906 0 \nL 2906 525 \nQ 2725 213 2448 61 \nQ 2172 -91 1784 -91 \nQ 1150 -91 751 415 \nQ 353 922 353 1747 \nQ 353 2572 751 3078 \nQ 1150 3584 1784 3584 \nQ 2172 3584 2448 3432 \nQ 2725 3281 2906 2969 \nz\nM 947 1747 \nQ 947 1113 1208 752 \nQ 1469 391 1925 391 \nQ 2381 391 2643 752 \nQ 2906 1113 2906 1747 \nQ 2906 2381 2643 2742 \nQ 2381 3103 1925 3103 \nQ 1469 3103 1208 2742 \nQ 947 2381 947 1747 \nz\n\" transform=\"scale(0.015625)\"/>\n       <path id=\"DejaVuSans-73\" d=\"M 2834 3397 \nL 2834 2853 \nQ 2591 2978 2328 3040 \nQ 2066 3103 1784 3103 \nQ 1356 3103 1142 2972 \nQ 928 2841 928 2578 \nQ 928 2378 1081 2264 \nQ 1234 2150 1697 2047 \nL 1894 2003 \nQ 2506 1872 2764 1633 \nQ 3022 1394 3022 966 \nQ 3022 478 2636 193 \nQ 2250 -91 1575 -91 \nQ 1294 -91 989 -36 \nQ 684 19 347 128 \nL 347 722 \nQ 666 556 975 473 \nQ 1284 391 1588 391 \nQ 1994 391 2212 530 \nQ 2431 669 2431 922 \nQ 2431 1156 2273 1281 \nQ 2116 1406 1581 1522 \nL 1381 1569 \nQ 847 1681 609 1914 \nQ 372 2147 372 2553 \nQ 372 3047 722 3315 \nQ 1072 3584 1716 3584 \nQ 2034 3584 2315 3537 \nQ 2597 3491 2834 3397 \nz\n\" transform=\"scale(0.015625)\"/>\n       <path id=\"DejaVuSans-6c\" d=\"M 603 4863 \nL 1178 4863 \nL 1178 0 \nL 603 0 \nL 603 4863 \nz\n\" transform=\"scale(0.015625)\"/>\n       <path id=\"DejaVuSans-61\" d=\"M 2194 1759 \nQ 1497 1759 1228 1600 \nQ 959 1441 959 1056 \nQ 959 750 1161 570 \nQ 1363 391 1709 391 \nQ 2188 391 2477 730 \nQ 2766 1069 2766 1631 \nL 2766 1759 \nL 2194 1759 \nz\nM 3341 1997 \nL 3341 0 \nL 2766 0 \nL 2766 531 \nQ 2569 213 2275 61 \nQ 1981 -91 1556 -91 \nQ 1019 -91 701 211 \nQ 384 513 384 1019 \nQ 384 1609 779 1909 \nQ 1175 2209 1959 2209 \nL 2766 2209 \nL 2766 2266 \nQ 2766 2663 2505 2880 \nQ 2244 3097 1772 3097 \nQ 1472 3097 1187 3025 \nQ 903 2953 641 2809 \nL 641 3341 \nQ 956 3463 1253 3523 \nQ 1550 3584 1831 3584 \nQ 2591 3584 2966 3190 \nQ 3341 2797 3341 1997 \nz\n\" transform=\"scale(0.015625)\"/>\n      </defs>\n      <use xlink:href=\"#DejaVuSans-6e\"/>\n      <use xlink:href=\"#DejaVuSans-75\" x=\"63.378906\"/>\n      <use xlink:href=\"#DejaVuSans-6d\" x=\"126.757812\"/>\n      <use xlink:href=\"#DejaVuSans-62\" x=\"224.169922\"/>\n      <use xlink:href=\"#DejaVuSans-65\" x=\"287.646484\"/>\n      <use xlink:href=\"#DejaVuSans-72\" x=\"349.169922\"/>\n      <use xlink:href=\"#DejaVuSans-20\" x=\"390.283203\"/>\n      <use xlink:href=\"#DejaVuSans-6f\" x=\"422.070312\"/>\n      <use xlink:href=\"#DejaVuSans-66\" x=\"483.251953\"/>\n      <use xlink:href=\"#DejaVuSans-20\" x=\"518.457031\"/>\n      <use xlink:href=\"#DejaVuSans-76\" x=\"550.244141\"/>\n      <use xlink:href=\"#DejaVuSans-69\" x=\"609.423828\"/>\n      <use xlink:href=\"#DejaVuSans-64\" x=\"637.207031\"/>\n      <use xlink:href=\"#DejaVuSans-65\" x=\"700.683594\"/>\n      <use xlink:href=\"#DejaVuSans-6f\" x=\"762.207031\"/>\n      <use xlink:href=\"#DejaVuSans-73\" x=\"823.388672\"/>\n      <use xlink:href=\"#DejaVuSans-20\" x=\"875.488281\"/>\n      <use xlink:href=\"#DejaVuSans-72\" x=\"907.275391\"/>\n      <use xlink:href=\"#DejaVuSans-65\" x=\"946.138672\"/>\n      <use xlink:href=\"#DejaVuSans-6c\" x=\"1007.662109\"/>\n      <use xlink:href=\"#DejaVuSans-65\" x=\"1035.445312\"/>\n      <use xlink:href=\"#DejaVuSans-61\" x=\"1096.96875\"/>\n      <use xlink:href=\"#DejaVuSans-73\" x=\"1158.248047\"/>\n      <use xlink:href=\"#DejaVuSans-65\" x=\"1210.347656\"/>\n      <use xlink:href=\"#DejaVuSans-64\" x=\"1271.871094\"/>\n     </g>\n    </g>\n   </g>\n   <g id=\"patch_3\">\n    <path d=\"M 67.256534 354.958125 \nL 84.525393 354.958125 \nL 84.525393 169.630125 \nL 67.256534 169.630125 \nz\n\" clip-path=\"url(#p1f3bc4b7c0)\" style=\"fill: #40e0d0\"/>\n   </g>\n   <g id=\"patch_4\">\n    <path d=\"M 88.842608 354.958125 \nL 106.111466 354.958125 \nL 106.111466 175.966125 \nL 88.842608 175.966125 \nz\n\" clip-path=\"url(#p1f3bc4b7c0)\" style=\"fill: #40e0d0\"/>\n   </g>\n   <g id=\"patch_5\">\n    <path d=\"M 110.428681 354.958125 \nL 127.69754 354.958125 \nL 127.69754 69.838125 \nL 110.428681 69.838125 \nz\n\" clip-path=\"url(#p1f3bc4b7c0)\" style=\"fill: #40e0d0\"/>\n   </g>\n   <g id=\"patch_6\">\n    <path d=\"M 132.014755 354.958125 \nL 149.283613 354.958125 \nL 149.283613 38.158125 \nL 132.014755 38.158125 \nz\n\" clip-path=\"url(#p1f3bc4b7c0)\" style=\"fill: #40e0d0\"/>\n   </g>\n   <g id=\"patch_7\">\n    <path d=\"M 153.600828 354.958125 \nL 170.869687 354.958125 \nL 170.869687 38.158125 \nL 153.600828 38.158125 \nz\n\" clip-path=\"url(#p1f3bc4b7c0)\" style=\"fill: #40e0d0\"/>\n   </g>\n   <g id=\"patch_8\">\n    <path d=\"M 175.186902 354.958125 \nL 192.45576 354.958125 \nL 192.45576 142.702125 \nL 175.186902 142.702125 \nz\n\" clip-path=\"url(#p1f3bc4b7c0)\" style=\"fill: #40e0d0\"/>\n   </g>\n   <g id=\"patch_9\">\n    <path d=\"M 196.772975 354.958125 \nL 214.041834 354.958125 \nL 214.041834 38.158125 \nL 196.772975 38.158125 \nz\n\" clip-path=\"url(#p1f3bc4b7c0)\" style=\"fill: #40e0d0\"/>\n   </g>\n   <g id=\"patch_10\">\n    <path d=\"M 218.359049 354.958125 \nL 235.627907 354.958125 \nL 235.627907 153.790125 \nL 218.359049 153.790125 \nz\n\" clip-path=\"url(#p1f3bc4b7c0)\" style=\"fill: #40e0d0\"/>\n   </g>\n   <g id=\"patch_11\">\n    <path d=\"M 239.945122 354.958125 \nL 257.213981 354.958125 \nL 257.213981 136.366125 \nL 239.945122 136.366125 \nz\n\" clip-path=\"url(#p1f3bc4b7c0)\" style=\"fill: #40e0d0\"/>\n   </g>\n   <g id=\"patch_12\">\n    <path d=\"M 261.531196 354.958125 \nL 278.800054 354.958125 \nL 278.800054 118.942125 \nL 261.531196 118.942125 \nz\n\" clip-path=\"url(#p1f3bc4b7c0)\" style=\"fill: #40e0d0\"/>\n   </g>\n   <g id=\"patch_13\">\n    <path d=\"M 283.117269 354.958125 \nL 300.386128 354.958125 \nL 300.386128 158.542125 \nL 283.117269 158.542125 \nz\n\" clip-path=\"url(#p1f3bc4b7c0)\" style=\"fill: #40e0d0\"/>\n   </g>\n   <g id=\"patch_14\">\n    <path d=\"M 304.703343 354.958125 \nL 321.972201 354.958125 \nL 321.972201 38.158125 \nL 304.703343 38.158125 \nz\n\" clip-path=\"url(#p1f3bc4b7c0)\" style=\"fill: #40e0d0\"/>\n   </g>\n   <g id=\"patch_15\">\n    <path d=\"M 326.289416 354.958125 \nL 343.558275 354.958125 \nL 343.558275 38.158125 \nL 326.289416 38.158125 \nz\n\" clip-path=\"url(#p1f3bc4b7c0)\" style=\"fill: #40e0d0\"/>\n   </g>\n   <g id=\"patch_16\">\n    <path d=\"M 347.87549 354.958125 \nL 365.144348 354.958125 \nL 365.144348 38.158125 \nL 347.87549 38.158125 \nz\n\" clip-path=\"url(#p1f3bc4b7c0)\" style=\"fill: #40e0d0\"/>\n   </g>\n   <g id=\"patch_17\">\n    <path d=\"M 369.461563 354.958125 \nL 386.730422 354.958125 \nL 386.730422 190.222125 \nL 369.461563 190.222125 \nz\n\" clip-path=\"url(#p1f3bc4b7c0)\" style=\"fill: #40e0d0\"/>\n   </g>\n   <g id=\"patch_18\">\n    <path d=\"M 391.047637 354.958125 \nL 408.316495 354.958125 \nL 408.316495 153.790125 \nL 391.047637 153.790125 \nz\n\" clip-path=\"url(#p1f3bc4b7c0)\" style=\"fill: #40e0d0\"/>\n   </g>\n   <g id=\"patch_19\">\n    <path d=\"M 412.63371 354.958125 \nL 429.902569 354.958125 \nL 429.902569 96.766125 \nL 412.63371 96.766125 \nz\n\" clip-path=\"url(#p1f3bc4b7c0)\" style=\"fill: #40e0d0\"/>\n   </g>\n   <g id=\"patch_20\">\n    <path d=\"M 434.219784 354.958125 \nL 451.488642 354.958125 \nL 451.488642 38.158125 \nL 434.219784 38.158125 \nz\n\" clip-path=\"url(#p1f3bc4b7c0)\" style=\"fill: #40e0d0\"/>\n   </g>\n   <g id=\"patch_21\">\n    <path d=\"M 455.805857 354.958125 \nL 473.074716 354.958125 \nL 473.074716 125.278125 \nL 455.805857 125.278125 \nz\n\" clip-path=\"url(#p1f3bc4b7c0)\" style=\"fill: #40e0d0\"/>\n   </g>\n   <g id=\"patch_22\">\n    <path d=\"M 46.965625 354.958125 \nL 46.965625 22.318125 \n\" style=\"fill: none; stroke: #000000; stroke-width: 0.8; stroke-linejoin: miter; stroke-linecap: square\"/>\n   </g>\n   <g id=\"patch_23\">\n    <path d=\"M 493.365625 354.958125 \nL 493.365625 22.318125 \n\" style=\"fill: none; stroke: #000000; stroke-width: 0.8; stroke-linejoin: miter; stroke-linecap: square\"/>\n   </g>\n   <g id=\"patch_24\">\n    <path d=\"M 46.965625 354.958125 \nL 493.365625 354.958125 \n\" style=\"fill: none; stroke: #000000; stroke-width: 0.8; stroke-linejoin: miter; stroke-linecap: square\"/>\n   </g>\n   <g id=\"patch_25\">\n    <path d=\"M 46.965625 22.318125 \nL 493.365625 22.318125 \n\" style=\"fill: none; stroke: #000000; stroke-width: 0.8; stroke-linejoin: miter; stroke-linecap: square\"/>\n   </g>\n   <g id=\"text_31\">\n    <!-- Number of published videos depending on countries -->\n    <g transform=\"translate(112.894375 16.318125) scale(0.12 -0.12)\">\n     <defs>\n      <path id=\"DejaVuSans-70\" d=\"M 1159 525 \nL 1159 -1331 \nL 581 -1331 \nL 581 3500 \nL 1159 3500 \nL 1159 2969 \nQ 1341 3281 1617 3432 \nQ 1894 3584 2278 3584 \nQ 2916 3584 3314 3078 \nQ 3713 2572 3713 1747 \nQ 3713 922 3314 415 \nQ 2916 -91 2278 -91 \nQ 1894 -91 1617 61 \nQ 1341 213 1159 525 \nz\nM 3116 1747 \nQ 3116 2381 2855 2742 \nQ 2594 3103 2138 3103 \nQ 1681 3103 1420 2742 \nQ 1159 2381 1159 1747 \nQ 1159 1113 1420 752 \nQ 1681 391 2138 391 \nQ 2594 391 2855 752 \nQ 3116 1113 3116 1747 \nz\n\" transform=\"scale(0.015625)\"/>\n      <path id=\"DejaVuSans-68\" d=\"M 3513 2113 \nL 3513 0 \nL 2938 0 \nL 2938 2094 \nQ 2938 2591 2744 2837 \nQ 2550 3084 2163 3084 \nQ 1697 3084 1428 2787 \nQ 1159 2491 1159 1978 \nL 1159 0 \nL 581 0 \nL 581 4863 \nL 1159 4863 \nL 1159 2956 \nQ 1366 3272 1645 3428 \nQ 1925 3584 2291 3584 \nQ 2894 3584 3203 3211 \nQ 3513 2838 3513 2113 \nz\n\" transform=\"scale(0.015625)\"/>\n      <path id=\"DejaVuSans-67\" d=\"M 2906 1791 \nQ 2906 2416 2648 2759 \nQ 2391 3103 1925 3103 \nQ 1463 3103 1205 2759 \nQ 947 2416 947 1791 \nQ 947 1169 1205 825 \nQ 1463 481 1925 481 \nQ 2391 481 2648 825 \nQ 2906 1169 2906 1791 \nz\nM 3481 434 \nQ 3481 -459 3084 -895 \nQ 2688 -1331 1869 -1331 \nQ 1566 -1331 1297 -1286 \nQ 1028 -1241 775 -1147 \nL 775 -588 \nQ 1028 -725 1275 -790 \nQ 1522 -856 1778 -856 \nQ 2344 -856 2625 -561 \nQ 2906 -266 2906 331 \nL 2906 616 \nQ 2728 306 2450 153 \nQ 2172 0 1784 0 \nQ 1141 0 747 490 \nQ 353 981 353 1791 \nQ 353 2603 747 3093 \nQ 1141 3584 1784 3584 \nQ 2172 3584 2450 3431 \nQ 2728 3278 2906 2969 \nL 2906 3500 \nL 3481 3500 \nL 3481 434 \nz\n\" transform=\"scale(0.015625)\"/>\n     </defs>\n     <use xlink:href=\"#DejaVuSans-4e\"/>\n     <use xlink:href=\"#DejaVuSans-75\" x=\"74.804688\"/>\n     <use xlink:href=\"#DejaVuSans-6d\" x=\"138.183594\"/>\n     <use xlink:href=\"#DejaVuSans-62\" x=\"235.595703\"/>\n     <use xlink:href=\"#DejaVuSans-65\" x=\"299.072266\"/>\n     <use xlink:href=\"#DejaVuSans-72\" x=\"360.595703\"/>\n     <use xlink:href=\"#DejaVuSans-20\" x=\"401.708984\"/>\n     <use xlink:href=\"#DejaVuSans-6f\" x=\"433.496094\"/>\n     <use xlink:href=\"#DejaVuSans-66\" x=\"494.677734\"/>\n     <use xlink:href=\"#DejaVuSans-20\" x=\"529.882812\"/>\n     <use xlink:href=\"#DejaVuSans-70\" x=\"561.669922\"/>\n     <use xlink:href=\"#DejaVuSans-75\" x=\"625.146484\"/>\n     <use xlink:href=\"#DejaVuSans-62\" x=\"688.525391\"/>\n     <use xlink:href=\"#DejaVuSans-6c\" x=\"752.001953\"/>\n     <use xlink:href=\"#DejaVuSans-69\" x=\"779.785156\"/>\n     <use xlink:href=\"#DejaVuSans-73\" x=\"807.568359\"/>\n     <use xlink:href=\"#DejaVuSans-68\" x=\"859.667969\"/>\n     <use xlink:href=\"#DejaVuSans-65\" x=\"923.046875\"/>\n     <use xlink:href=\"#DejaVuSans-64\" x=\"984.570312\"/>\n     <use xlink:href=\"#DejaVuSans-20\" x=\"1048.046875\"/>\n     <use xlink:href=\"#DejaVuSans-76\" x=\"1079.833984\"/>\n     <use xlink:href=\"#DejaVuSans-69\" x=\"1139.013672\"/>\n     <use xlink:href=\"#DejaVuSans-64\" x=\"1166.796875\"/>\n     <use xlink:href=\"#DejaVuSans-65\" x=\"1230.273438\"/>\n     <use xlink:href=\"#DejaVuSans-6f\" x=\"1291.796875\"/>\n     <use xlink:href=\"#DejaVuSans-73\" x=\"1352.978516\"/>\n     <use xlink:href=\"#DejaVuSans-20\" x=\"1405.078125\"/>\n     <use xlink:href=\"#DejaVuSans-64\" x=\"1436.865234\"/>\n     <use xlink:href=\"#DejaVuSans-65\" x=\"1500.341797\"/>\n     <use xlink:href=\"#DejaVuSans-70\" x=\"1561.865234\"/>\n     <use xlink:href=\"#DejaVuSans-65\" x=\"1625.341797\"/>\n     <use xlink:href=\"#DejaVuSans-6e\" x=\"1686.865234\"/>\n     <use xlink:href=\"#DejaVuSans-64\" x=\"1750.244141\"/>\n     <use xlink:href=\"#DejaVuSans-69\" x=\"1813.720703\"/>\n     <use xlink:href=\"#DejaVuSans-6e\" x=\"1841.503906\"/>\n     <use xlink:href=\"#DejaVuSans-67\" x=\"1904.882812\"/>\n     <use xlink:href=\"#DejaVuSans-20\" x=\"1968.359375\"/>\n     <use xlink:href=\"#DejaVuSans-6f\" x=\"2000.146484\"/>\n     <use xlink:href=\"#DejaVuSans-6e\" x=\"2061.328125\"/>\n     <use xlink:href=\"#DejaVuSans-20\" x=\"2124.707031\"/>\n     <use xlink:href=\"#DejaVuSans-63\" x=\"2156.494141\"/>\n     <use xlink:href=\"#DejaVuSans-6f\" x=\"2211.474609\"/>\n     <use xlink:href=\"#DejaVuSans-75\" x=\"2272.65625\"/>\n     <use xlink:href=\"#DejaVuSans-6e\" x=\"2336.035156\"/>\n     <use xlink:href=\"#DejaVuSans-74\" x=\"2399.414062\"/>\n     <use xlink:href=\"#DejaVuSans-72\" x=\"2438.623047\"/>\n     <use xlink:href=\"#DejaVuSans-69\" x=\"2479.736328\"/>\n     <use xlink:href=\"#DejaVuSans-65\" x=\"2507.519531\"/>\n     <use xlink:href=\"#DejaVuSans-73\" x=\"2569.042969\"/>\n    </g>\n   </g>\n  </g>\n </g>\n <defs>\n  <clipPath id=\"p1f3bc4b7c0\">\n   <rect x=\"46.965625\" y=\"22.318125\" width=\"446.4\" height=\"332.64\"/>\n  </clipPath>\n </defs>\n</svg>\n"
          },
          "metadata": {}
        }
      ],
      "source": [
        "\n",
        "plt.figure(figsize=(8, 6))\n",
        "\n",
        "\n",
        "plt.title('Number of published videos depending on countries', fontsize=12)\n",
        "\n",
        "\n",
        "plt.grid(axis = 'y', zorder = 1)\n",
        "\n",
        "\n",
        "plt.xlabel(\"country\")\n",
        "plt.ylabel(\"number of videos released\")\n",
        "\n",
        "info = data.groupby('country')['title'].nunique()\n",
        "plt.bar(info.index, info.values, color = 'turquoise', zorder = 2)\n",
        "plt.show()"
      ]
    },
    {
      "cell_type": "markdown",
      "id": "e28d57d4",
      "metadata": {
        "run_control": {
          "frozen": false,
          "read_only": false
        },
        "id": "e28d57d4"
      },
      "source": [
        "### График (scatter plot) зависимости кол-ва комментариев для ролика от кол-ва просмотров для роликов во Франции (country='FR'). Какой характер зависмости получился?"
      ]
    },
    {
      "cell_type": "code",
      "execution_count": null,
      "id": "afffd617",
      "metadata": {
        "run_control": {
          "frozen": false,
          "read_only": false
        },
        "id": "afffd617",
        "colab": {
          "base_uri": "https://localhost:8080/",
          "height": 488
        },
        "outputId": "5495c736-0112-4178-cea8-0f073eac8474"
      },
      "outputs": [
        {
          "output_type": "stream",
          "name": "stdout",
          "text": [
            "correlation = 0.9713385517304194\n"
          ]
        },
        {
          "output_type": "display_data",
          "data": {
            "text/plain": [
              "<Figure size 700x500 with 1 Axes>"
            ],
            "image/svg+xml": "<?xml version=\"1.0\" encoding=\"utf-8\" standalone=\"no\"?>\n<!DOCTYPE svg PUBLIC \"-//W3C//DTD SVG 1.1//EN\"\n  \"http://www.w3.org/Graphics/SVG/1.1/DTD/svg11.dtd\">\n<svg xmlns:xlink=\"http://www.w3.org/1999/xlink\" width=\"463.853125pt\" height=\"337.074375pt\" viewBox=\"0 0 463.853125 337.074375\" xmlns=\"http://www.w3.org/2000/svg\" version=\"1.1\">\n <metadata>\n  <rdf:RDF xmlns:dc=\"http://purl.org/dc/elements/1.1/\" xmlns:cc=\"http://creativecommons.org/ns#\" xmlns:rdf=\"http://www.w3.org/1999/02/22-rdf-syntax-ns#\">\n   <cc:Work>\n    <dc:type rdf:resource=\"http://purl.org/dc/dcmitype/StillImage\"/>\n    <dc:date>2023-10-11T19:50:21.851188</dc:date>\n    <dc:format>image/svg+xml</dc:format>\n    <dc:creator>\n     <cc:Agent>\n      <dc:title>Matplotlib v3.7.1, https://matplotlib.org/</dc:title>\n     </cc:Agent>\n    </dc:creator>\n   </cc:Work>\n  </rdf:RDF>\n </metadata>\n <defs>\n  <style type=\"text/css\">*{stroke-linejoin: round; stroke-linecap: butt}</style>\n </defs>\n <g id=\"figure_1\">\n  <g id=\"patch_1\">\n   <path d=\"M 0 337.074375 \nL 463.853125 337.074375 \nL 463.853125 0 \nL 0 0 \nz\n\" style=\"fill: #ffffff\"/>\n  </g>\n  <g id=\"axes_1\">\n   <g id=\"patch_2\">\n    <path d=\"M 66.053125 299.518125 \nL 456.653125 299.518125 \nL 456.653125 22.318125 \nL 66.053125 22.318125 \nz\n\" style=\"fill: #ffffff\"/>\n   </g>\n   <g id=\"matplotlib.axis_1\">\n    <g id=\"xtick_1\">\n     <g id=\"line2d_1\">\n      <path d=\"M 83.597156 299.518125 \nL 83.597156 22.318125 \n\" clip-path=\"url(#p84051da3d1)\" style=\"fill: none; stroke: #b0b0b0; stroke-width: 0.8; stroke-linecap: square\"/>\n     </g>\n     <g id=\"line2d_2\">\n      <defs>\n       <path id=\"m6617bd184c\" d=\"M 0 0 \nL 0 3.5 \n\" style=\"stroke: #000000; stroke-width: 0.8\"/>\n      </defs>\n      <g>\n       <use xlink:href=\"#m6617bd184c\" x=\"83.597156\" y=\"299.518125\" style=\"stroke: #000000; stroke-width: 0.8\"/>\n      </g>\n     </g>\n     <g id=\"text_1\">\n      <!-- 0 -->\n      <g transform=\"translate(80.415906 314.116563) scale(0.1 -0.1)\">\n       <defs>\n        <path id=\"DejaVuSans-30\" d=\"M 2034 4250 \nQ 1547 4250 1301 3770 \nQ 1056 3291 1056 2328 \nQ 1056 1369 1301 889 \nQ 1547 409 2034 409 \nQ 2525 409 2770 889 \nQ 3016 1369 3016 2328 \nQ 3016 3291 2770 3770 \nQ 2525 4250 2034 4250 \nz\nM 2034 4750 \nQ 2819 4750 3233 4129 \nQ 3647 3509 3647 2328 \nQ 3647 1150 3233 529 \nQ 2819 -91 2034 -91 \nQ 1250 -91 836 529 \nQ 422 1150 422 2328 \nQ 422 3509 836 4129 \nQ 1250 4750 2034 4750 \nz\n\" transform=\"scale(0.015625)\"/>\n       </defs>\n       <use xlink:href=\"#DejaVuSans-30\"/>\n      </g>\n     </g>\n    </g>\n    <g id=\"xtick_2\">\n     <g id=\"line2d_3\">\n      <path d=\"M 158.829251 299.518125 \nL 158.829251 22.318125 \n\" clip-path=\"url(#p84051da3d1)\" style=\"fill: none; stroke: #b0b0b0; stroke-width: 0.8; stroke-linecap: square\"/>\n     </g>\n     <g id=\"line2d_4\">\n      <g>\n       <use xlink:href=\"#m6617bd184c\" x=\"158.829251\" y=\"299.518125\" style=\"stroke: #000000; stroke-width: 0.8\"/>\n      </g>\n     </g>\n     <g id=\"text_2\">\n      <!-- 1 -->\n      <g transform=\"translate(155.648001 314.116563) scale(0.1 -0.1)\">\n       <defs>\n        <path id=\"DejaVuSans-31\" d=\"M 794 531 \nL 1825 531 \nL 1825 4091 \nL 703 3866 \nL 703 4441 \nL 1819 4666 \nL 2450 4666 \nL 2450 531 \nL 3481 531 \nL 3481 0 \nL 794 0 \nL 794 531 \nz\n\" transform=\"scale(0.015625)\"/>\n       </defs>\n       <use xlink:href=\"#DejaVuSans-31\"/>\n      </g>\n     </g>\n    </g>\n    <g id=\"xtick_3\">\n     <g id=\"line2d_5\">\n      <path d=\"M 234.061347 299.518125 \nL 234.061347 22.318125 \n\" clip-path=\"url(#p84051da3d1)\" style=\"fill: none; stroke: #b0b0b0; stroke-width: 0.8; stroke-linecap: square\"/>\n     </g>\n     <g id=\"line2d_6\">\n      <g>\n       <use xlink:href=\"#m6617bd184c\" x=\"234.061347\" y=\"299.518125\" style=\"stroke: #000000; stroke-width: 0.8\"/>\n      </g>\n     </g>\n     <g id=\"text_3\">\n      <!-- 2 -->\n      <g transform=\"translate(230.880097 314.116563) scale(0.1 -0.1)\">\n       <defs>\n        <path id=\"DejaVuSans-32\" d=\"M 1228 531 \nL 3431 531 \nL 3431 0 \nL 469 0 \nL 469 531 \nQ 828 903 1448 1529 \nQ 2069 2156 2228 2338 \nQ 2531 2678 2651 2914 \nQ 2772 3150 2772 3378 \nQ 2772 3750 2511 3984 \nQ 2250 4219 1831 4219 \nQ 1534 4219 1204 4116 \nQ 875 4013 500 3803 \nL 500 4441 \nQ 881 4594 1212 4672 \nQ 1544 4750 1819 4750 \nQ 2544 4750 2975 4387 \nQ 3406 4025 3406 3419 \nQ 3406 3131 3298 2873 \nQ 3191 2616 2906 2266 \nQ 2828 2175 2409 1742 \nQ 1991 1309 1228 531 \nz\n\" transform=\"scale(0.015625)\"/>\n       </defs>\n       <use xlink:href=\"#DejaVuSans-32\"/>\n      </g>\n     </g>\n    </g>\n    <g id=\"xtick_4\">\n     <g id=\"line2d_7\">\n      <path d=\"M 309.293442 299.518125 \nL 309.293442 22.318125 \n\" clip-path=\"url(#p84051da3d1)\" style=\"fill: none; stroke: #b0b0b0; stroke-width: 0.8; stroke-linecap: square\"/>\n     </g>\n     <g id=\"line2d_8\">\n      <g>\n       <use xlink:href=\"#m6617bd184c\" x=\"309.293442\" y=\"299.518125\" style=\"stroke: #000000; stroke-width: 0.8\"/>\n      </g>\n     </g>\n     <g id=\"text_4\">\n      <!-- 3 -->\n      <g transform=\"translate(306.112192 314.116563) scale(0.1 -0.1)\">\n       <defs>\n        <path id=\"DejaVuSans-33\" d=\"M 2597 2516 \nQ 3050 2419 3304 2112 \nQ 3559 1806 3559 1356 \nQ 3559 666 3084 287 \nQ 2609 -91 1734 -91 \nQ 1441 -91 1130 -33 \nQ 819 25 488 141 \nL 488 750 \nQ 750 597 1062 519 \nQ 1375 441 1716 441 \nQ 2309 441 2620 675 \nQ 2931 909 2931 1356 \nQ 2931 1769 2642 2001 \nQ 2353 2234 1838 2234 \nL 1294 2234 \nL 1294 2753 \nL 1863 2753 \nQ 2328 2753 2575 2939 \nQ 2822 3125 2822 3475 \nQ 2822 3834 2567 4026 \nQ 2313 4219 1838 4219 \nQ 1578 4219 1281 4162 \nQ 984 4106 628 3988 \nL 628 4550 \nQ 988 4650 1302 4700 \nQ 1616 4750 1894 4750 \nQ 2613 4750 3031 4423 \nQ 3450 4097 3450 3541 \nQ 3450 3153 3228 2886 \nQ 3006 2619 2597 2516 \nz\n\" transform=\"scale(0.015625)\"/>\n       </defs>\n       <use xlink:href=\"#DejaVuSans-33\"/>\n      </g>\n     </g>\n    </g>\n    <g id=\"xtick_5\">\n     <g id=\"line2d_9\">\n      <path d=\"M 384.525538 299.518125 \nL 384.525538 22.318125 \n\" clip-path=\"url(#p84051da3d1)\" style=\"fill: none; stroke: #b0b0b0; stroke-width: 0.8; stroke-linecap: square\"/>\n     </g>\n     <g id=\"line2d_10\">\n      <g>\n       <use xlink:href=\"#m6617bd184c\" x=\"384.525538\" y=\"299.518125\" style=\"stroke: #000000; stroke-width: 0.8\"/>\n      </g>\n     </g>\n     <g id=\"text_5\">\n      <!-- 4 -->\n      <g transform=\"translate(381.344288 314.116563) scale(0.1 -0.1)\">\n       <defs>\n        <path id=\"DejaVuSans-34\" d=\"M 2419 4116 \nL 825 1625 \nL 2419 1625 \nL 2419 4116 \nz\nM 2253 4666 \nL 3047 4666 \nL 3047 1625 \nL 3713 1625 \nL 3713 1100 \nL 3047 1100 \nL 3047 0 \nL 2419 0 \nL 2419 1100 \nL 313 1100 \nL 313 1709 \nL 2253 4666 \nz\n\" transform=\"scale(0.015625)\"/>\n       </defs>\n       <use xlink:href=\"#DejaVuSans-34\"/>\n      </g>\n     </g>\n    </g>\n    <g id=\"text_6\">\n     <!-- number of video views -->\n     <g transform=\"translate(204.475 327.794688) scale(0.1 -0.1)\">\n      <defs>\n       <path id=\"DejaVuSans-6e\" d=\"M 3513 2113 \nL 3513 0 \nL 2938 0 \nL 2938 2094 \nQ 2938 2591 2744 2837 \nQ 2550 3084 2163 3084 \nQ 1697 3084 1428 2787 \nQ 1159 2491 1159 1978 \nL 1159 0 \nL 581 0 \nL 581 3500 \nL 1159 3500 \nL 1159 2956 \nQ 1366 3272 1645 3428 \nQ 1925 3584 2291 3584 \nQ 2894 3584 3203 3211 \nQ 3513 2838 3513 2113 \nz\n\" transform=\"scale(0.015625)\"/>\n       <path id=\"DejaVuSans-75\" d=\"M 544 1381 \nL 544 3500 \nL 1119 3500 \nL 1119 1403 \nQ 1119 906 1312 657 \nQ 1506 409 1894 409 \nQ 2359 409 2629 706 \nQ 2900 1003 2900 1516 \nL 2900 3500 \nL 3475 3500 \nL 3475 0 \nL 2900 0 \nL 2900 538 \nQ 2691 219 2414 64 \nQ 2138 -91 1772 -91 \nQ 1169 -91 856 284 \nQ 544 659 544 1381 \nz\nM 1991 3584 \nL 1991 3584 \nz\n\" transform=\"scale(0.015625)\"/>\n       <path id=\"DejaVuSans-6d\" d=\"M 3328 2828 \nQ 3544 3216 3844 3400 \nQ 4144 3584 4550 3584 \nQ 5097 3584 5394 3201 \nQ 5691 2819 5691 2113 \nL 5691 0 \nL 5113 0 \nL 5113 2094 \nQ 5113 2597 4934 2840 \nQ 4756 3084 4391 3084 \nQ 3944 3084 3684 2787 \nQ 3425 2491 3425 1978 \nL 3425 0 \nL 2847 0 \nL 2847 2094 \nQ 2847 2600 2669 2842 \nQ 2491 3084 2119 3084 \nQ 1678 3084 1418 2786 \nQ 1159 2488 1159 1978 \nL 1159 0 \nL 581 0 \nL 581 3500 \nL 1159 3500 \nL 1159 2956 \nQ 1356 3278 1631 3431 \nQ 1906 3584 2284 3584 \nQ 2666 3584 2933 3390 \nQ 3200 3197 3328 2828 \nz\n\" transform=\"scale(0.015625)\"/>\n       <path id=\"DejaVuSans-62\" d=\"M 3116 1747 \nQ 3116 2381 2855 2742 \nQ 2594 3103 2138 3103 \nQ 1681 3103 1420 2742 \nQ 1159 2381 1159 1747 \nQ 1159 1113 1420 752 \nQ 1681 391 2138 391 \nQ 2594 391 2855 752 \nQ 3116 1113 3116 1747 \nz\nM 1159 2969 \nQ 1341 3281 1617 3432 \nQ 1894 3584 2278 3584 \nQ 2916 3584 3314 3078 \nQ 3713 2572 3713 1747 \nQ 3713 922 3314 415 \nQ 2916 -91 2278 -91 \nQ 1894 -91 1617 61 \nQ 1341 213 1159 525 \nL 1159 0 \nL 581 0 \nL 581 4863 \nL 1159 4863 \nL 1159 2969 \nz\n\" transform=\"scale(0.015625)\"/>\n       <path id=\"DejaVuSans-65\" d=\"M 3597 1894 \nL 3597 1613 \nL 953 1613 \nQ 991 1019 1311 708 \nQ 1631 397 2203 397 \nQ 2534 397 2845 478 \nQ 3156 559 3463 722 \nL 3463 178 \nQ 3153 47 2828 -22 \nQ 2503 -91 2169 -91 \nQ 1331 -91 842 396 \nQ 353 884 353 1716 \nQ 353 2575 817 3079 \nQ 1281 3584 2069 3584 \nQ 2775 3584 3186 3129 \nQ 3597 2675 3597 1894 \nz\nM 3022 2063 \nQ 3016 2534 2758 2815 \nQ 2500 3097 2075 3097 \nQ 1594 3097 1305 2825 \nQ 1016 2553 972 2059 \nL 3022 2063 \nz\n\" transform=\"scale(0.015625)\"/>\n       <path id=\"DejaVuSans-72\" d=\"M 2631 2963 \nQ 2534 3019 2420 3045 \nQ 2306 3072 2169 3072 \nQ 1681 3072 1420 2755 \nQ 1159 2438 1159 1844 \nL 1159 0 \nL 581 0 \nL 581 3500 \nL 1159 3500 \nL 1159 2956 \nQ 1341 3275 1631 3429 \nQ 1922 3584 2338 3584 \nQ 2397 3584 2469 3576 \nQ 2541 3569 2628 3553 \nL 2631 2963 \nz\n\" transform=\"scale(0.015625)\"/>\n       <path id=\"DejaVuSans-20\" transform=\"scale(0.015625)\"/>\n       <path id=\"DejaVuSans-6f\" d=\"M 1959 3097 \nQ 1497 3097 1228 2736 \nQ 959 2375 959 1747 \nQ 959 1119 1226 758 \nQ 1494 397 1959 397 \nQ 2419 397 2687 759 \nQ 2956 1122 2956 1747 \nQ 2956 2369 2687 2733 \nQ 2419 3097 1959 3097 \nz\nM 1959 3584 \nQ 2709 3584 3137 3096 \nQ 3566 2609 3566 1747 \nQ 3566 888 3137 398 \nQ 2709 -91 1959 -91 \nQ 1206 -91 779 398 \nQ 353 888 353 1747 \nQ 353 2609 779 3096 \nQ 1206 3584 1959 3584 \nz\n\" transform=\"scale(0.015625)\"/>\n       <path id=\"DejaVuSans-66\" d=\"M 2375 4863 \nL 2375 4384 \nL 1825 4384 \nQ 1516 4384 1395 4259 \nQ 1275 4134 1275 3809 \nL 1275 3500 \nL 2222 3500 \nL 2222 3053 \nL 1275 3053 \nL 1275 0 \nL 697 0 \nL 697 3053 \nL 147 3053 \nL 147 3500 \nL 697 3500 \nL 697 3744 \nQ 697 4328 969 4595 \nQ 1241 4863 1831 4863 \nL 2375 4863 \nz\n\" transform=\"scale(0.015625)\"/>\n       <path id=\"DejaVuSans-76\" d=\"M 191 3500 \nL 800 3500 \nL 1894 563 \nL 2988 3500 \nL 3597 3500 \nL 2284 0 \nL 1503 0 \nL 191 3500 \nz\n\" transform=\"scale(0.015625)\"/>\n       <path id=\"DejaVuSans-69\" d=\"M 603 3500 \nL 1178 3500 \nL 1178 0 \nL 603 0 \nL 603 3500 \nz\nM 603 4863 \nL 1178 4863 \nL 1178 4134 \nL 603 4134 \nL 603 4863 \nz\n\" transform=\"scale(0.015625)\"/>\n       <path id=\"DejaVuSans-64\" d=\"M 2906 2969 \nL 2906 4863 \nL 3481 4863 \nL 3481 0 \nL 2906 0 \nL 2906 525 \nQ 2725 213 2448 61 \nQ 2172 -91 1784 -91 \nQ 1150 -91 751 415 \nQ 353 922 353 1747 \nQ 353 2572 751 3078 \nQ 1150 3584 1784 3584 \nQ 2172 3584 2448 3432 \nQ 2725 3281 2906 2969 \nz\nM 947 1747 \nQ 947 1113 1208 752 \nQ 1469 391 1925 391 \nQ 2381 391 2643 752 \nQ 2906 1113 2906 1747 \nQ 2906 2381 2643 2742 \nQ 2381 3103 1925 3103 \nQ 1469 3103 1208 2742 \nQ 947 2381 947 1747 \nz\n\" transform=\"scale(0.015625)\"/>\n       <path id=\"DejaVuSans-77\" d=\"M 269 3500 \nL 844 3500 \nL 1563 769 \nL 2278 3500 \nL 2956 3500 \nL 3675 769 \nL 4391 3500 \nL 4966 3500 \nL 4050 0 \nL 3372 0 \nL 2619 2869 \nL 1863 0 \nL 1184 0 \nL 269 3500 \nz\n\" transform=\"scale(0.015625)\"/>\n       <path id=\"DejaVuSans-73\" d=\"M 2834 3397 \nL 2834 2853 \nQ 2591 2978 2328 3040 \nQ 2066 3103 1784 3103 \nQ 1356 3103 1142 2972 \nQ 928 2841 928 2578 \nQ 928 2378 1081 2264 \nQ 1234 2150 1697 2047 \nL 1894 2003 \nQ 2506 1872 2764 1633 \nQ 3022 1394 3022 966 \nQ 3022 478 2636 193 \nQ 2250 -91 1575 -91 \nQ 1294 -91 989 -36 \nQ 684 19 347 128 \nL 347 722 \nQ 666 556 975 473 \nQ 1284 391 1588 391 \nQ 1994 391 2212 530 \nQ 2431 669 2431 922 \nQ 2431 1156 2273 1281 \nQ 2116 1406 1581 1522 \nL 1381 1569 \nQ 847 1681 609 1914 \nQ 372 2147 372 2553 \nQ 372 3047 722 3315 \nQ 1072 3584 1716 3584 \nQ 2034 3584 2315 3537 \nQ 2597 3491 2834 3397 \nz\n\" transform=\"scale(0.015625)\"/>\n      </defs>\n      <use xlink:href=\"#DejaVuSans-6e\"/>\n      <use xlink:href=\"#DejaVuSans-75\" x=\"63.378906\"/>\n      <use xlink:href=\"#DejaVuSans-6d\" x=\"126.757812\"/>\n      <use xlink:href=\"#DejaVuSans-62\" x=\"224.169922\"/>\n      <use xlink:href=\"#DejaVuSans-65\" x=\"287.646484\"/>\n      <use xlink:href=\"#DejaVuSans-72\" x=\"349.169922\"/>\n      <use xlink:href=\"#DejaVuSans-20\" x=\"390.283203\"/>\n      <use xlink:href=\"#DejaVuSans-6f\" x=\"422.070312\"/>\n      <use xlink:href=\"#DejaVuSans-66\" x=\"483.251953\"/>\n      <use xlink:href=\"#DejaVuSans-20\" x=\"518.457031\"/>\n      <use xlink:href=\"#DejaVuSans-76\" x=\"550.244141\"/>\n      <use xlink:href=\"#DejaVuSans-69\" x=\"609.423828\"/>\n      <use xlink:href=\"#DejaVuSans-64\" x=\"637.207031\"/>\n      <use xlink:href=\"#DejaVuSans-65\" x=\"700.683594\"/>\n      <use xlink:href=\"#DejaVuSans-6f\" x=\"762.207031\"/>\n      <use xlink:href=\"#DejaVuSans-20\" x=\"823.388672\"/>\n      <use xlink:href=\"#DejaVuSans-76\" x=\"855.175781\"/>\n      <use xlink:href=\"#DejaVuSans-69\" x=\"914.355469\"/>\n      <use xlink:href=\"#DejaVuSans-65\" x=\"942.138672\"/>\n      <use xlink:href=\"#DejaVuSans-77\" x=\"1003.662109\"/>\n      <use xlink:href=\"#DejaVuSans-73\" x=\"1085.449219\"/>\n     </g>\n    </g>\n    <g id=\"text_7\">\n     <!-- 1e7 -->\n     <g transform=\"translate(437.775 326.794688) scale(0.1 -0.1)\">\n      <defs>\n       <path id=\"DejaVuSans-37\" d=\"M 525 4666 \nL 3525 4666 \nL 3525 4397 \nL 1831 0 \nL 1172 0 \nL 2766 4134 \nL 525 4134 \nL 525 4666 \nz\n\" transform=\"scale(0.015625)\"/>\n      </defs>\n      <use xlink:href=\"#DejaVuSans-31\"/>\n      <use xlink:href=\"#DejaVuSans-65\" x=\"63.623047\"/>\n      <use xlink:href=\"#DejaVuSans-37\" x=\"125.146484\"/>\n     </g>\n    </g>\n   </g>\n   <g id=\"matplotlib.axis_2\">\n    <g id=\"ytick_1\">\n     <g id=\"line2d_11\">\n      <path d=\"M 66.053125 286.918125 \nL 456.653125 286.918125 \n\" clip-path=\"url(#p84051da3d1)\" style=\"fill: none; stroke: #b0b0b0; stroke-width: 0.8; stroke-linecap: square\"/>\n     </g>\n     <g id=\"line2d_12\">\n      <defs>\n       <path id=\"m3a6f8b933e\" d=\"M 0 0 \nL -3.5 0 \n\" style=\"stroke: #000000; stroke-width: 0.8\"/>\n      </defs>\n      <g>\n       <use xlink:href=\"#m3a6f8b933e\" x=\"66.053125\" y=\"286.918125\" style=\"stroke: #000000; stroke-width: 0.8\"/>\n      </g>\n     </g>\n     <g id=\"text_8\">\n      <!-- 0 -->\n      <g transform=\"translate(52.690625 290.717344) scale(0.1 -0.1)\">\n       <use xlink:href=\"#DejaVuSans-30\"/>\n      </g>\n     </g>\n    </g>\n    <g id=\"ytick_2\">\n     <g id=\"line2d_13\">\n      <path d=\"M 66.053125 251.971903 \nL 456.653125 251.971903 \n\" clip-path=\"url(#p84051da3d1)\" style=\"fill: none; stroke: #b0b0b0; stroke-width: 0.8; stroke-linecap: square\"/>\n     </g>\n     <g id=\"line2d_14\">\n      <g>\n       <use xlink:href=\"#m3a6f8b933e\" x=\"66.053125\" y=\"251.971903\" style=\"stroke: #000000; stroke-width: 0.8\"/>\n      </g>\n     </g>\n     <g id=\"text_9\">\n      <!-- 25000 -->\n      <g transform=\"translate(27.240625 255.771122) scale(0.1 -0.1)\">\n       <defs>\n        <path id=\"DejaVuSans-35\" d=\"M 691 4666 \nL 3169 4666 \nL 3169 4134 \nL 1269 4134 \nL 1269 2991 \nQ 1406 3038 1543 3061 \nQ 1681 3084 1819 3084 \nQ 2600 3084 3056 2656 \nQ 3513 2228 3513 1497 \nQ 3513 744 3044 326 \nQ 2575 -91 1722 -91 \nQ 1428 -91 1123 -41 \nQ 819 9 494 109 \nL 494 744 \nQ 775 591 1075 516 \nQ 1375 441 1709 441 \nQ 2250 441 2565 725 \nQ 2881 1009 2881 1497 \nQ 2881 1984 2565 2268 \nQ 2250 2553 1709 2553 \nQ 1456 2553 1204 2497 \nQ 953 2441 691 2322 \nL 691 4666 \nz\n\" transform=\"scale(0.015625)\"/>\n       </defs>\n       <use xlink:href=\"#DejaVuSans-32\"/>\n       <use xlink:href=\"#DejaVuSans-35\" x=\"63.623047\"/>\n       <use xlink:href=\"#DejaVuSans-30\" x=\"127.246094\"/>\n       <use xlink:href=\"#DejaVuSans-30\" x=\"190.869141\"/>\n       <use xlink:href=\"#DejaVuSans-30\" x=\"254.492188\"/>\n      </g>\n     </g>\n    </g>\n    <g id=\"ytick_3\">\n     <g id=\"line2d_15\">\n      <path d=\"M 66.053125 217.025682 \nL 456.653125 217.025682 \n\" clip-path=\"url(#p84051da3d1)\" style=\"fill: none; stroke: #b0b0b0; stroke-width: 0.8; stroke-linecap: square\"/>\n     </g>\n     <g id=\"line2d_16\">\n      <g>\n       <use xlink:href=\"#m3a6f8b933e\" x=\"66.053125\" y=\"217.025682\" style=\"stroke: #000000; stroke-width: 0.8\"/>\n      </g>\n     </g>\n     <g id=\"text_10\">\n      <!-- 50000 -->\n      <g transform=\"translate(27.240625 220.8249) scale(0.1 -0.1)\">\n       <use xlink:href=\"#DejaVuSans-35\"/>\n       <use xlink:href=\"#DejaVuSans-30\" x=\"63.623047\"/>\n       <use xlink:href=\"#DejaVuSans-30\" x=\"127.246094\"/>\n       <use xlink:href=\"#DejaVuSans-30\" x=\"190.869141\"/>\n       <use xlink:href=\"#DejaVuSans-30\" x=\"254.492188\"/>\n      </g>\n     </g>\n    </g>\n    <g id=\"ytick_4\">\n     <g id=\"line2d_17\">\n      <path d=\"M 66.053125 182.07946 \nL 456.653125 182.07946 \n\" clip-path=\"url(#p84051da3d1)\" style=\"fill: none; stroke: #b0b0b0; stroke-width: 0.8; stroke-linecap: square\"/>\n     </g>\n     <g id=\"line2d_18\">\n      <g>\n       <use xlink:href=\"#m3a6f8b933e\" x=\"66.053125\" y=\"182.07946\" style=\"stroke: #000000; stroke-width: 0.8\"/>\n      </g>\n     </g>\n     <g id=\"text_11\">\n      <!-- 75000 -->\n      <g transform=\"translate(27.240625 185.878679) scale(0.1 -0.1)\">\n       <use xlink:href=\"#DejaVuSans-37\"/>\n       <use xlink:href=\"#DejaVuSans-35\" x=\"63.623047\"/>\n       <use xlink:href=\"#DejaVuSans-30\" x=\"127.246094\"/>\n       <use xlink:href=\"#DejaVuSans-30\" x=\"190.869141\"/>\n       <use xlink:href=\"#DejaVuSans-30\" x=\"254.492188\"/>\n      </g>\n     </g>\n    </g>\n    <g id=\"ytick_5\">\n     <g id=\"line2d_19\">\n      <path d=\"M 66.053125 147.133238 \nL 456.653125 147.133238 \n\" clip-path=\"url(#p84051da3d1)\" style=\"fill: none; stroke: #b0b0b0; stroke-width: 0.8; stroke-linecap: square\"/>\n     </g>\n     <g id=\"line2d_20\">\n      <g>\n       <use xlink:href=\"#m3a6f8b933e\" x=\"66.053125\" y=\"147.133238\" style=\"stroke: #000000; stroke-width: 0.8\"/>\n      </g>\n     </g>\n     <g id=\"text_12\">\n      <!-- 100000 -->\n      <g transform=\"translate(20.878125 150.932457) scale(0.1 -0.1)\">\n       <use xlink:href=\"#DejaVuSans-31\"/>\n       <use xlink:href=\"#DejaVuSans-30\" x=\"63.623047\"/>\n       <use xlink:href=\"#DejaVuSans-30\" x=\"127.246094\"/>\n       <use xlink:href=\"#DejaVuSans-30\" x=\"190.869141\"/>\n       <use xlink:href=\"#DejaVuSans-30\" x=\"254.492188\"/>\n       <use xlink:href=\"#DejaVuSans-30\" x=\"318.115234\"/>\n      </g>\n     </g>\n    </g>\n    <g id=\"ytick_6\">\n     <g id=\"line2d_21\">\n      <path d=\"M 66.053125 112.187017 \nL 456.653125 112.187017 \n\" clip-path=\"url(#p84051da3d1)\" style=\"fill: none; stroke: #b0b0b0; stroke-width: 0.8; stroke-linecap: square\"/>\n     </g>\n     <g id=\"line2d_22\">\n      <g>\n       <use xlink:href=\"#m3a6f8b933e\" x=\"66.053125\" y=\"112.187017\" style=\"stroke: #000000; stroke-width: 0.8\"/>\n      </g>\n     </g>\n     <g id=\"text_13\">\n      <!-- 125000 -->\n      <g transform=\"translate(20.878125 115.986236) scale(0.1 -0.1)\">\n       <use xlink:href=\"#DejaVuSans-31\"/>\n       <use xlink:href=\"#DejaVuSans-32\" x=\"63.623047\"/>\n       <use xlink:href=\"#DejaVuSans-35\" x=\"127.246094\"/>\n       <use xlink:href=\"#DejaVuSans-30\" x=\"190.869141\"/>\n       <use xlink:href=\"#DejaVuSans-30\" x=\"254.492188\"/>\n       <use xlink:href=\"#DejaVuSans-30\" x=\"318.115234\"/>\n      </g>\n     </g>\n    </g>\n    <g id=\"ytick_7\">\n     <g id=\"line2d_23\">\n      <path d=\"M 66.053125 77.240795 \nL 456.653125 77.240795 \n\" clip-path=\"url(#p84051da3d1)\" style=\"fill: none; stroke: #b0b0b0; stroke-width: 0.8; stroke-linecap: square\"/>\n     </g>\n     <g id=\"line2d_24\">\n      <g>\n       <use xlink:href=\"#m3a6f8b933e\" x=\"66.053125\" y=\"77.240795\" style=\"stroke: #000000; stroke-width: 0.8\"/>\n      </g>\n     </g>\n     <g id=\"text_14\">\n      <!-- 150000 -->\n      <g transform=\"translate(20.878125 81.040014) scale(0.1 -0.1)\">\n       <use xlink:href=\"#DejaVuSans-31\"/>\n       <use xlink:href=\"#DejaVuSans-35\" x=\"63.623047\"/>\n       <use xlink:href=\"#DejaVuSans-30\" x=\"127.246094\"/>\n       <use xlink:href=\"#DejaVuSans-30\" x=\"190.869141\"/>\n       <use xlink:href=\"#DejaVuSans-30\" x=\"254.492188\"/>\n       <use xlink:href=\"#DejaVuSans-30\" x=\"318.115234\"/>\n      </g>\n     </g>\n    </g>\n    <g id=\"ytick_8\">\n     <g id=\"line2d_25\">\n      <path d=\"M 66.053125 42.294573 \nL 456.653125 42.294573 \n\" clip-path=\"url(#p84051da3d1)\" style=\"fill: none; stroke: #b0b0b0; stroke-width: 0.8; stroke-linecap: square\"/>\n     </g>\n     <g id=\"line2d_26\">\n      <g>\n       <use xlink:href=\"#m3a6f8b933e\" x=\"66.053125\" y=\"42.294573\" style=\"stroke: #000000; stroke-width: 0.8\"/>\n      </g>\n     </g>\n     <g id=\"text_15\">\n      <!-- 175000 -->\n      <g transform=\"translate(20.878125 46.093792) scale(0.1 -0.1)\">\n       <use xlink:href=\"#DejaVuSans-31\"/>\n       <use xlink:href=\"#DejaVuSans-37\" x=\"63.623047\"/>\n       <use xlink:href=\"#DejaVuSans-35\" x=\"127.246094\"/>\n       <use xlink:href=\"#DejaVuSans-30\" x=\"190.869141\"/>\n       <use xlink:href=\"#DejaVuSans-30\" x=\"254.492188\"/>\n       <use xlink:href=\"#DejaVuSans-30\" x=\"318.115234\"/>\n      </g>\n     </g>\n    </g>\n    <g id=\"text_16\">\n     <!-- number of comments -->\n     <g transform=\"translate(14.798438 214.789219) rotate(-90) scale(0.1 -0.1)\">\n      <defs>\n       <path id=\"DejaVuSans-63\" d=\"M 3122 3366 \nL 3122 2828 \nQ 2878 2963 2633 3030 \nQ 2388 3097 2138 3097 \nQ 1578 3097 1268 2742 \nQ 959 2388 959 1747 \nQ 959 1106 1268 751 \nQ 1578 397 2138 397 \nQ 2388 397 2633 464 \nQ 2878 531 3122 666 \nL 3122 134 \nQ 2881 22 2623 -34 \nQ 2366 -91 2075 -91 \nQ 1284 -91 818 406 \nQ 353 903 353 1747 \nQ 353 2603 823 3093 \nQ 1294 3584 2113 3584 \nQ 2378 3584 2631 3529 \nQ 2884 3475 3122 3366 \nz\n\" transform=\"scale(0.015625)\"/>\n       <path id=\"DejaVuSans-74\" d=\"M 1172 4494 \nL 1172 3500 \nL 2356 3500 \nL 2356 3053 \nL 1172 3053 \nL 1172 1153 \nQ 1172 725 1289 603 \nQ 1406 481 1766 481 \nL 2356 481 \nL 2356 0 \nL 1766 0 \nQ 1100 0 847 248 \nQ 594 497 594 1153 \nL 594 3053 \nL 172 3053 \nL 172 3500 \nL 594 3500 \nL 594 4494 \nL 1172 4494 \nz\n\" transform=\"scale(0.015625)\"/>\n      </defs>\n      <use xlink:href=\"#DejaVuSans-6e\"/>\n      <use xlink:href=\"#DejaVuSans-75\" x=\"63.378906\"/>\n      <use xlink:href=\"#DejaVuSans-6d\" x=\"126.757812\"/>\n      <use xlink:href=\"#DejaVuSans-62\" x=\"224.169922\"/>\n      <use xlink:href=\"#DejaVuSans-65\" x=\"287.646484\"/>\n      <use xlink:href=\"#DejaVuSans-72\" x=\"349.169922\"/>\n      <use xlink:href=\"#DejaVuSans-20\" x=\"390.283203\"/>\n      <use xlink:href=\"#DejaVuSans-6f\" x=\"422.070312\"/>\n      <use xlink:href=\"#DejaVuSans-66\" x=\"483.251953\"/>\n      <use xlink:href=\"#DejaVuSans-20\" x=\"518.457031\"/>\n      <use xlink:href=\"#DejaVuSans-63\" x=\"550.244141\"/>\n      <use xlink:href=\"#DejaVuSans-6f\" x=\"605.224609\"/>\n      <use xlink:href=\"#DejaVuSans-6d\" x=\"666.40625\"/>\n      <use xlink:href=\"#DejaVuSans-6d\" x=\"763.818359\"/>\n      <use xlink:href=\"#DejaVuSans-65\" x=\"861.230469\"/>\n      <use xlink:href=\"#DejaVuSans-6e\" x=\"922.753906\"/>\n      <use xlink:href=\"#DejaVuSans-74\" x=\"986.132812\"/>\n      <use xlink:href=\"#DejaVuSans-73\" x=\"1025.341797\"/>\n     </g>\n    </g>\n   </g>\n   <g id=\"PathCollection_1\">\n    <defs>\n     <path id=\"m92b68723df\" d=\"M 0 2.345208 \nC 0.621956 2.345208 1.218523 2.098102 1.658312 1.658312 \nC 2.098102 1.218523 2.345208 0.621956 2.345208 0 \nC 2.345208 -0.621956 2.098102 -1.218523 1.658312 -1.658312 \nC 1.218523 -2.098102 0.621956 -2.345208 0 -2.345208 \nC -0.621956 -2.345208 -1.218523 -2.098102 -1.658312 -1.658312 \nC -2.098102 -1.218523 -2.345208 -0.621956 -2.345208 0 \nC -2.345208 0.621956 -2.098102 1.218523 -1.658312 1.658312 \nC -1.218523 2.098102 -0.621956 2.345208 0 2.345208 \nz\n\" style=\"stroke: #008000\"/>\n    </defs>\n    <g clip-path=\"url(#p84051da3d1)\">\n     <use xlink:href=\"#m92b68723df\" x=\"107.949018\" y=\"252.388462\" style=\"fill: #008000; stroke: #008000\"/>\n     <use xlink:href=\"#m92b68723df\" x=\"90.061963\" y=\"284.088879\" style=\"fill: #008000; stroke: #008000\"/>\n     <use xlink:href=\"#m92b68723df\" x=\"85.704588\" y=\"286.105975\" style=\"fill: #008000; stroke: #008000\"/>\n     <use xlink:href=\"#m92b68723df\" x=\"85.019155\" y=\"286.501566\" style=\"fill: #008000; stroke: #008000\"/>\n     <use xlink:href=\"#m92b68723df\" x=\"88.810281\" y=\"284.91361\" style=\"fill: #008000; stroke: #008000\"/>\n     <use xlink:href=\"#m92b68723df\" x=\"87.288923\" y=\"286.142319\" style=\"fill: #008000; stroke: #008000\"/>\n     <use xlink:href=\"#m92b68723df\" x=\"85.151015\" y=\"284.171352\" style=\"fill: #008000; stroke: #008000\"/>\n     <use xlink:href=\"#m92b68723df\" x=\"85.385649\" y=\"286.484792\" style=\"fill: #008000; stroke: #008000\"/>\n     <use xlink:href=\"#m92b68723df\" x=\"85.525159\" y=\"285.72576\" style=\"fill: #008000; stroke: #008000\"/>\n     <use xlink:href=\"#m92b68723df\" x=\"84.327449\" y=\"286.452641\" style=\"fill: #008000; stroke: #008000\"/>\n     <use xlink:href=\"#m92b68723df\" x=\"84.902997\" y=\"285.840384\" style=\"fill: #008000; stroke: #008000\"/>\n     <use xlink:href=\"#m92b68723df\" x=\"91.590807\" y=\"284.915008\" style=\"fill: #008000; stroke: #008000\"/>\n     <use xlink:href=\"#m92b68723df\" x=\"86.30342\" y=\"283.285116\" style=\"fill: #008000; stroke: #008000\"/>\n     <use xlink:href=\"#m92b68723df\" x=\"87.531524\" y=\"285.082749\" style=\"fill: #008000; stroke: #008000\"/>\n     <use xlink:href=\"#m92b68723df\" x=\"84.138045\" y=\"286.605007\" style=\"fill: #008000; stroke: #008000\"/>\n     <use xlink:href=\"#m92b68723df\" x=\"87.306128\" y=\"285.383287\" style=\"fill: #008000; stroke: #008000\"/>\n     <use xlink:href=\"#m92b68723df\" x=\"85.345279\" y=\"286.7392\" style=\"fill: #008000; stroke: #008000\"/>\n     <use xlink:href=\"#m92b68723df\" x=\"84.86733\" y=\"286.599415\" style=\"fill: #008000; stroke: #008000\"/>\n     <use xlink:href=\"#m92b68723df\" x=\"83.968697\" y=\"286.546297\" style=\"fill: #008000; stroke: #008000\"/>\n     <use xlink:href=\"#m92b68723df\" x=\"87.427357\" y=\"284.861889\" style=\"fill: #008000; stroke: #008000\"/>\n     <use xlink:href=\"#m92b68723df\" x=\"84.369225\" y=\"286.311459\" style=\"fill: #008000; stroke: #008000\"/>\n     <use xlink:href=\"#m92b68723df\" x=\"86.759484\" y=\"284.959739\" style=\"fill: #008000; stroke: #008000\"/>\n     <use xlink:href=\"#m92b68723df\" x=\"84.58144\" y=\"286.631566\" style=\"fill: #008000; stroke: #008000\"/>\n     <use xlink:href=\"#m92b68723df\" x=\"84.011918\" y=\"286.845437\" style=\"fill: #008000; stroke: #008000\"/>\n     <use xlink:href=\"#m92b68723df\" x=\"96.694304\" y=\"277.653183\" style=\"fill: #008000; stroke: #008000\"/>\n     <use xlink:href=\"#m92b68723df\" x=\"87.083419\" y=\"285.913072\" style=\"fill: #008000; stroke: #008000\"/>\n     <use xlink:href=\"#m92b68723df\" x=\"83.983578\" y=\"286.810491\" style=\"fill: #008000; stroke: #008000\"/>\n     <use xlink:href=\"#m92b68723df\" x=\"89.371325\" y=\"283.627589\" style=\"fill: #008000; stroke: #008000\"/>\n     <use xlink:href=\"#m92b68723df\" x=\"84.800569\" y=\"284.150384\" style=\"fill: #008000; stroke: #008000\"/>\n     <use xlink:href=\"#m92b68723df\" x=\"84.422542\" y=\"286.693071\" style=\"fill: #008000; stroke: #008000\"/>\n     <use xlink:href=\"#m92b68723df\" x=\"85.774125\" y=\"285.559416\" style=\"fill: #008000; stroke: #008000\"/>\n     <use xlink:href=\"#m92b68723df\" x=\"89.161751\" y=\"285.74533\" style=\"fill: #008000; stroke: #008000\"/>\n     <use xlink:href=\"#m92b68723df\" x=\"87.158816\" y=\"285.682427\" style=\"fill: #008000; stroke: #008000\"/>\n     <use xlink:href=\"#m92b68723df\" x=\"89.191257\" y=\"286.129738\" style=\"fill: #008000; stroke: #008000\"/>\n     <use xlink:href=\"#m92b68723df\" x=\"84.277848\" y=\"285.696405\" style=\"fill: #008000; stroke: #008000\"/>\n     <use xlink:href=\"#m92b68723df\" x=\"83.883956\" y=\"286.852426\" style=\"fill: #008000; stroke: #008000\"/>\n     <use xlink:href=\"#m92b68723df\" x=\"86.396309\" y=\"286.325437\" style=\"fill: #008000; stroke: #008000\"/>\n     <use xlink:href=\"#m92b68723df\" x=\"129.197774\" y=\"286.71963\" style=\"fill: #008000; stroke: #008000\"/>\n     <use xlink:href=\"#m92b68723df\" x=\"84.289871\" y=\"286.796512\" style=\"fill: #008000; stroke: #008000\"/>\n     <use xlink:href=\"#m92b68723df\" x=\"84.271537\" y=\"286.743394\" style=\"fill: #008000; stroke: #008000\"/>\n     <use xlink:href=\"#m92b68723df\" x=\"83.826441\" y=\"286.509953\" style=\"fill: #008000; stroke: #008000\"/>\n     <use xlink:href=\"#m92b68723df\" x=\"103.664317\" y=\"268.662219\" style=\"fill: #008000; stroke: #008000\"/>\n     <use xlink:href=\"#m92b68723df\" x=\"83.80767\" y=\"286.87619\" style=\"fill: #008000; stroke: #008000\"/>\n     <use xlink:href=\"#m92b68723df\" x=\"83.852163\" y=\"285.423825\" style=\"fill: #008000; stroke: #008000\"/>\n     <use xlink:href=\"#m92b68723df\" x=\"85.41453\" y=\"286.198233\" style=\"fill: #008000; stroke: #008000\"/>\n     <use xlink:href=\"#m92b68723df\" x=\"438.89858\" y=\"34.918125\" style=\"fill: #008000; stroke: #008000\"/>\n     <use xlink:href=\"#m92b68723df\" x=\"90.565657\" y=\"282.865761\" style=\"fill: #008000; stroke: #008000\"/>\n     <use xlink:href=\"#m92b68723df\" x=\"84.596216\" y=\"285.720169\" style=\"fill: #008000; stroke: #008000\"/>\n     <use xlink:href=\"#m92b68723df\" x=\"84.33179\" y=\"285.798448\" style=\"fill: #008000; stroke: #008000\"/>\n     <use xlink:href=\"#m92b68723df\" x=\"88.680867\" y=\"286.39533\" style=\"fill: #008000; stroke: #008000\"/>\n     <use xlink:href=\"#m92b68723df\" x=\"86.378961\" y=\"285.089739\" style=\"fill: #008000; stroke: #008000\"/>\n     <use xlink:href=\"#m92b68723df\" x=\"85.672155\" y=\"285.113502\" style=\"fill: #008000; stroke: #008000\"/>\n     <use xlink:href=\"#m92b68723df\" x=\"83.833009\" y=\"286.701458\" style=\"fill: #008000; stroke: #008000\"/>\n     <use xlink:href=\"#m92b68723df\" x=\"85.936506\" y=\"286.273717\" style=\"fill: #008000; stroke: #008000\"/>\n     <use xlink:href=\"#m92b68723df\" x=\"84.007713\" y=\"286.63576\" style=\"fill: #008000; stroke: #008000\"/>\n     <use xlink:href=\"#m92b68723df\" x=\"85.006802\" y=\"285.560814\" style=\"fill: #008000; stroke: #008000\"/>\n     <use xlink:href=\"#m92b68723df\" x=\"83.878035\" y=\"286.660921\" style=\"fill: #008000; stroke: #008000\"/>\n     <use xlink:href=\"#m92b68723df\" x=\"87.024903\" y=\"285.486728\" style=\"fill: #008000; stroke: #008000\"/>\n     <use xlink:href=\"#m92b68723df\" x=\"83.956517\" y=\"286.62877\" style=\"fill: #008000; stroke: #008000\"/>\n     <use xlink:href=\"#m92b68723df\" x=\"84.380149\" y=\"285.830599\" style=\"fill: #008000; stroke: #008000\"/>\n     <use xlink:href=\"#m92b68723df\" x=\"85.975273\" y=\"285.787265\" style=\"fill: #008000; stroke: #008000\"/>\n     <use xlink:href=\"#m92b68723df\" x=\"85.744619\" y=\"286.091996\" style=\"fill: #008000; stroke: #008000\"/>\n     <use xlink:href=\"#m92b68723df\" x=\"84.176428\" y=\"286.322641\" style=\"fill: #008000; stroke: #008000\"/>\n     <use xlink:href=\"#m92b68723df\" x=\"86.704813\" y=\"286.497372\" style=\"fill: #008000; stroke: #008000\"/>\n     <use xlink:href=\"#m92b68723df\" x=\"84.193867\" y=\"286.691673\" style=\"fill: #008000; stroke: #008000\"/>\n     <use xlink:href=\"#m92b68723df\" x=\"84.090272\" y=\"286.64834\" style=\"fill: #008000; stroke: #008000\"/>\n     <use xlink:href=\"#m92b68723df\" x=\"116.057541\" y=\"276.316839\" style=\"fill: #008000; stroke: #008000\"/>\n     <use xlink:href=\"#m92b68723df\" x=\"84.364937\" y=\"286.61619\" style=\"fill: #008000; stroke: #008000\"/>\n     <use xlink:href=\"#m92b68723df\" x=\"84.091468\" y=\"284.748664\" style=\"fill: #008000; stroke: #008000\"/>\n     <use xlink:href=\"#m92b68723df\" x=\"86.317827\" y=\"286.542104\" style=\"fill: #008000; stroke: #008000\"/>\n     <use xlink:href=\"#m92b68723df\" x=\"84.323432\" y=\"286.610598\" style=\"fill: #008000; stroke: #008000\"/>\n     <use xlink:href=\"#m92b68723df\" x=\"84.119515\" y=\"286.342211\" style=\"fill: #008000; stroke: #008000\"/>\n     <use xlink:href=\"#m92b68723df\" x=\"84.045667\" y=\"286.522534\" style=\"fill: #008000; stroke: #008000\"/>\n     <use xlink:href=\"#m92b68723df\" x=\"84.035458\" y=\"286.799308\" style=\"fill: #008000; stroke: #008000\"/>\n     <use xlink:href=\"#m92b68723df\" x=\"84.85363\" y=\"286.361781\" style=\"fill: #008000; stroke: #008000\"/>\n     <use xlink:href=\"#m92b68723df\" x=\"86.793151\" y=\"286.504362\" style=\"fill: #008000; stroke: #008000\"/>\n     <use xlink:href=\"#m92b68723df\" x=\"94.794009\" y=\"281.167375\" style=\"fill: #008000; stroke: #008000\"/>\n     <use xlink:href=\"#m92b68723df\" x=\"85.043087\" y=\"286.304469\" style=\"fill: #008000; stroke: #008000\"/>\n     <use xlink:href=\"#m92b68723df\" x=\"84.350997\" y=\"286.918125\" style=\"fill: #008000; stroke: #008000\"/>\n     <use xlink:href=\"#m92b68723df\" x=\"84.046728\" y=\"286.655329\" style=\"fill: #008000; stroke: #008000\"/>\n     <use xlink:href=\"#m92b68723df\" x=\"87.095637\" y=\"286.131136\" style=\"fill: #008000; stroke: #008000\"/>\n     <use xlink:href=\"#m92b68723df\" x=\"84.100143\" y=\"286.55748\" style=\"fill: #008000; stroke: #008000\"/>\n     <use xlink:href=\"#m92b68723df\" x=\"84.069629\" y=\"286.431674\" style=\"fill: #008000; stroke: #008000\"/>\n     <use xlink:href=\"#m92b68723df\" x=\"105.176881\" y=\"283.448664\" style=\"fill: #008000; stroke: #008000\"/>\n     <use xlink:href=\"#m92b68723df\" x=\"122.192477\" y=\"281.828557\" style=\"fill: #008000; stroke: #008000\"/>\n     <use xlink:href=\"#m92b68723df\" x=\"84.491131\" y=\"285.822211\" style=\"fill: #008000; stroke: #008000\"/>\n     <use xlink:href=\"#m92b68723df\" x=\"87.674916\" y=\"286.058448\" style=\"fill: #008000; stroke: #008000\"/>\n     <use xlink:href=\"#m92b68723df\" x=\"112.320823\" y=\"277.512\" style=\"fill: #008000; stroke: #008000\"/>\n     <use xlink:href=\"#m92b68723df\" x=\"83.927214\" y=\"286.112964\" style=\"fill: #008000; stroke: #008000\"/>\n     <use xlink:href=\"#m92b68723df\" x=\"85.784364\" y=\"285.802642\" style=\"fill: #008000; stroke: #008000\"/>\n     <use xlink:href=\"#m92b68723df\" x=\"84.094192\" y=\"286.799308\" style=\"fill: #008000; stroke: #008000\"/>\n     <use xlink:href=\"#m92b68723df\" x=\"84.019449\" y=\"286.918125\" style=\"fill: #008000; stroke: #008000\"/>\n     <use xlink:href=\"#m92b68723df\" x=\"83.949099\" y=\"286.37576\" style=\"fill: #008000; stroke: #008000\"/>\n     <use xlink:href=\"#m92b68723df\" x=\"87.254557\" y=\"282.646299\" style=\"fill: #008000; stroke: #008000\"/>\n     <use xlink:href=\"#m92b68723df\" x=\"84.444059\" y=\"286.918125\" style=\"fill: #008000; stroke: #008000\"/>\n     <use xlink:href=\"#m92b68723df\" x=\"91.963484\" y=\"277.70071\" style=\"fill: #008000; stroke: #008000\"/>\n     <use xlink:href=\"#m92b68723df\" x=\"91.137849\" y=\"284.576728\" style=\"fill: #008000; stroke: #008000\"/>\n     <use xlink:href=\"#m92b68723df\" x=\"84.737118\" y=\"286.452641\" style=\"fill: #008000; stroke: #008000\"/>\n     <use xlink:href=\"#m92b68723df\" x=\"87.112338\" y=\"282.876944\" style=\"fill: #008000; stroke: #008000\"/>\n     <use xlink:href=\"#m92b68723df\" x=\"84.662781\" y=\"286.500168\" style=\"fill: #008000; stroke: #008000\"/>\n     <use xlink:href=\"#m92b68723df\" x=\"84.645959\" y=\"285.987158\" style=\"fill: #008000; stroke: #008000\"/>\n     <use xlink:href=\"#m92b68723df\" x=\"94.881496\" y=\"271.302755\" style=\"fill: #008000; stroke: #008000\"/>\n     <use xlink:href=\"#m92b68723df\" x=\"89.067718\" y=\"285.345545\" style=\"fill: #008000; stroke: #008000\"/>\n     <use xlink:href=\"#m92b68723df\" x=\"85.127979\" y=\"286.426082\" style=\"fill: #008000; stroke: #008000\"/>\n     <use xlink:href=\"#m92b68723df\" x=\"86.182372\" y=\"286.459631\" style=\"fill: #008000; stroke: #008000\"/>\n     <use xlink:href=\"#m92b68723df\" x=\"84.183545\" y=\"286.652534\" style=\"fill: #008000; stroke: #008000\"/>\n     <use xlink:href=\"#m92b68723df\" x=\"87.67284\" y=\"285.941029\" style=\"fill: #008000; stroke: #008000\"/>\n     <use xlink:href=\"#m92b68723df\" x=\"85.897987\" y=\"285.724362\" style=\"fill: #008000; stroke: #008000\"/>\n     <use xlink:href=\"#m92b68723df\" x=\"84.275704\" y=\"286.572856\" style=\"fill: #008000; stroke: #008000\"/>\n     <use xlink:href=\"#m92b68723df\" x=\"88.127558\" y=\"285.309201\" style=\"fill: #008000; stroke: #008000\"/>\n     <use xlink:href=\"#m92b68723df\" x=\"84.516673\" y=\"285.858556\" style=\"fill: #008000; stroke: #008000\"/>\n     <use xlink:href=\"#m92b68723df\" x=\"83.872069\" y=\"286.918125\" style=\"fill: #008000; stroke: #008000\"/>\n     <use xlink:href=\"#m92b68723df\" x=\"86.639354\" y=\"285.450384\" style=\"fill: #008000; stroke: #008000\"/>\n     <use xlink:href=\"#m92b68723df\" x=\"84.402388\" y=\"284.89404\" style=\"fill: #008000; stroke: #008000\"/>\n     <use xlink:href=\"#m92b68723df\" x=\"86.491756\" y=\"284.245438\" style=\"fill: #008000; stroke: #008000\"/>\n     <use xlink:href=\"#m92b68723df\" x=\"85.216098\" y=\"286.231781\" style=\"fill: #008000; stroke: #008000\"/>\n     <use xlink:href=\"#m92b68723df\" x=\"84.403388\" y=\"286.572856\" style=\"fill: #008000; stroke: #008000\"/>\n     <use xlink:href=\"#m92b68723df\" x=\"83.878532\" y=\"286.430276\" style=\"fill: #008000; stroke: #008000\"/>\n     <use xlink:href=\"#m92b68723df\" x=\"84.010579\" y=\"286.563071\" style=\"fill: #008000; stroke: #008000\"/>\n     <use xlink:href=\"#m92b68723df\" x=\"84.173757\" y=\"286.358985\" style=\"fill: #008000; stroke: #008000\"/>\n     <use xlink:href=\"#m92b68723df\" x=\"84.196462\" y=\"286.567265\" style=\"fill: #008000; stroke: #008000\"/>\n     <use xlink:href=\"#m92b68723df\" x=\"85.872822\" y=\"286.054254\" style=\"fill: #008000; stroke: #008000\"/>\n     <use xlink:href=\"#m92b68723df\" x=\"87.844692\" y=\"285.483932\" style=\"fill: #008000; stroke: #008000\"/>\n     <use xlink:href=\"#m92b68723df\" x=\"84.159207\" y=\"286.782534\" style=\"fill: #008000; stroke: #008000\"/>\n     <use xlink:href=\"#m92b68723df\" x=\"85.145575\" y=\"286.632964\" style=\"fill: #008000; stroke: #008000\"/>\n     <use xlink:href=\"#m92b68723df\" x=\"84.004064\" y=\"286.547695\" style=\"fill: #008000; stroke: #008000\"/>\n     <use xlink:href=\"#m92b68723df\" x=\"84.144688\" y=\"286.702856\" style=\"fill: #008000; stroke: #008000\"/>\n     <use xlink:href=\"#m92b68723df\" x=\"84.055327\" y=\"286.686082\" style=\"fill: #008000; stroke: #008000\"/>\n     <use xlink:href=\"#m92b68723df\" x=\"86.407963\" y=\"286.298878\" style=\"fill: #008000; stroke: #008000\"/>\n     <use xlink:href=\"#m92b68723df\" x=\"84.300674\" y=\"286.651136\" style=\"fill: #008000; stroke: #008000\"/>\n     <use xlink:href=\"#m92b68723df\" x=\"134.823863\" y=\"252.735129\" style=\"fill: #008000; stroke: #008000\"/>\n     <use xlink:href=\"#m92b68723df\" x=\"85.868443\" y=\"285.693609\" style=\"fill: #008000; stroke: #008000\"/>\n     <use xlink:href=\"#m92b68723df\" x=\"86.748644\" y=\"279.703827\" style=\"fill: #008000; stroke: #008000\"/>\n     <use xlink:href=\"#m92b68723df\" x=\"83.991109\" y=\"286.391136\" style=\"fill: #008000; stroke: #008000\"/>\n     <use xlink:href=\"#m92b68723df\" x=\"84.28237\" y=\"286.428878\" style=\"fill: #008000; stroke: #008000\"/>\n     <use xlink:href=\"#m92b68723df\" x=\"85.692438\" y=\"286.414899\" style=\"fill: #008000; stroke: #008000\"/>\n     <use xlink:href=\"#m92b68723df\" x=\"84.842247\" y=\"286.468018\" style=\"fill: #008000; stroke: #008000\"/>\n     <use xlink:href=\"#m92b68723df\" x=\"84.572126\" y=\"286.656727\" style=\"fill: #008000; stroke: #008000\"/>\n     <use xlink:href=\"#m92b68723df\" x=\"83.915388\" y=\"286.750383\" style=\"fill: #008000; stroke: #008000\"/>\n     <use xlink:href=\"#m92b68723df\" x=\"83.884452\" y=\"286.284899\" style=\"fill: #008000; stroke: #008000\"/>\n     <use xlink:href=\"#m92b68723df\" x=\"88.039152\" y=\"281.610493\" style=\"fill: #008000; stroke: #008000\"/>\n     <use xlink:href=\"#m92b68723df\" x=\"85.862289\" y=\"286.674899\" style=\"fill: #008000; stroke: #008000\"/>\n     <use xlink:href=\"#m92b68723df\" x=\"86.479756\" y=\"285.811029\" style=\"fill: #008000; stroke: #008000\"/>\n     <use xlink:href=\"#m92b68723df\" x=\"87.705317\" y=\"281.678987\" style=\"fill: #008000; stroke: #008000\"/>\n     <use xlink:href=\"#m92b68723df\" x=\"84.183733\" y=\"286.417695\" style=\"fill: #008000; stroke: #008000\"/>\n     <use xlink:href=\"#m92b68723df\" x=\"84.524655\" y=\"286.584039\" style=\"fill: #008000; stroke: #008000\"/>\n     <use xlink:href=\"#m92b68723df\" x=\"84.720138\" y=\"286.013717\" style=\"fill: #008000; stroke: #008000\"/>\n     <use xlink:href=\"#m92b68723df\" x=\"84.876388\" y=\"286.614792\" style=\"fill: #008000; stroke: #008000\"/>\n     <use xlink:href=\"#m92b68723df\" x=\"92.756002\" y=\"283.234793\" style=\"fill: #008000; stroke: #008000\"/>\n     <use xlink:href=\"#m92b68723df\" x=\"84.643281\" y=\"286.603609\" style=\"fill: #008000; stroke: #008000\"/>\n     <use xlink:href=\"#m92b68723df\" x=\"84.665474\" y=\"286.532319\" style=\"fill: #008000; stroke: #008000\"/>\n     <use xlink:href=\"#m92b68723df\" x=\"83.886559\" y=\"286.804899\" style=\"fill: #008000; stroke: #008000\"/>\n     <use xlink:href=\"#m92b68723df\" x=\"84.207687\" y=\"286.644147\" style=\"fill: #008000; stroke: #008000\"/>\n     <use xlink:href=\"#m92b68723df\" x=\"84.930412\" y=\"286.53791\" style=\"fill: #008000; stroke: #008000\"/>\n     <use xlink:href=\"#m92b68723df\" x=\"84.868413\" y=\"286.824469\" style=\"fill: #008000; stroke: #008000\"/>\n     <use xlink:href=\"#m92b68723df\" x=\"89.650458\" y=\"286.442856\" style=\"fill: #008000; stroke: #008000\"/>\n     <use xlink:href=\"#m92b68723df\" x=\"84.110427\" y=\"286.730813\" style=\"fill: #008000; stroke: #008000\"/>\n     <use xlink:href=\"#m92b68723df\" x=\"84.806632\" y=\"286.666512\" style=\"fill: #008000; stroke: #008000\"/>\n     <use xlink:href=\"#m92b68723df\" x=\"84.153776\" y=\"286.811888\" style=\"fill: #008000; stroke: #008000\"/>\n     <use xlink:href=\"#m92b68723df\" x=\"241.694741\" y=\"200.942033\" style=\"fill: #008000; stroke: #008000\"/>\n     <use xlink:href=\"#m92b68723df\" x=\"84.614452\" y=\"286.001136\" style=\"fill: #008000; stroke: #008000\"/>\n     <use xlink:href=\"#m92b68723df\" x=\"85.73933\" y=\"286.290491\" style=\"fill: #008000; stroke: #008000\"/>\n     <use xlink:href=\"#m92b68723df\" x=\"84.569779\" y=\"286.393932\" style=\"fill: #008000; stroke: #008000\"/>\n     <use xlink:href=\"#m92b68723df\" x=\"95.300547\" y=\"278.91544\" style=\"fill: #008000; stroke: #008000\"/>\n     <use xlink:href=\"#m92b68723df\" x=\"86.898047\" y=\"285.616728\" style=\"fill: #008000; stroke: #008000\"/>\n     <use xlink:href=\"#m92b68723df\" x=\"84.419059\" y=\"286.458233\" style=\"fill: #008000; stroke: #008000\"/>\n     <use xlink:href=\"#m92b68723df\" x=\"83.838681\" y=\"286.740598\" style=\"fill: #008000; stroke: #008000\"/>\n     <use xlink:href=\"#m92b68723df\" x=\"122.630892\" y=\"272.376303\" style=\"fill: #008000; stroke: #008000\"/>\n     <use xlink:href=\"#m92b68723df\" x=\"86.151925\" y=\"286.490383\" style=\"fill: #008000; stroke: #008000\"/>\n     <use xlink:href=\"#m92b68723df\" x=\"86.049113\" y=\"286.064039\" style=\"fill: #008000; stroke: #008000\"/>\n     <use xlink:href=\"#m92b68723df\" x=\"84.184749\" y=\"286.670706\" style=\"fill: #008000; stroke: #008000\"/>\n     <use xlink:href=\"#m92b68723df\" x=\"84.974039\" y=\"286.716835\" style=\"fill: #008000; stroke: #008000\"/>\n     <use xlink:href=\"#m92b68723df\" x=\"84.567612\" y=\"286.339416\" style=\"fill: #008000; stroke: #008000\"/>\n     <use xlink:href=\"#m92b68723df\" x=\"84.068861\" y=\"286.776942\" style=\"fill: #008000; stroke: #008000\"/>\n     <use xlink:href=\"#m92b68723df\" x=\"84.650202\" y=\"286.698663\" style=\"fill: #008000; stroke: #008000\"/>\n     <use xlink:href=\"#m92b68723df\" x=\"86.227421\" y=\"285.065975\" style=\"fill: #008000; stroke: #008000\"/>\n     <use xlink:href=\"#m92b68723df\" x=\"84.118733\" y=\"286.809093\" style=\"fill: #008000; stroke: #008000\"/>\n     <use xlink:href=\"#m92b68723df\" x=\"116.85309\" y=\"253.427064\" style=\"fill: #008000; stroke: #008000\"/>\n     <use xlink:href=\"#m92b68723df\" x=\"92.319136\" y=\"285.588771\" style=\"fill: #008000; stroke: #008000\"/>\n     <use xlink:href=\"#m92b68723df\" x=\"88.776487\" y=\"284.210492\" style=\"fill: #008000; stroke: #008000\"/>\n     <use xlink:href=\"#m92b68723df\" x=\"84.603039\" y=\"286.133932\" style=\"fill: #008000; stroke: #008000\"/>\n     <use xlink:href=\"#m92b68723df\" x=\"124.252407\" y=\"280.1763\" style=\"fill: #008000; stroke: #008000\"/>\n     <use xlink:href=\"#m92b68723df\" x=\"83.884084\" y=\"286.234577\" style=\"fill: #008000; stroke: #008000\"/>\n     <use xlink:href=\"#m92b68723df\" x=\"85.064483\" y=\"286.63576\" style=\"fill: #008000; stroke: #008000\"/>\n     <use xlink:href=\"#m92b68723df\" x=\"84.026257\" y=\"286.79791\" style=\"fill: #008000; stroke: #008000\"/>\n     <use xlink:href=\"#m92b68723df\" x=\"84.157951\" y=\"286.62877\" style=\"fill: #008000; stroke: #008000\"/>\n     <use xlink:href=\"#m92b68723df\" x=\"84.998369\" y=\"284.056728\" style=\"fill: #008000; stroke: #008000\"/>\n     <use xlink:href=\"#m92b68723df\" x=\"84.912619\" y=\"286.665114\" style=\"fill: #008000; stroke: #008000\"/>\n     <use xlink:href=\"#m92b68723df\" x=\"84.050858\" y=\"286.591028\" style=\"fill: #008000; stroke: #008000\"/>\n     <use xlink:href=\"#m92b68723df\" x=\"169.255562\" y=\"255.821579\" style=\"fill: #008000; stroke: #008000\"/>\n     <use xlink:href=\"#m92b68723df\" x=\"84.180588\" y=\"286.602211\" style=\"fill: #008000; stroke: #008000\"/>\n     <use xlink:href=\"#m92b68723df\" x=\"83.970759\" y=\"286.762964\" style=\"fill: #008000; stroke: #008000\"/>\n     <use xlink:href=\"#m92b68723df\" x=\"86.695161\" y=\"286.280706\" style=\"fill: #008000; stroke: #008000\"/>\n     <use xlink:href=\"#m92b68723df\" x=\"84.289148\" y=\"286.488985\" style=\"fill: #008000; stroke: #008000\"/>\n     <use xlink:href=\"#m92b68723df\" x=\"109.467141\" y=\"278.412215\" style=\"fill: #008000; stroke: #008000\"/>\n     <use xlink:href=\"#m92b68723df\" x=\"84.889327\" y=\"286.064039\" style=\"fill: #008000; stroke: #008000\"/>\n     <use xlink:href=\"#m92b68723df\" x=\"91.876553\" y=\"282.795869\" style=\"fill: #008000; stroke: #008000\"/>\n     <use xlink:href=\"#m92b68723df\" x=\"85.538942\" y=\"286.598018\" style=\"fill: #008000; stroke: #008000\"/>\n     <use xlink:href=\"#m92b68723df\" x=\"88.481382\" y=\"286.131136\" style=\"fill: #008000; stroke: #008000\"/>\n     <use xlink:href=\"#m92b68723df\" x=\"83.899837\" y=\"286.74619\" style=\"fill: #008000; stroke: #008000\"/>\n    </g>\n   </g>\n   <g id=\"patch_3\">\n    <path d=\"M 66.053125 299.518125 \nL 66.053125 22.318125 \n\" style=\"fill: none; stroke: #000000; stroke-width: 0.8; stroke-linejoin: miter; stroke-linecap: square\"/>\n   </g>\n   <g id=\"patch_4\">\n    <path d=\"M 456.653125 299.518125 \nL 456.653125 22.318125 \n\" style=\"fill: none; stroke: #000000; stroke-width: 0.8; stroke-linejoin: miter; stroke-linecap: square\"/>\n   </g>\n   <g id=\"patch_5\">\n    <path d=\"M 66.053125 299.518125 \nL 456.653125 299.518125 \n\" style=\"fill: none; stroke: #000000; stroke-width: 0.8; stroke-linejoin: miter; stroke-linecap: square\"/>\n   </g>\n   <g id=\"patch_6\">\n    <path d=\"M 66.053125 22.318125 \nL 456.653125 22.318125 \n\" style=\"fill: none; stroke: #000000; stroke-width: 0.8; stroke-linejoin: miter; stroke-linecap: square\"/>\n   </g>\n   <g id=\"text_17\">\n    <!-- Number of comments from views in France -->\n    <g transform=\"translate(132.07 16.318125) scale(0.12 -0.12)\">\n     <defs>\n      <path id=\"DejaVuSans-4e\" d=\"M 628 4666 \nL 1478 4666 \nL 3547 763 \nL 3547 4666 \nL 4159 4666 \nL 4159 0 \nL 3309 0 \nL 1241 3903 \nL 1241 0 \nL 628 0 \nL 628 4666 \nz\n\" transform=\"scale(0.015625)\"/>\n      <path id=\"DejaVuSans-46\" d=\"M 628 4666 \nL 3309 4666 \nL 3309 4134 \nL 1259 4134 \nL 1259 2759 \nL 3109 2759 \nL 3109 2228 \nL 1259 2228 \nL 1259 0 \nL 628 0 \nL 628 4666 \nz\n\" transform=\"scale(0.015625)\"/>\n      <path id=\"DejaVuSans-61\" d=\"M 2194 1759 \nQ 1497 1759 1228 1600 \nQ 959 1441 959 1056 \nQ 959 750 1161 570 \nQ 1363 391 1709 391 \nQ 2188 391 2477 730 \nQ 2766 1069 2766 1631 \nL 2766 1759 \nL 2194 1759 \nz\nM 3341 1997 \nL 3341 0 \nL 2766 0 \nL 2766 531 \nQ 2569 213 2275 61 \nQ 1981 -91 1556 -91 \nQ 1019 -91 701 211 \nQ 384 513 384 1019 \nQ 384 1609 779 1909 \nQ 1175 2209 1959 2209 \nL 2766 2209 \nL 2766 2266 \nQ 2766 2663 2505 2880 \nQ 2244 3097 1772 3097 \nQ 1472 3097 1187 3025 \nQ 903 2953 641 2809 \nL 641 3341 \nQ 956 3463 1253 3523 \nQ 1550 3584 1831 3584 \nQ 2591 3584 2966 3190 \nQ 3341 2797 3341 1997 \nz\n\" transform=\"scale(0.015625)\"/>\n     </defs>\n     <use xlink:href=\"#DejaVuSans-4e\"/>\n     <use xlink:href=\"#DejaVuSans-75\" x=\"74.804688\"/>\n     <use xlink:href=\"#DejaVuSans-6d\" x=\"138.183594\"/>\n     <use xlink:href=\"#DejaVuSans-62\" x=\"235.595703\"/>\n     <use xlink:href=\"#DejaVuSans-65\" x=\"299.072266\"/>\n     <use xlink:href=\"#DejaVuSans-72\" x=\"360.595703\"/>\n     <use xlink:href=\"#DejaVuSans-20\" x=\"401.708984\"/>\n     <use xlink:href=\"#DejaVuSans-6f\" x=\"433.496094\"/>\n     <use xlink:href=\"#DejaVuSans-66\" x=\"494.677734\"/>\n     <use xlink:href=\"#DejaVuSans-20\" x=\"529.882812\"/>\n     <use xlink:href=\"#DejaVuSans-63\" x=\"561.669922\"/>\n     <use xlink:href=\"#DejaVuSans-6f\" x=\"616.650391\"/>\n     <use xlink:href=\"#DejaVuSans-6d\" x=\"677.832031\"/>\n     <use xlink:href=\"#DejaVuSans-6d\" x=\"775.244141\"/>\n     <use xlink:href=\"#DejaVuSans-65\" x=\"872.65625\"/>\n     <use xlink:href=\"#DejaVuSans-6e\" x=\"934.179688\"/>\n     <use xlink:href=\"#DejaVuSans-74\" x=\"997.558594\"/>\n     <use xlink:href=\"#DejaVuSans-73\" x=\"1036.767578\"/>\n     <use xlink:href=\"#DejaVuSans-20\" x=\"1088.867188\"/>\n     <use xlink:href=\"#DejaVuSans-66\" x=\"1120.654297\"/>\n     <use xlink:href=\"#DejaVuSans-72\" x=\"1155.859375\"/>\n     <use xlink:href=\"#DejaVuSans-6f\" x=\"1194.722656\"/>\n     <use xlink:href=\"#DejaVuSans-6d\" x=\"1255.904297\"/>\n     <use xlink:href=\"#DejaVuSans-20\" x=\"1353.316406\"/>\n     <use xlink:href=\"#DejaVuSans-76\" x=\"1385.103516\"/>\n     <use xlink:href=\"#DejaVuSans-69\" x=\"1444.283203\"/>\n     <use xlink:href=\"#DejaVuSans-65\" x=\"1472.066406\"/>\n     <use xlink:href=\"#DejaVuSans-77\" x=\"1533.589844\"/>\n     <use xlink:href=\"#DejaVuSans-73\" x=\"1615.376953\"/>\n     <use xlink:href=\"#DejaVuSans-20\" x=\"1667.476562\"/>\n     <use xlink:href=\"#DejaVuSans-69\" x=\"1699.263672\"/>\n     <use xlink:href=\"#DejaVuSans-6e\" x=\"1727.046875\"/>\n     <use xlink:href=\"#DejaVuSans-20\" x=\"1790.425781\"/>\n     <use xlink:href=\"#DejaVuSans-46\" x=\"1822.212891\"/>\n     <use xlink:href=\"#DejaVuSans-72\" x=\"1872.482422\"/>\n     <use xlink:href=\"#DejaVuSans-61\" x=\"1913.595703\"/>\n     <use xlink:href=\"#DejaVuSans-6e\" x=\"1974.875\"/>\n     <use xlink:href=\"#DejaVuSans-63\" x=\"2038.253906\"/>\n     <use xlink:href=\"#DejaVuSans-65\" x=\"2093.234375\"/>\n    </g>\n   </g>\n  </g>\n </g>\n <defs>\n  <clipPath id=\"p84051da3d1\">\n   <rect x=\"66.053125\" y=\"22.318125\" width=\"390.6\" height=\"277.2\"/>\n  </clipPath>\n </defs>\n</svg>\n"
          },
          "metadata": {}
        }
      ],
      "source": [
        "\n",
        "plt.figure(figsize=(7, 5))\n",
        "\n",
        "\n",
        "plt.title('Number of comments from views in France', fontsize=12)\n",
        "\n",
        "\n",
        "plt.grid(zorder = 1)\n",
        "\n",
        "\n",
        "plt.xlabel(\"number of video views\")\n",
        "plt.ylabel(\"number of comments\")\n",
        "\n",
        "info = data[(data['country'] =='FR') & (data['comments_disabled'] == False)]\n",
        "plt.scatter(info['view_count'], info['comment_count'], color = 'green', s = 22, zorder = 2)\n",
        "\n",
        "correlation = info['view_count'].corr(info['comment_count'])\n",
        "print('correlation =', correlation)\n",
        "\n",
        "plt.show()\n"
      ]
    },
    {
      "cell_type": "markdown",
      "source": [
        "Линейный график зависимости."
      ],
      "metadata": {
        "id": "5v6kHLsIc83C"
      },
      "id": "5v6kHLsIc83C"
    }
  ],
  "metadata": {
    "hide_input": false,
    "kernelspec": {
      "display_name": "Python 3 (ipykernel)",
      "language": "python",
      "name": "python3"
    },
    "language_info": {
      "codemirror_mode": {
        "name": "ipython",
        "version": 3
      },
      "file_extension": ".py",
      "mimetype": "text/x-python",
      "name": "python",
      "nbconvert_exporter": "python",
      "pygments_lexer": "ipython3",
      "version": "3.10.2"
    },
    "colab": {
      "provenance": []
    }
  },
  "nbformat": 4,
  "nbformat_minor": 5
}